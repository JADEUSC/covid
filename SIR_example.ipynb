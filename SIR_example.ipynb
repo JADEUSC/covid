{
 "cells": [
  {
   "cell_type": "code",
   "execution_count": 1,
   "metadata": {},
   "outputs": [],
   "source": [
    "import argparse\n",
    "import os\n",
    "\n",
    "import matplotlib\n",
    "import matplotlib.pyplot as plt\n",
    "from matplotlib.pyplot import cm\n",
    "\n",
    "from jax.experimental.ode import build_odeint\n",
    "import jax.numpy as np\n",
    "from jax.random import PRNGKey\n",
    "\n",
    "import numpyro\n",
    "import numpyro.distributions as dist\n",
    "from numpyro.examples.datasets import LYNXHARE, load_dataset\n",
    "from numpyro.infer import MCMC, NUTS, Predictive"
   ]
  },
  {
   "cell_type": "code",
   "execution_count": 164,
   "metadata": {},
   "outputs": [],
   "source": [
    "# (Could easily generalize this to flows between compartments)\n",
    "def dx_dt(x, t, beta, gamma):\n",
    "    \"\"\"\n",
    "    SIR equations. Real positive parameters `beta`, `gamma`,\n",
    "    describe the infection rate and recovery rate.\n",
    "    \"\"\"\n",
    "    S = x[0]\n",
    "    I = x[1]\n",
    "    R = x[2]\n",
    "    dS_dt = - beta * S * I\n",
    "    dI_dt = beta * S * I - gamma * I\n",
    "    dR_dt = gamma * I\n",
    "    return np.stack([dS_dt, dI_dt, dR_dt])\n",
    "\n",
    "SIR_int = build_odeint(dx_dt, rtol=1e-5, atol=1e-3, mxstep=500)\n",
    "\n",
    "def myBeta(mean, concentration):\n",
    "    alpha = mean * concentration\n",
    "    beta = concentration - alpha\n",
    "    return dist.Beta(alpha, beta)\n",
    "\n",
    "def model_deterministic(ts, beta=2.5/14, gamma=1.0/14, S=0.99, I=0.01):\n",
    "    x_init = np.array([S, I, 1-S-I])\n",
    "    theta = np.array([beta, gamma])\n",
    "    return SIR_int(x_init, ts, *theta)\n",
    "\n",
    "\n",
    "def SIR_stochastic(dt=1.0, \n",
    "                   steps=50,\n",
    "                   X_init=np.array([0.99, 0.01, 0.00])*1e5):\n",
    "    \n",
    "    N = X_init.sum()\n",
    "    \n",
    "    beta_mean = 3/14\n",
    "    beta_scale = 1\n",
    "    \n",
    "    gamma_mean = 1/14\n",
    "    gamma_scale = 0.5\n",
    "        \n",
    "    obs_rate = 0.1\n",
    "    obs_concentration = 400\n",
    "    \n",
    "    theta = numpyro.sample(\n",
    "        \"theta\",\n",
    "        dist.TruncatedNormal(low=0., \n",
    "                             loc=np.array([beta_mean, gamma_mean]),\n",
    "                             scale=np.array([beta_scale, gamma_scale])))\n",
    "\n",
    "    compartments = len(X_init)\n",
    "    \n",
    "    j = 0\n",
    "    def advance(X, theta):\n",
    "        nonlocal j\n",
    "        beta, gamma = theta\n",
    "        S, I, R = X\n",
    "\n",
    "        #print(S, I, R, N)\n",
    "        \n",
    "        rate_SI = beta * I / N\n",
    "        rate_IR = gamma\n",
    "                \n",
    "        p_SI = 1 - np.exp(-rate_SI * dt)\n",
    "        p_IR = 1 - np.exp(-rate_IR * dt)\n",
    "                \n",
    "        n_SI = numpyro.sample(f'n_SI_{j}', dist.Binomial(S, p_SI))\n",
    "        n_IR = numpyro.sample(f'n_IR_{j}', dist.Binomial(I, p_IR))\n",
    "        \n",
    "        #n_SI = numpyro.sample(f'n_SI_{j}', dist.Poisson(S * rate_SI * dt))\n",
    "        #n_IR = numpyro.sample(f'n_IR_{j}', dist.Poisson(I * rate_IR * dt))\n",
    "\n",
    "        j = j + 1\n",
    "        \n",
    "        delta = np.array([n_SI, n_IR])\n",
    "        flow = np.array([-n_SI, n_SI - n_IR, n_IR])\n",
    "        X_new = X + flow\n",
    "\n",
    "        return X_new, delta\n",
    "    \n",
    "\n",
    "    X_rows = [None] * steps\n",
    "    delta_rows = [None] * (steps - 1)\n",
    "    \n",
    "    X_rows[0] = X_init\n",
    "    for i in range(steps - 1):\n",
    "        X_rows[i+1], delta_rows[i] = advance(X_rows[i], theta)\n",
    "        \n",
    "    X = np.vstack(X_rows)\n",
    "    delta = np.vstack(delta_rows)\n",
    "    \n",
    "    n_SI = delta[:,0]\n",
    "    numpyro.deterministic(\"X\", X)\n",
    "        \n",
    "    y = numpyro.sample('y', myBeta(obs_rate * n_SI, obs_concentration))\n",
    "\n",
    "    return X, y\n"
   ]
  },
  {
   "cell_type": "code",
   "execution_count": 166,
   "metadata": {},
   "outputs": [
    {
     "data": {
      "image/png": "[encoded data removed]",
      "text/plain": [
       "<Figure size 432x288 with 1 Axes>"
      ]
     },
     "metadata": {
      "needs_background": "light"
     },
     "output_type": "display_data"
    }
   ],
   "source": [
    "with numpyro.handlers.seed(rng_seed=1):\n",
    "    X, y = SIR_stochastic(dt=1.0,steps=100)\n",
    "\n",
    "plt.plot(X)\n",
    "plt.show()"
   ]
  },
  {
   "cell_type": "code",
   "execution_count": null,
   "metadata": {
    "scrolled": false
   },
   "outputs": [],
   "source": [
    "def model1(ts=ts):\n",
    "    '''\n",
    "    Model with random parameters, deterministic dynamics, and Beta observations\n",
    "    '''\n",
    "    x_init = np.array([0.99, 0.01, 0.00])\n",
    "\n",
    "    beta_mean = 4\n",
    "    beta_scale = 1\n",
    "    \n",
    "    gamma_mean = 2\n",
    "    gamma_scale = 0.5\n",
    "        \n",
    "    obs_rate = 0.1\n",
    "    obs_concentration = 400\n",
    "    \n",
    "    theta = numpyro.sample(\n",
    "        \"theta\",\n",
    "        dist.TruncatedNormal(low=0., \n",
    "                             loc=np.array([beta_mean, gamma_mean]),\n",
    "                             scale=np.array([beta_scale, gamma_scale])))\n",
    "\n",
    "    x = SIR_int(x_init, ts, *theta)\n",
    "    numpyro.deterministic(\"x\", x)\n",
    "    \n",
    "    xx = np.vstack([x_init, x])\n",
    "    new_infections = np.maximum(np.diff(xx[:,1], axis=0), 0)\n",
    "    \n",
    "    y = numpyro.sample('y', myBeta(obs_rate*new_infections, obs_concentration))\n",
    "\n",
    "    return x, y\n",
    "\n",
    "def test_model1(i):\n",
    "    ts = np.linspace(0.0, 5.0, 50)\n",
    "    with numpyro.handlers.seed(rng_seed=i):\n",
    "        x, y = model1(ts)\n",
    "\n",
    "    y_cum = np.cumsum(y)\n",
    "\n",
    "    plt.plot(ts, x)\n",
    "    plt.scatter(ts, y_cum/0.2)\n",
    "    plt.show()\n",
    "\n",
    "for i in range(20):\n",
    "    test_model1(i)"
   ]
  },
  {
   "cell_type": "code",
   "execution_count": null,
   "metadata": {},
   "outputs": [],
   "source": [
    "x.shape"
   ]
  },
  {
   "cell_type": "code",
   "execution_count": null,
   "metadata": {},
   "outputs": [],
   "source": [
    "# def model2(T):\n",
    "#     '''\n",
    "#     Model with random parameters and stochastic dynamics\n",
    "#     Now has discrete time step of 1 day\n",
    "#     '''\n",
    "#     x_init = np.array([0.99, 0.01, 0.00])\n",
    "\n",
    "#     beta_mean = 4\n",
    "#     beta_scale = 1\n",
    "    \n",
    "#     gamma_mean = 2\n",
    "#     gamma_scale = 0.5\n",
    "        \n",
    "#     theta = numpyro.sample(\n",
    "#         \"theta\",\n",
    "#         dist.TruncatedNormal(low=0., \n",
    "#                              loc=np.array([beta_mean, gamma_mean]),\n",
    "#                              scale=np.array([beta_scale, gamma_scale])))\n",
    "\n",
    "\n",
    "#     # Simulate the dynamics for T time steps\n",
    "#     for t in range(T):        \n",
    "#         x = SIR_int(x_init, ts, *theta)\n",
    "#         numpyro.deterministic(\"x\", x)\n",
    "    \n",
    "#     return x"
   ]
  },
  {
   "cell_type": "code",
   "execution_count": null,
   "metadata": {},
   "outputs": [],
   "source": [
    "# Samples from the prior predictive\n",
    "\n",
    "ts = np.linspace(0.0, 5.0, 20)\n",
    "prior_predictive = Predictive(model1, posterior_samples = {}, num_samples=100)\n",
    "samples = prior_predictive(PRNGKey(2), ts)\n",
    "mean = samples['x'].mean(axis=0)\n",
    "pi = np.percentile(samples['x'], (10, 90), axis=0)\n",
    "\n",
    "#plt.plot(ts, mean[:,1], color='g')\n",
    "plt.plot(ts, mean[:,1], color='r')\n",
    "plt.plot(ts, mean[:,2], color='b')\n",
    "\n",
    "plt.scatter(ts, samples['y'])\n",
    "\n",
    "#plt.fill_between(ts, pi[0, :, 0], pi[1, :, 0], color=\"g\", alpha=0.1)\n",
    "plt.fill_between(ts, pi[0, :, 1], pi[1, :, 1], color=\"r\", alpha=0.1)\n",
    "plt.fill_between(ts, pi[0, :, 2], pi[1, :, 2], color=\"b\", alpha=0.1)\n",
    "\n",
    "plt.legend(['infected', 'removed'])"
   ]
  },
  {
   "cell_type": "code",
   "execution_count": null,
   "metadata": {},
   "outputs": [],
   "source": [
    "# run the deterministic model\n",
    "ts = np.linspace(0.0, 200.0, 100)\n",
    "gamma = 1/10\n",
    "\n",
    "R0_vals = [1.4, 1.5, 2.0, 2.5, 3.0]\n",
    "\n",
    "n = len(R0_vals)\n",
    "color=iter(cm.Set1(np.linspace(0,1,n)))\n",
    "\n",
    "plt.figure(figsize=(8,5))\n",
    "for R0 in R0_vals:\n",
    "    beta = R0*gamma\n",
    "    c = next(color)\n",
    "    x = model_deterministic(ts, beta, gamma)\n",
    "    plt.plot(ts, x[:,1:], color=c)\n",
    "\n",
    "plt.ylim([0,1])\n",
    "plt.legend(plt.gca().lines[::2], R0_vals)\n",
    "plt.show()"
   ]
  },
  {
   "cell_type": "code",
   "execution_count": null,
   "metadata": {},
   "outputs": [],
   "source": [
    "ts.shape\n",
    "samples['y'].shape"
   ]
  },
  {
   "cell_type": "code",
   "execution_count": null,
   "metadata": {},
   "outputs": [],
   "source": []
  },
  {
   "cell_type": "code",
   "execution_count": null,
   "metadata": {},
   "outputs": [],
   "source": [
    "def myBeta(mean, concentration):\n",
    "    alpha = mean * concentration\n",
    "    beta = concentration - alpha\n",
    "    return dist.Beta(alpha, beta)\n",
    "\n",
    "d = myBeta(0.4, 500)\n",
    "x = np.linspace(0, 1, 100)\n",
    "plt.plot(x, np.exp(d.log_prob(x)))\n",
    "\n",
    "with numpyro.handlers.seed(rng_seed=1):\n",
    "    x = numpyro.sample('x', d, sample_shape=(1000,))\n",
    "\n",
    "plt.hist(x, density=True)\n",
    "plt.show()"
   ]
  },
  {
   "cell_type": "code",
   "execution_count": null,
   "metadata": {},
   "outputs": [],
   "source": []
  },
  {
   "cell_type": "code",
   "execution_count": 69,
   "metadata": {},
   "outputs": [
    {
     "data": {
      "text/plain": [
       "<matplotlib.legend.Legend at 0x1a2cd59690>"
      ]
     },
     "execution_count": 69,
     "metadata": {},
     "output_type": "execute_result"
    },
    {
     "data": {
      "image/png": "[encoded data removed]",
      "text/plain": [
       "<Figure size 432x288 with 1 Axes>"
      ]
     },
     "metadata": {
      "needs_background": "light"
     },
     "output_type": "display_data"
    }
   ],
   "source": [
    "rate = 1\n",
    "d_pois = dist.Poisson(rate)\n",
    "beta = 0.5\n",
    "d_gamma = dist.Gamma(rate*beta, beta)\n",
    "#d_normal = dist.Normal(rate, np.sqrt(rate))\n",
    "# with numpyro.handlers.seed(rng_seed=1):\n",
    "#     x = numpyro.sample('x', d, sample_shape=(1000,))\n",
    "\n",
    "x = np.linspace(0, 10, 100)\n",
    "plt.plot(x, np.exp(d_pois.log_prob(x)))\n",
    "plt.plot(x, np.exp(d_gamma.log_prob(x)))\n",
    "#plt.plot(x, np.exp(d_normal.log_prob(x)))\n",
    "plt.legend(['poisson', 'gamma', 'normal'])"
   ]
  },
  {
   "cell_type": "code",
   "execution_count": null,
   "metadata": {},
   "outputs": [],
   "source": []
  }
 ],
 "metadata": {
  "kernelspec": {
   "display_name": "Python 3",
   "language": "python",
   "name": "python3"
  },
  "language_info": {
   "codemirror_mode": {
    "name": "ipython",
    "version": 3
   },
   "file_extension": ".py",
   "mimetype": "text/x-python",
   "name": "python",
   "nbconvert_exporter": "python",
   "pygments_lexer": "ipython3",
   "version": "3.7.4"
  }
 },
 "nbformat": 4,
 "nbformat_minor": 2
}
