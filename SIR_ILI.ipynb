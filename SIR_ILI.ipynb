{
 "cells": [
  {
   "cell_type": "code",
   "execution_count": 82,
   "metadata": {
    "collapsed": true
   },
   "outputs": [],
   "source": [
    "import argparse\n",
    "import os\n",
    "\n",
    "import matplotlib\n",
    "import matplotlib.pyplot as plt\n",
    "from matplotlib.pyplot import cm\n",
    "\n",
    "import jax\n",
    "from jax.experimental.ode import build_odeint\n",
    "import jax.numpy as np\n",
    "from jax.random import PRNGKey\n",
    "from jax import lax\n",
    "\n",
    "import numpyro\n",
    "import numpyro.distributions as dist\n",
    "from numpyro.examples.datasets import LYNXHARE, load_dataset\n",
    "from numpyro.infer import MCMC, NUTS, Predictive\n",
    "\n",
    "import pandas as pd"
   ]
  },
  {
   "cell_type": "markdown",
   "metadata": {},
   "source": [
    "## Deterministic model"
   ]
  },
  {
   "cell_type": "code",
   "execution_count": 83,
   "metadata": {
    "collapsed": true
   },
   "outputs": [],
   "source": [
    "def dx_dt(x, t, beta, gamma):\n",
    "    \"\"\"\n",
    "    SIR equations. Real positive parameters `beta`, `gamma`,\n",
    "    describe the infection rate and recovery rate.\n",
    "    Also tracks new infections.\n",
    "    \"\"\"\n",
    "    S = x[0]\n",
    "    I = x[1]\n",
    "    R = x[2]\n",
    "    n = S + I + R\n",
    "    I_tot = x[3]\n",
    "    dS_dt = - beta * S * I / n\n",
    "    dI_dt = beta * S * I / n - gamma * I\n",
    "    dR_dt = gamma * I\n",
    "    dItot_dt = beta * S * I / n\n",
    "    return np.stack([dS_dt, dI_dt, dR_dt, dItot_dt])\n",
    "\n",
    "SIR_int = build_odeint(dx_dt, rtol=1e-5, atol=1e-3, mxstep=500)\n",
    "\n"
   ]
  },
  {
   "cell_type": "markdown",
   "metadata": {},
   "source": [
    "## Current model: SIR model for new cases with random parameters/observations, deterministic dynamics"
   ]
  },
  {
   "cell_type": "code",
   "execution_count": 137,
   "metadata": {
    "scrolled": false
   },
   "outputs": [],
   "source": [
    "def SIR_hybrid(T = 50, \n",
    "               N = 1e5, \n",
    "               duration_mean = 10,\n",
    "               R0_mean = 2.2,\n",
    "               gamma_shape = 5,\n",
    "               beta_shape = 5,\n",
    "               det_rate_mean = 0.3,\n",
    "               det_rate_conc = 100,\n",
    "               det_conc = 100,\n",
    "               confirmed = None):\n",
    "\n",
    "    # Sample initial fraction of infected individuals\n",
    "    I_init = numpyro.sample(\"I_init\", dist.Uniform(0, 0.02))\n",
    "\n",
    "    # Sample parameters\n",
    "    gamma = numpyro.sample(\"gamma\", \n",
    "                           dist.Gamma(gamma_shape, gamma_shape * duration_mean))\n",
    "    \n",
    "    beta = numpyro.sample(\"beta\", \n",
    "                          dist.Gamma(beta_shape, beta_shape * duration_mean/R0_mean))\n",
    "\n",
    "    det_rate = numpyro.sample(\"det_rate\", \n",
    "                              dist.Beta(det_rate_mean * det_rate_conc,\n",
    "                                        (1-det_rate_mean) * det_rate_conc))\n",
    "\n",
    "    # Run simultation using ODE solve\n",
    "    x_init = N * np.array([1-I_init, I_init, 0.0, I_init])\n",
    "    t = np.arange(T, dtype='float32')\n",
    "    x = SIR_int(x_init, t, beta, gamma)\n",
    "    numpyro.deterministic(\"x\", x)\n",
    "    \n",
    "    # Compute number of new infections in each time step\n",
    "    latent = x[:,3]   # total number infected\n",
    "    \n",
    "    # Generate noisy observations as latent * Beta(alpha, beta)\n",
    "    alpha = det_rate * det_conc * np.ones(T)\n",
    "    beta = (1-det_rate) * det_conc * np.ones(T)\n",
    "\n",
    "    d = dist.TransformedDistribution(dist.Beta(alpha, beta),\n",
    "                                     dist.transforms.AffineTransform(0, scale=latent))\n",
    "\n",
    "    rw = numpyro.sample(\"rw\", dist.GaussianRandomWalk(scale=.00000000000001,num_steps=T))\n",
    "    d_and_rw = dist.TransformedDistribution(d, dist.transforms.AffineTransform(loc=rw,scale=1))\n",
    "\n",
    "    if confirmed is not None:\n",
    "        t = len(confirmed)\n",
    "        if t < T:\n",
    "            confirmed = np.hstack(confirmed, np.nan * np.ones(t))\n",
    "        mask = ~np.isnan(confirmed)\n",
    "    else:\n",
    "        mask = np.ones(T, dtype='bool')\n",
    "\n",
    "    with numpyro.handlers.mask(mask):\n",
    "        y = numpyro.sample(\"y\", d_and_rw, obs = confirmed)\n",
    "    return x, y, det_rate"
   ]
  },
  {
   "cell_type": "code",
   "execution_count": 138,
   "metadata": {},
   "outputs": [
    {
     "data": {
      "image/png": "[encoded data removed]",
      "text/plain": [
       "<matplotlib.figure.Figure at 0x18a5de240>"
      ]
     },
     "metadata": {},
     "output_type": "display_data"
    }
   ],
   "source": [
    "with numpyro.handlers.seed(rng_seed=1):\n",
    "    x, y, det_rate = SIR_hybrid(T=100, N=1e6)\n",
    "    #plt.plot(x[:,1])\n",
    "    plt.plot(y)\n",
    "    plt.show()"
   ]
  },
  {
   "cell_type": "code",
   "execution_count": 139,
   "metadata": {
    "collapsed": true
   },
   "outputs": [],
   "source": [
    "def plot_samples(samples, plot_fields=['I', 'y'], T=None, t=None, ax=None):\n",
    "    \n",
    "    T_data = samples['x'].shape[1] - 1\n",
    "    if T is None or T > T_data:\n",
    "        T = T_data\n",
    "\n",
    "    X = samples['x']\n",
    "    \n",
    "    labels = {\n",
    "        'S': 'susceptible',\n",
    "        'I': 'infected',\n",
    "        'R': 'removed',\n",
    "        'C': 'confirmed'\n",
    "    }\n",
    "    \n",
    "    fields = {'S': X[:,:T,0],\n",
    "              'I': X[:,:T,1],\n",
    "              'R': X[:,:T,2],\n",
    "              'C': X[:,:T,3]}    \n",
    "    \n",
    "    if 'y' in samples:\n",
    "        fields['y'] = samples['y'][:,:T]\n",
    "    \n",
    "    fields = {k: fields[k] for k in plot_fields}\n",
    "\n",
    "    means = {k: v.mean(axis=0) for k, v in fields.items()}\n",
    "    \n",
    "    pred_intervals = {k: np.percentile(v, (10, 90), axis=0) for k, v in fields.items()}\n",
    "    \n",
    "    # Use pandas to plot means (for better date handling)\n",
    "    if t is None:\n",
    "        t = np.arange(T)        \n",
    "\n",
    "    df = pd.DataFrame(index=t, data=means)\n",
    "    df.plot(ax=ax)\n",
    "    \n",
    "    # Add prediction intervals\n",
    "    for k, pred_interval in pred_intervals.items():\n",
    "        ax = ax if ax is not None else plt.gca()\n",
    "        ax.fill_between(t, pred_interval[0,:], pred_interval[1,:], alpha=0.1)"
   ]
  },
  {
   "cell_type": "code",
   "execution_count": 140,
   "metadata": {},
   "outputs": [
    {
     "name": "stdout",
     "output_type": "stream",
     "text": [
      "[1.0000e+00 2.0000e+00 1.1000e+01 2.3000e+01 3.1000e+01 7.6000e+01\n",
      " 1.0600e+02 1.4200e+02 1.7300e+02 2.2000e+02 3.2800e+02 4.2100e+02\n",
      " 5.2500e+02 7.3200e+02 9.6700e+02 1.7060e+03 2.4950e+03 5.3650e+03\n",
      " 8.3100e+03 1.1710e+04 1.5793e+04        nan        nan        nan\n",
      "        nan        nan        nan        nan        nan        nan\n",
      "        nan        nan        nan        nan        nan        nan\n",
      "        nan        nan        nan        nan        nan        nan\n",
      "        nan        nan        nan        nan        nan        nan\n",
      "        nan        nan        nan]\n"
     ]
    },
    {
     "name": "stderr",
     "output_type": "stream",
     "text": [
      "sample: 100%|██████████| 6000/6000 [03:07<00:00, 39.55it/s, 1 steps of size 1.18e-38. acc. prob=0.00] \n"
     ]
    },
    {
     "name": "stdout",
     "output_type": "stream",
     "text": [
      "\n",
      "                mean       std    median      5.0%     95.0%     n_eff     r_hat\n",
      "    I_init      0.01      0.00      0.01      0.01      0.01       nan       nan\n",
      "      beta      1.28      0.00      1.28      1.28      1.28       nan       nan\n",
      "  det_rate      0.57      0.00      0.57      0.57      0.57      0.50      1.00\n",
      "     gamma      1.11      0.00      1.11      1.11      1.11      0.50      1.00\n",
      "     rw[0]      0.00      0.00      0.00      0.00      0.00      0.50      1.00\n",
      "     rw[1]      0.00      0.00      0.00      0.00      0.00      0.50      1.00\n",
      "     rw[2]      0.00      0.00      0.00      0.00      0.00      0.50      1.00\n",
      "     rw[3]      0.00      0.00      0.00      0.00      0.00      0.50      1.00\n",
      "     rw[4]      0.00      0.00      0.00      0.00      0.00      0.50      1.00\n",
      "     rw[5]      0.00      0.00      0.00      0.00      0.00      0.50      1.00\n",
      "     rw[6]      0.00      0.00      0.00      0.00      0.00      0.50      1.00\n",
      "     rw[7]      0.00      0.00      0.00      0.00      0.00      0.50      1.00\n",
      "     rw[8]      0.00      0.00      0.00      0.00      0.00      0.50      1.00\n",
      "     rw[9]      0.00      0.00      0.00      0.00      0.00      0.50      1.00\n",
      "    rw[10]      0.00      0.00      0.00      0.00      0.00      0.50      1.00\n",
      "    rw[11]      0.00      0.00      0.00      0.00      0.00      0.50      1.00\n",
      "    rw[12]      0.00      0.00      0.00      0.00      0.00      0.50      1.00\n",
      "    rw[13]      0.00      0.00      0.00      0.00      0.00      0.50      1.00\n",
      "    rw[14]      0.00      0.00      0.00      0.00      0.00      0.50      1.00\n",
      "    rw[15]      0.00      0.00      0.00      0.00      0.00      0.50      1.00\n",
      "    rw[16]      0.00      0.00      0.00      0.00      0.00      0.50      1.00\n",
      "    rw[17]      0.00      0.00      0.00      0.00      0.00      0.50      1.00\n",
      "    rw[18]      0.00      0.00      0.00      0.00      0.00      0.50      1.00\n",
      "    rw[19]      0.00      0.00      0.00      0.00      0.00      0.50      1.00\n",
      "    rw[20]      0.00      0.00      0.00      0.00      0.00      0.50      1.00\n",
      "    rw[21]      0.00      0.00      0.00      0.00      0.00      0.50      1.00\n",
      "    rw[22]      0.00      0.00      0.00      0.00      0.00      0.50      1.00\n",
      "    rw[23]      0.00      0.00      0.00      0.00      0.00      0.50      1.00\n",
      "    rw[24]      0.00      0.00      0.00      0.00      0.00      0.50      1.00\n",
      "    rw[25]      0.00      0.00      0.00      0.00      0.00      0.50      1.00\n",
      "    rw[26]      0.00      0.00      0.00      0.00      0.00      0.50      1.00\n",
      "    rw[27]      0.00      0.00      0.00      0.00      0.00      0.50      1.00\n",
      "    rw[28]      0.00      0.00      0.00      0.00      0.00      0.50      1.00\n",
      "    rw[29]      0.00      0.00      0.00      0.00      0.00      0.50      1.00\n",
      "    rw[30]      0.00      0.00      0.00      0.00      0.00      0.50      1.00\n",
      "    rw[31]      0.00      0.00      0.00      0.00      0.00      0.50      1.00\n",
      "    rw[32]      0.00      0.00      0.00      0.00      0.00      0.50      1.00\n",
      "    rw[33]      0.00      0.00      0.00      0.00      0.00      0.50      1.00\n",
      "    rw[34]      0.00      0.00      0.00      0.00      0.00      0.50      1.00\n",
      "    rw[35]      0.00      0.00      0.00      0.00      0.00      0.50      1.00\n",
      "    rw[36]      0.00      0.00      0.00      0.00      0.00      0.50      1.00\n",
      "    rw[37]      0.00      0.00      0.00      0.00      0.00      0.50      1.00\n",
      "    rw[38]      0.00      0.00      0.00      0.00      0.00      0.50      1.00\n",
      "    rw[39]      0.00      0.00      0.00      0.00      0.00      0.50      1.00\n",
      "    rw[40]      0.00      0.00      0.00      0.00      0.00      0.50      1.00\n",
      "    rw[41]      0.00      0.00      0.00      0.00      0.00      0.50      1.00\n",
      "    rw[42]      0.00      0.00      0.00      0.00      0.00      0.50      1.00\n",
      "    rw[43]      0.00      0.00      0.00      0.00      0.00      0.50      1.00\n",
      "    rw[44]      0.00      0.00      0.00      0.00      0.00      0.50      1.00\n",
      "    rw[45]      0.00      0.00      0.00      0.00      0.00      0.50      1.00\n",
      "    rw[46]      0.00      0.00      0.00      0.00      0.00      0.50      1.00\n",
      "    rw[47]      0.00      0.00      0.00      0.00      0.00      0.50      1.00\n",
      "    rw[48]      0.00      0.00      0.00      0.00      0.00      0.50      1.00\n",
      "    rw[49]      0.00      0.00      0.00      0.00      0.00      0.50      1.00\n",
      "    rw[50]      0.00      0.00      0.00      0.00      0.00      0.50      1.00\n",
      "\n",
      "Number of divergences: 5000\n"
     ]
    }
   ],
   "source": [
    "import jhu\n",
    "\n",
    "US = jhu.load_us()\n",
    "\n",
    "pop = {\n",
    "    'tot': 3.27e8,\n",
    "    'MA': 6.902e6,\n",
    "    'WA': 7.536e6,\n",
    "    'NY': 8.632e6\n",
    "}\n",
    "\n",
    "place = 'NY'\n",
    "\n",
    "start = pd.Timestamp('2020-03-02')\n",
    "\n",
    "confirmed = US[place].confirmed[start:]\n",
    "confirmed_data = confirmed.to_numpy()\n",
    "confirmed_data = np.append(confirmed_data,np.repeat(np.nan,30))\n",
    "print (confirmed_data)\n",
    "T = len(confirmed_data)\n",
    "N = pop[place]\n",
    "\n",
    "kernel = NUTS(SIR_hybrid)\n",
    "mcmc = MCMC(kernel, num_warmup=1000, num_samples=5000, num_chains=1)\n",
    "\n",
    "init = {\n",
    "    'I_init': 0.01,\n",
    "    'gamma': 1/10.0,\n",
    "    'beta': 2.5/10.0,\n",
    "    'det_rate' : 0.3,\n",
    "    'rw' : .00000000001* np.ones(T)\n",
    "}\n",
    "\n",
    "mcmc.run(jax.random.PRNGKey(2), N=N, T=T, confirmed=confirmed_data, det_conc=5, init_params=init)\n",
    "mcmc.print_summary()\n",
    "mcmc_samples = mcmc.get_samples()\n"
   ]
  },
  {
   "cell_type": "code",
   "execution_count": 133,
   "metadata": {},
   "outputs": [
    {
     "data": {
      "text/plain": [
       "DeviceArray(0.17885445, dtype=float32)"
      ]
     },
     "execution_count": 133,
     "metadata": {},
     "output_type": "execute_result"
    }
   ],
   "source": [
    "# Visualize posterior predictive samples\n",
    "T = 51\n",
    "post_pred = Predictive(SIR_hybrid, posterior_samples = mcmc_samples)\n",
    "post_pred_samples = post_pred(PRNGKey(2), T=T, N=N)\n",
    "np.mean(mcmc_samples['beta'] - mcmc_samples['gamma'])\n",
    "\n",
    "\n"
   ]
  },
  {
   "cell_type": "code",
   "execution_count": 136,
   "metadata": {
    "scrolled": false
   },
   "outputs": [
    {
     "data": {
      "image/png": "[encoded data removed]",
      "text/plain": [
       "<matplotlib.figure.Figure at 0x1b5279a90>"
      ]
     },
     "metadata": {},
     "output_type": "display_data"
    }
   ],
   "source": [
    "scale = 'notlog'\n",
    "\n",
    "for T in [50]:\n",
    "    \n",
    "    t = pd.date_range(start=start, periods=T, freq='D')\n",
    "    \n",
    "    fig, ax = plt.subplots(figsize=(14,5))\n",
    "    plot_samples(post_pred_samples, T=T, t=t, ax=ax, plot_fields=['I', 'y'])\n",
    "    plt.title('Posterior predictive')\n",
    "    \n",
    "    confirmed.plot(style='o')\n",
    "    \n",
    "    if scale == 'log':\n",
    "        plt.yscale('log')\n",
    "        \n",
    "    #filename = f'figs/{place}_predictive_scale_{scale}_T_{T}.pdf'\n",
    "    #plt.savefig(filename)\n",
    "    plt.show()\n",
    "    "
   ]
  },
  {
   "cell_type": "code",
   "execution_count": null,
   "metadata": {
    "collapsed": true
   },
   "outputs": [],
   "source": []
  }
 ],
 "metadata": {
  "kernelspec": {
   "display_name": "Python 3",
   "language": "python",
   "name": "python3"
  },
  "language_info": {
   "codemirror_mode": {
    "name": "ipython",
    "version": 3
   },
   "file_extension": ".py",
   "mimetype": "text/x-python",
   "name": "python",
   "nbconvert_exporter": "python",
   "pygments_lexer": "ipython3",
   "version": "3.6.4"
  }
 },
 "nbformat": 4,
 "nbformat_minor": 2
}
