{
 "cells": [
  {
   "cell_type": "code",
   "execution_count": 14,
   "metadata": {},
   "outputs": [],
   "source": [
    "import argparse\n",
    "import os\n",
    "\n",
    "import matplotlib\n",
    "import matplotlib.pyplot as plt\n",
    "from matplotlib.pyplot import cm\n",
    "\n",
    "import jax\n",
    "from jax.experimental.ode import build_odeint\n",
    "import jax.numpy as np\n",
    "from jax.random import PRNGKey\n",
    "from jax import lax\n",
    "\n",
    "import numpyro\n",
    "import numpyro.distributions as dist\n",
    "from numpyro.examples.datasets import LYNXHARE, load_dataset\n",
    "from numpyro.infer import MCMC, NUTS, Predictive\n",
    "\n",
    "import pandas as pd"
   ]
  },
  {
   "cell_type": "markdown",
   "metadata": {},
   "source": [
    "## Deterministic model"
   ]
  },
  {
   "cell_type": "code",
   "execution_count": 15,
   "metadata": {},
   "outputs": [],
   "source": [
    "def dx_dt(x, t, beta, gamma):\n",
    "    \"\"\"\n",
    "    SIR equations. Real positive parameters `beta`, `gamma`,\n",
    "    describe the infection rate and recovery rate.\n",
    "    Also tracks new infections.\n",
    "    \"\"\"\n",
    "    S = x[0]\n",
    "    I = x[1]\n",
    "    R = x[2]\n",
    "    n = S + I + R\n",
    "    I_tot = x[3]\n",
    "    dS_dt = - beta * S * I / n\n",
    "    dI_dt = beta * S * I / n - gamma * I\n",
    "    dR_dt = gamma * I\n",
    "    dItot_dt = beta * S * I / n\n",
    "    return np.stack([dS_dt, dI_dt, dR_dt, dItot_dt])\n",
    "\n",
    "SIR_int = build_odeint(dx_dt, rtol=1e-5, atol=1e-3, mxstep=500)\n",
    "\n"
   ]
  },
  {
   "cell_type": "markdown",
   "metadata": {},
   "source": [
    "## Current model: SIR model for new cases with random parameters/observations, deterministic dynamics"
   ]
  },
  {
   "cell_type": "code",
   "execution_count": 39,
   "metadata": {
    "scrolled": false
   },
   "outputs": [],
   "source": [
    "def SIR_hybrid(T = 50, \n",
    "               N = 1e5, \n",
    "               duration_mean = 10,\n",
    "               R0_mean = 2.2,\n",
    "               gamma_shape = 5,\n",
    "               beta_shape = 5,\n",
    "               det_rate_mean = 0.3,\n",
    "               det_rate_conc = 100,\n",
    "               det_conc = 100,\n",
    "               use_rw = True,\n",
    "               rw_scale = 1e-2,\n",
    "               confirmed = None):\n",
    "\n",
    "    # Sample initial fraction of infected individuals\n",
    "    I_init = numpyro.sample(\"I_init\", dist.Uniform(0, 0.02))\n",
    "\n",
    "    # Sample parameters\n",
    "    gamma = numpyro.sample(\"gamma\", \n",
    "                           dist.Gamma(gamma_shape, gamma_shape * duration_mean))\n",
    "    \n",
    "    beta = numpyro.sample(\"beta\", \n",
    "                          dist.Gamma(beta_shape, beta_shape * duration_mean/R0_mean))\n",
    "\n",
    "    det_rate = numpyro.sample(\"det_rate\", \n",
    "                              dist.Beta(det_rate_mean * det_rate_conc,\n",
    "                                        (1-det_rate_mean) * det_rate_conc))\n",
    "\n",
    "    # Run simultation using ODE solve\n",
    "    x_init = N * np.array([1-I_init, I_init, 0.0, I_init])\n",
    "    t = np.arange(T, dtype='float32')\n",
    "    x = SIR_int(x_init, t, beta, gamma)\n",
    "    numpyro.deterministic(\"x\", x)\n",
    "    \n",
    "    # Compute number of new infections in each time step\n",
    "    latent = x[:,3]   # total number infected\n",
    "    \n",
    "    # Generate noisy observations as latent * Beta(alpha, beta)\n",
    "    alpha = det_rate * det_conc * np.ones(T)\n",
    "    beta = (1-det_rate) * det_conc * np.ones(T)\n",
    "\n",
    "    loc = numpyro.sample(\"rw\", dist.GaussianRandomWalk(scale=rw_scale, num_steps=T)) if use_rw else 0.0\n",
    "    y_dist = dist.TransformedDistribution(dist.Beta(alpha, beta), \n",
    "                                          dist.transforms.AffineTransform(loc=loc, scale=latent))\n",
    "\n",
    "    mask = ~np.isnan(confirmed) if confirmed is not None else np.ones(T, dtype='bool')\n",
    "    with numpyro.handlers.mask(mask):\n",
    "        y = numpyro.sample(\"y\", y_dist, obs = confirmed)\n",
    "        \n",
    "    return x, y, det_rate"
   ]
  },
  {
   "cell_type": "code",
   "execution_count": 23,
   "metadata": {},
   "outputs": [
    {
     "data": {
      "image/png": "[encoded data removed]",
      "text/plain": [
       "<Figure size 432x288 with 1 Axes>"
      ]
     },
     "metadata": {
      "needs_background": "light"
     },
     "output_type": "display_data"
    }
   ],
   "source": [
    "with numpyro.handlers.seed(rng_seed=1):\n",
    "    x, y, det_rate = SIR_hybrid(T=100, N=1e6)\n",
    "    #plt.plot(x[:,1])\n",
    "    plt.plot(y)\n",
    "    plt.show()"
   ]
  },
  {
   "cell_type": "code",
   "execution_count": 24,
   "metadata": {},
   "outputs": [],
   "source": [
    "def plot_samples(samples, plot_fields=['I', 'y'], T=None, t=None, ax=None):\n",
    "    \n",
    "    T_data = samples['x'].shape[1] - 1\n",
    "    if T is None or T > T_data:\n",
    "        T = T_data\n",
    "\n",
    "    X = samples['x']\n",
    "    \n",
    "    labels = {\n",
    "        'S': 'susceptible',\n",
    "        'I': 'infected',\n",
    "        'R': 'removed',\n",
    "        'C': 'confirmed'\n",
    "    }\n",
    "    \n",
    "    fields = {'S': X[:,:T,0],\n",
    "              'I': X[:,:T,1],\n",
    "              'R': X[:,:T,2],\n",
    "              'C': X[:,:T,3]}    \n",
    "    \n",
    "    if 'y' in samples:\n",
    "        fields['y'] = samples['y'][:,:T]\n",
    "    \n",
    "    fields = {k: fields[k] for k in plot_fields}\n",
    "\n",
    "    means = {k: v.mean(axis=0) for k, v in fields.items()}\n",
    "    \n",
    "    pred_intervals = {k: np.percentile(v, (10, 90), axis=0) for k, v in fields.items()}\n",
    "    \n",
    "    # Use pandas to plot means (for better date handling)\n",
    "    if t is None:\n",
    "        t = np.arange(T)        \n",
    "\n",
    "    df = pd.DataFrame(index=t, data=means)\n",
    "    df.plot(ax=ax)\n",
    "    \n",
    "    # Add prediction intervals\n",
    "    for k, pred_interval in pred_intervals.items():\n",
    "        ax = ax if ax is not None else plt.gca()\n",
    "        ax.fill_between(t, pred_interval[0,:], pred_interval[1,:], alpha=0.1)"
   ]
  },
  {
   "cell_type": "code",
   "execution_count": 40,
   "metadata": {},
   "outputs": [
    {
     "name": "stdout",
     "output_type": "stream",
     "text": [
      "[    1     2    11    23    31    76   106   142   173   220   328   421\n",
      "   525   732   967  1706  2495  5365  8310 11710 15793]\n"
     ]
    },
    {
     "name": "stderr",
     "output_type": "stream",
     "text": [
      "sample: 100%|██████████| 600/600 [00:32<00:00, 18.67it/s, 31 steps of size 9.10e-02. acc. prob=0.83]  \n"
     ]
    },
    {
     "name": "stdout",
     "output_type": "stream",
     "text": [
      "\n",
      "                mean       std    median      5.0%     95.0%     n_eff     r_hat\n",
      "    I_init      0.00      0.00      0.00      0.00      0.00    197.16      1.00\n",
      "      beta      0.51      0.05      0.50      0.43      0.58    216.23      1.00\n",
      "  det_rate      0.12      0.02      0.12      0.10      0.15    271.97      1.01\n",
      "     gamma      0.12      0.05      0.11      0.04      0.19    213.87      1.00\n",
      "     rw[0]     -0.11      0.09     -0.12     -0.27      0.03    317.40      1.00\n",
      "     rw[1]     -0.14      0.13     -0.14     -0.34      0.08    215.58      1.00\n",
      "     rw[2]     -0.13      0.16     -0.14     -0.40      0.11    166.51      1.00\n",
      "     rw[3]     -0.13      0.18     -0.13     -0.42      0.16    130.00      1.00\n",
      "     rw[4]     -0.12      0.20     -0.13     -0.45      0.20    127.43      1.00\n",
      "     rw[5]     -0.13      0.22     -0.14     -0.44      0.26    124.80      1.00\n",
      "     rw[6]     -0.14      0.23     -0.15     -0.50      0.26    125.79      1.00\n",
      "     rw[7]     -0.14      0.25     -0.15     -0.50      0.33    116.20      1.00\n",
      "     rw[8]     -0.14      0.27     -0.15     -0.54      0.32    102.80      1.00\n",
      "     rw[9]     -0.15      0.29     -0.16     -0.53      0.40    118.27      1.00\n",
      "    rw[10]     -0.15      0.30     -0.15     -0.64      0.35    117.28      1.00\n",
      "    rw[11]     -0.15      0.32     -0.15     -0.62      0.44    102.00      1.00\n",
      "    rw[12]     -0.15      0.33     -0.17     -0.63      0.48    103.05      1.00\n",
      "    rw[13]     -0.15      0.35     -0.15     -0.66      0.47    100.46      1.00\n",
      "    rw[14]     -0.15      0.36     -0.16     -0.72      0.45    102.49      1.00\n",
      "    rw[15]     -0.16      0.38     -0.15     -0.81      0.44     95.86      1.00\n",
      "    rw[16]     -0.16      0.39     -0.17     -0.75      0.54    104.31      1.00\n",
      "    rw[17]     -0.15      0.40     -0.16     -0.76      0.55    103.40      1.00\n",
      "    rw[18]     -0.15      0.42     -0.17     -0.79      0.57    111.22      1.00\n",
      "    rw[19]     -0.15      0.43     -0.17     -0.81      0.58    129.17      1.00\n",
      "    rw[20]     -0.15      0.44     -0.15     -0.97      0.48    132.13      1.00\n",
      "\n",
      "Number of divergences: 1\n"
     ]
    }
   ],
   "source": [
    "import jhu\n",
    "\n",
    "US = jhu.load_us()\n",
    "\n",
    "pop = {\n",
    "    'tot': 3.27e8,\n",
    "    'MA': 6.902e6,\n",
    "    'WA': 7.536e6,\n",
    "    'NY': 8.632e6\n",
    "}\n",
    "\n",
    "place = 'NY'\n",
    "\n",
    "start = pd.Timestamp('2020-03-02')\n",
    "\n",
    "confirmed = US[place].confirmed[start:]\n",
    "confirmed_data = confirmed.to_numpy()\n",
    "#confirmed_data = np.append(confirmed_data,np.repeat(np.nan,30))\n",
    "print (confirmed_data)\n",
    "T = len(confirmed_data)\n",
    "N = pop[place]\n",
    "\n",
    "kernel = NUTS(SIR_hybrid)\n",
    "mcmc = MCMC(kernel, num_warmup=100, num_samples=500, num_chains=1)\n",
    "\n",
    "\n",
    "init = {\n",
    "    'I_init': 0.01,\n",
    "    'gamma': 1/10.0,\n",
    "    'beta': 2.5/10.0,\n",
    "    'det_rate' : 0.3,\n",
    "    'rw' : np.zeros(T)\n",
    "}\n",
    "\n",
    "mcmc.run(jax.random.PRNGKey(2), N=N, T=T, confirmed=confirmed_data, det_conc=100, rw_scale = 1e-1, use_rw=True, init_params=init)\n",
    "mcmc.print_summary()\n",
    "mcmc_samples = mcmc.get_samples()\n"
   ]
  },
  {
   "cell_type": "code",
   "execution_count": 34,
   "metadata": {},
   "outputs": [
    {
     "data": {
      "text/plain": [
       "DeviceArray(0.37241772, dtype=float32)"
      ]
     },
     "execution_count": 34,
     "metadata": {},
     "output_type": "execute_result"
    }
   ],
   "source": [
    "# Visualize posterior predictive samples\n",
    "T = len(confirmed)\n",
    "post_pred = Predictive(SIR_hybrid, posterior_samples = mcmc_samples)\n",
    "post_pred_samples = post_pred(PRNGKey(2), T=T, N=N)\n",
    "np.mean(mcmc_samples['beta'] - mcmc_samples['gamma'])\n",
    "\n",
    "\n"
   ]
  },
  {
   "cell_type": "code",
   "execution_count": 35,
   "metadata": {
    "scrolled": false
   },
   "outputs": [
    {
     "ename": "ValueError",
     "evalue": "Shape of passed values is (19, 2), indices imply (50, 2)",
     "output_type": "error",
     "traceback": [
      "\u001b[0;31m---------------------------------------------------------------------------\u001b[0m",
      "\u001b[0;31mValueError\u001b[0m                                Traceback (most recent call last)",
      "\u001b[0;32m~/opt/anaconda3/lib/python3.7/site-packages/pandas/core/internals/managers.py\u001b[0m in \u001b[0;36mcreate_block_manager_from_arrays\u001b[0;34m(arrays, names, axes)\u001b[0m\n\u001b[1;32m   1694\u001b[0m         \u001b[0mblocks\u001b[0m \u001b[0;34m=\u001b[0m \u001b[0mform_blocks\u001b[0m\u001b[0;34m(\u001b[0m\u001b[0marrays\u001b[0m\u001b[0;34m,\u001b[0m \u001b[0mnames\u001b[0m\u001b[0;34m,\u001b[0m \u001b[0maxes\u001b[0m\u001b[0;34m)\u001b[0m\u001b[0;34m\u001b[0m\u001b[0;34m\u001b[0m\u001b[0m\n\u001b[0;32m-> 1695\u001b[0;31m         \u001b[0mmgr\u001b[0m \u001b[0;34m=\u001b[0m \u001b[0mBlockManager\u001b[0m\u001b[0;34m(\u001b[0m\u001b[0mblocks\u001b[0m\u001b[0;34m,\u001b[0m \u001b[0maxes\u001b[0m\u001b[0;34m)\u001b[0m\u001b[0;34m\u001b[0m\u001b[0;34m\u001b[0m\u001b[0m\n\u001b[0m\u001b[1;32m   1696\u001b[0m         \u001b[0mmgr\u001b[0m\u001b[0;34m.\u001b[0m\u001b[0m_consolidate_inplace\u001b[0m\u001b[0;34m(\u001b[0m\u001b[0;34m)\u001b[0m\u001b[0;34m\u001b[0m\u001b[0;34m\u001b[0m\u001b[0m\n",
      "\u001b[0;32m~/opt/anaconda3/lib/python3.7/site-packages/pandas/core/internals/managers.py\u001b[0m in \u001b[0;36m__init__\u001b[0;34m(self, blocks, axes, do_integrity_check)\u001b[0m\n\u001b[1;32m    142\u001b[0m         \u001b[0;32mif\u001b[0m \u001b[0mdo_integrity_check\u001b[0m\u001b[0;34m:\u001b[0m\u001b[0;34m\u001b[0m\u001b[0;34m\u001b[0m\u001b[0m\n\u001b[0;32m--> 143\u001b[0;31m             \u001b[0mself\u001b[0m\u001b[0;34m.\u001b[0m\u001b[0m_verify_integrity\u001b[0m\u001b[0;34m(\u001b[0m\u001b[0;34m)\u001b[0m\u001b[0;34m\u001b[0m\u001b[0;34m\u001b[0m\u001b[0m\n\u001b[0m\u001b[1;32m    144\u001b[0m \u001b[0;34m\u001b[0m\u001b[0m\n",
      "\u001b[0;32m~/opt/anaconda3/lib/python3.7/site-packages/pandas/core/internals/managers.py\u001b[0m in \u001b[0;36m_verify_integrity\u001b[0;34m(self)\u001b[0m\n\u001b[1;32m    344\u001b[0m             \u001b[0;32mif\u001b[0m \u001b[0mblock\u001b[0m\u001b[0;34m.\u001b[0m\u001b[0m_verify_integrity\u001b[0m \u001b[0;32mand\u001b[0m \u001b[0mblock\u001b[0m\u001b[0;34m.\u001b[0m\u001b[0mshape\u001b[0m\u001b[0;34m[\u001b[0m\u001b[0;36m1\u001b[0m\u001b[0;34m:\u001b[0m\u001b[0;34m]\u001b[0m \u001b[0;34m!=\u001b[0m \u001b[0mmgr_shape\u001b[0m\u001b[0;34m[\u001b[0m\u001b[0;36m1\u001b[0m\u001b[0;34m:\u001b[0m\u001b[0;34m]\u001b[0m\u001b[0;34m:\u001b[0m\u001b[0;34m\u001b[0m\u001b[0;34m\u001b[0m\u001b[0m\n\u001b[0;32m--> 345\u001b[0;31m                 \u001b[0mconstruction_error\u001b[0m\u001b[0;34m(\u001b[0m\u001b[0mtot_items\u001b[0m\u001b[0;34m,\u001b[0m \u001b[0mblock\u001b[0m\u001b[0;34m.\u001b[0m\u001b[0mshape\u001b[0m\u001b[0;34m[\u001b[0m\u001b[0;36m1\u001b[0m\u001b[0;34m:\u001b[0m\u001b[0;34m]\u001b[0m\u001b[0;34m,\u001b[0m \u001b[0mself\u001b[0m\u001b[0;34m.\u001b[0m\u001b[0maxes\u001b[0m\u001b[0;34m)\u001b[0m\u001b[0;34m\u001b[0m\u001b[0;34m\u001b[0m\u001b[0m\n\u001b[0m\u001b[1;32m    346\u001b[0m         \u001b[0;32mif\u001b[0m \u001b[0mlen\u001b[0m\u001b[0;34m(\u001b[0m\u001b[0mself\u001b[0m\u001b[0;34m.\u001b[0m\u001b[0mitems\u001b[0m\u001b[0;34m)\u001b[0m \u001b[0;34m!=\u001b[0m \u001b[0mtot_items\u001b[0m\u001b[0;34m:\u001b[0m\u001b[0;34m\u001b[0m\u001b[0;34m\u001b[0m\u001b[0m\n",
      "\u001b[0;32m~/opt/anaconda3/lib/python3.7/site-packages/pandas/core/internals/managers.py\u001b[0m in \u001b[0;36mconstruction_error\u001b[0;34m(tot_items, block_shape, axes, e)\u001b[0m\n\u001b[1;32m   1718\u001b[0m     raise ValueError(\n\u001b[0;32m-> 1719\u001b[0;31m         \u001b[0;34m\"Shape of passed values is {0}, indices imply {1}\"\u001b[0m\u001b[0;34m.\u001b[0m\u001b[0mformat\u001b[0m\u001b[0;34m(\u001b[0m\u001b[0mpassed\u001b[0m\u001b[0;34m,\u001b[0m \u001b[0mimplied\u001b[0m\u001b[0;34m)\u001b[0m\u001b[0;34m\u001b[0m\u001b[0;34m\u001b[0m\u001b[0m\n\u001b[0m\u001b[1;32m   1720\u001b[0m     )\n",
      "\u001b[0;31mValueError\u001b[0m: Shape of passed values is (19, 2), indices imply (50, 2)",
      "\nDuring handling of the above exception, another exception occurred:\n",
      "\u001b[0;31mValueError\u001b[0m                                Traceback (most recent call last)",
      "\u001b[0;32m<ipython-input-35-95a1424d0d41>\u001b[0m in \u001b[0;36m<module>\u001b[0;34m\u001b[0m\n\u001b[1;32m      6\u001b[0m \u001b[0;34m\u001b[0m\u001b[0m\n\u001b[1;32m      7\u001b[0m     \u001b[0mfig\u001b[0m\u001b[0;34m,\u001b[0m \u001b[0max\u001b[0m \u001b[0;34m=\u001b[0m \u001b[0mplt\u001b[0m\u001b[0;34m.\u001b[0m\u001b[0msubplots\u001b[0m\u001b[0;34m(\u001b[0m\u001b[0mfigsize\u001b[0m\u001b[0;34m=\u001b[0m\u001b[0;34m(\u001b[0m\u001b[0;36m14\u001b[0m\u001b[0;34m,\u001b[0m\u001b[0;36m5\u001b[0m\u001b[0;34m)\u001b[0m\u001b[0;34m)\u001b[0m\u001b[0;34m\u001b[0m\u001b[0;34m\u001b[0m\u001b[0m\n\u001b[0;32m----> 8\u001b[0;31m     \u001b[0mplot_samples\u001b[0m\u001b[0;34m(\u001b[0m\u001b[0mpost_pred_samples\u001b[0m\u001b[0;34m,\u001b[0m \u001b[0mT\u001b[0m\u001b[0;34m=\u001b[0m\u001b[0mT\u001b[0m\u001b[0;34m,\u001b[0m \u001b[0mt\u001b[0m\u001b[0;34m=\u001b[0m\u001b[0mt\u001b[0m\u001b[0;34m,\u001b[0m \u001b[0max\u001b[0m\u001b[0;34m=\u001b[0m\u001b[0max\u001b[0m\u001b[0;34m,\u001b[0m \u001b[0mplot_fields\u001b[0m\u001b[0;34m=\u001b[0m\u001b[0;34m[\u001b[0m\u001b[0;34m'I'\u001b[0m\u001b[0;34m,\u001b[0m \u001b[0;34m'y'\u001b[0m\u001b[0;34m]\u001b[0m\u001b[0;34m)\u001b[0m\u001b[0;34m\u001b[0m\u001b[0;34m\u001b[0m\u001b[0m\n\u001b[0m\u001b[1;32m      9\u001b[0m     \u001b[0mplt\u001b[0m\u001b[0;34m.\u001b[0m\u001b[0mtitle\u001b[0m\u001b[0;34m(\u001b[0m\u001b[0;34m'Posterior predictive'\u001b[0m\u001b[0;34m)\u001b[0m\u001b[0;34m\u001b[0m\u001b[0;34m\u001b[0m\u001b[0m\n\u001b[1;32m     10\u001b[0m \u001b[0;34m\u001b[0m\u001b[0m\n",
      "\u001b[0;32m<ipython-input-24-152638855648>\u001b[0m in \u001b[0;36mplot_samples\u001b[0;34m(samples, plot_fields, T, t, ax)\u001b[0m\n\u001b[1;32m     32\u001b[0m         \u001b[0mt\u001b[0m \u001b[0;34m=\u001b[0m \u001b[0mnp\u001b[0m\u001b[0;34m.\u001b[0m\u001b[0marange\u001b[0m\u001b[0;34m(\u001b[0m\u001b[0mT\u001b[0m\u001b[0;34m)\u001b[0m\u001b[0;34m\u001b[0m\u001b[0;34m\u001b[0m\u001b[0m\n\u001b[1;32m     33\u001b[0m \u001b[0;34m\u001b[0m\u001b[0m\n\u001b[0;32m---> 34\u001b[0;31m     \u001b[0mdf\u001b[0m \u001b[0;34m=\u001b[0m \u001b[0mpd\u001b[0m\u001b[0;34m.\u001b[0m\u001b[0mDataFrame\u001b[0m\u001b[0;34m(\u001b[0m\u001b[0mindex\u001b[0m\u001b[0;34m=\u001b[0m\u001b[0mt\u001b[0m\u001b[0;34m,\u001b[0m \u001b[0mdata\u001b[0m\u001b[0;34m=\u001b[0m\u001b[0mmeans\u001b[0m\u001b[0;34m)\u001b[0m\u001b[0;34m\u001b[0m\u001b[0;34m\u001b[0m\u001b[0m\n\u001b[0m\u001b[1;32m     35\u001b[0m     \u001b[0mdf\u001b[0m\u001b[0;34m.\u001b[0m\u001b[0mplot\u001b[0m\u001b[0;34m(\u001b[0m\u001b[0max\u001b[0m\u001b[0;34m=\u001b[0m\u001b[0max\u001b[0m\u001b[0;34m)\u001b[0m\u001b[0;34m\u001b[0m\u001b[0;34m\u001b[0m\u001b[0m\n\u001b[1;32m     36\u001b[0m \u001b[0;34m\u001b[0m\u001b[0m\n",
      "\u001b[0;32m~/opt/anaconda3/lib/python3.7/site-packages/pandas/core/frame.py\u001b[0m in \u001b[0;36m__init__\u001b[0;34m(self, data, index, columns, dtype, copy)\u001b[0m\n\u001b[1;32m    409\u001b[0m             )\n\u001b[1;32m    410\u001b[0m         \u001b[0;32melif\u001b[0m \u001b[0misinstance\u001b[0m\u001b[0;34m(\u001b[0m\u001b[0mdata\u001b[0m\u001b[0;34m,\u001b[0m \u001b[0mdict\u001b[0m\u001b[0;34m)\u001b[0m\u001b[0;34m:\u001b[0m\u001b[0;34m\u001b[0m\u001b[0;34m\u001b[0m\u001b[0m\n\u001b[0;32m--> 411\u001b[0;31m             \u001b[0mmgr\u001b[0m \u001b[0;34m=\u001b[0m \u001b[0minit_dict\u001b[0m\u001b[0;34m(\u001b[0m\u001b[0mdata\u001b[0m\u001b[0;34m,\u001b[0m \u001b[0mindex\u001b[0m\u001b[0;34m,\u001b[0m \u001b[0mcolumns\u001b[0m\u001b[0;34m,\u001b[0m \u001b[0mdtype\u001b[0m\u001b[0;34m=\u001b[0m\u001b[0mdtype\u001b[0m\u001b[0;34m)\u001b[0m\u001b[0;34m\u001b[0m\u001b[0;34m\u001b[0m\u001b[0m\n\u001b[0m\u001b[1;32m    412\u001b[0m         \u001b[0;32melif\u001b[0m \u001b[0misinstance\u001b[0m\u001b[0;34m(\u001b[0m\u001b[0mdata\u001b[0m\u001b[0;34m,\u001b[0m \u001b[0mma\u001b[0m\u001b[0;34m.\u001b[0m\u001b[0mMaskedArray\u001b[0m\u001b[0;34m)\u001b[0m\u001b[0;34m:\u001b[0m\u001b[0;34m\u001b[0m\u001b[0;34m\u001b[0m\u001b[0m\n\u001b[1;32m    413\u001b[0m             \u001b[0;32mimport\u001b[0m \u001b[0mnumpy\u001b[0m\u001b[0;34m.\u001b[0m\u001b[0mma\u001b[0m\u001b[0;34m.\u001b[0m\u001b[0mmrecords\u001b[0m \u001b[0;32mas\u001b[0m \u001b[0mmrecords\u001b[0m\u001b[0;34m\u001b[0m\u001b[0;34m\u001b[0m\u001b[0m\n",
      "\u001b[0;32m~/opt/anaconda3/lib/python3.7/site-packages/pandas/core/internals/construction.py\u001b[0m in \u001b[0;36minit_dict\u001b[0;34m(data, index, columns, dtype)\u001b[0m\n\u001b[1;32m    255\u001b[0m             \u001b[0marr\u001b[0m \u001b[0;32mif\u001b[0m \u001b[0;32mnot\u001b[0m \u001b[0mis_datetime64tz_dtype\u001b[0m\u001b[0;34m(\u001b[0m\u001b[0marr\u001b[0m\u001b[0;34m)\u001b[0m \u001b[0;32melse\u001b[0m \u001b[0marr\u001b[0m\u001b[0;34m.\u001b[0m\u001b[0mcopy\u001b[0m\u001b[0;34m(\u001b[0m\u001b[0;34m)\u001b[0m \u001b[0;32mfor\u001b[0m \u001b[0marr\u001b[0m \u001b[0;32min\u001b[0m \u001b[0marrays\u001b[0m\u001b[0;34m\u001b[0m\u001b[0;34m\u001b[0m\u001b[0m\n\u001b[1;32m    256\u001b[0m         ]\n\u001b[0;32m--> 257\u001b[0;31m     \u001b[0;32mreturn\u001b[0m \u001b[0marrays_to_mgr\u001b[0m\u001b[0;34m(\u001b[0m\u001b[0marrays\u001b[0m\u001b[0;34m,\u001b[0m \u001b[0mdata_names\u001b[0m\u001b[0;34m,\u001b[0m \u001b[0mindex\u001b[0m\u001b[0;34m,\u001b[0m \u001b[0mcolumns\u001b[0m\u001b[0;34m,\u001b[0m \u001b[0mdtype\u001b[0m\u001b[0;34m=\u001b[0m\u001b[0mdtype\u001b[0m\u001b[0;34m)\u001b[0m\u001b[0;34m\u001b[0m\u001b[0;34m\u001b[0m\u001b[0m\n\u001b[0m\u001b[1;32m    258\u001b[0m \u001b[0;34m\u001b[0m\u001b[0m\n\u001b[1;32m    259\u001b[0m \u001b[0;34m\u001b[0m\u001b[0m\n",
      "\u001b[0;32m~/opt/anaconda3/lib/python3.7/site-packages/pandas/core/internals/construction.py\u001b[0m in \u001b[0;36marrays_to_mgr\u001b[0;34m(arrays, arr_names, index, columns, dtype)\u001b[0m\n\u001b[1;32m     85\u001b[0m     \u001b[0maxes\u001b[0m \u001b[0;34m=\u001b[0m \u001b[0;34m[\u001b[0m\u001b[0mensure_index\u001b[0m\u001b[0;34m(\u001b[0m\u001b[0mcolumns\u001b[0m\u001b[0;34m)\u001b[0m\u001b[0;34m,\u001b[0m \u001b[0mindex\u001b[0m\u001b[0;34m]\u001b[0m\u001b[0;34m\u001b[0m\u001b[0;34m\u001b[0m\u001b[0m\n\u001b[1;32m     86\u001b[0m \u001b[0;34m\u001b[0m\u001b[0m\n\u001b[0;32m---> 87\u001b[0;31m     \u001b[0;32mreturn\u001b[0m \u001b[0mcreate_block_manager_from_arrays\u001b[0m\u001b[0;34m(\u001b[0m\u001b[0marrays\u001b[0m\u001b[0;34m,\u001b[0m \u001b[0marr_names\u001b[0m\u001b[0;34m,\u001b[0m \u001b[0maxes\u001b[0m\u001b[0;34m)\u001b[0m\u001b[0;34m\u001b[0m\u001b[0;34m\u001b[0m\u001b[0m\n\u001b[0m\u001b[1;32m     88\u001b[0m \u001b[0;34m\u001b[0m\u001b[0m\n\u001b[1;32m     89\u001b[0m \u001b[0;34m\u001b[0m\u001b[0m\n",
      "\u001b[0;32m~/opt/anaconda3/lib/python3.7/site-packages/pandas/core/internals/managers.py\u001b[0m in \u001b[0;36mcreate_block_manager_from_arrays\u001b[0;34m(arrays, names, axes)\u001b[0m\n\u001b[1;32m   1697\u001b[0m         \u001b[0;32mreturn\u001b[0m \u001b[0mmgr\u001b[0m\u001b[0;34m\u001b[0m\u001b[0;34m\u001b[0m\u001b[0m\n\u001b[1;32m   1698\u001b[0m     \u001b[0;32mexcept\u001b[0m \u001b[0mValueError\u001b[0m \u001b[0;32mas\u001b[0m \u001b[0me\u001b[0m\u001b[0;34m:\u001b[0m\u001b[0;34m\u001b[0m\u001b[0;34m\u001b[0m\u001b[0m\n\u001b[0;32m-> 1699\u001b[0;31m         \u001b[0mconstruction_error\u001b[0m\u001b[0;34m(\u001b[0m\u001b[0mlen\u001b[0m\u001b[0;34m(\u001b[0m\u001b[0marrays\u001b[0m\u001b[0;34m)\u001b[0m\u001b[0;34m,\u001b[0m \u001b[0marrays\u001b[0m\u001b[0;34m[\u001b[0m\u001b[0;36m0\u001b[0m\u001b[0;34m]\u001b[0m\u001b[0;34m.\u001b[0m\u001b[0mshape\u001b[0m\u001b[0;34m,\u001b[0m \u001b[0maxes\u001b[0m\u001b[0;34m,\u001b[0m \u001b[0me\u001b[0m\u001b[0;34m)\u001b[0m\u001b[0;34m\u001b[0m\u001b[0;34m\u001b[0m\u001b[0m\n\u001b[0m\u001b[1;32m   1700\u001b[0m \u001b[0;34m\u001b[0m\u001b[0m\n\u001b[1;32m   1701\u001b[0m \u001b[0;34m\u001b[0m\u001b[0m\n",
      "\u001b[0;32m~/opt/anaconda3/lib/python3.7/site-packages/pandas/core/internals/managers.py\u001b[0m in \u001b[0;36mconstruction_error\u001b[0;34m(tot_items, block_shape, axes, e)\u001b[0m\n\u001b[1;32m   1717\u001b[0m         \u001b[0;32mraise\u001b[0m \u001b[0mValueError\u001b[0m\u001b[0;34m(\u001b[0m\u001b[0;34m\"Empty data passed with indices specified.\"\u001b[0m\u001b[0;34m)\u001b[0m\u001b[0;34m\u001b[0m\u001b[0;34m\u001b[0m\u001b[0m\n\u001b[1;32m   1718\u001b[0m     raise ValueError(\n\u001b[0;32m-> 1719\u001b[0;31m         \u001b[0;34m\"Shape of passed values is {0}, indices imply {1}\"\u001b[0m\u001b[0;34m.\u001b[0m\u001b[0mformat\u001b[0m\u001b[0;34m(\u001b[0m\u001b[0mpassed\u001b[0m\u001b[0;34m,\u001b[0m \u001b[0mimplied\u001b[0m\u001b[0;34m)\u001b[0m\u001b[0;34m\u001b[0m\u001b[0;34m\u001b[0m\u001b[0m\n\u001b[0m\u001b[1;32m   1720\u001b[0m     )\n\u001b[1;32m   1721\u001b[0m \u001b[0;34m\u001b[0m\u001b[0m\n",
      "\u001b[0;31mValueError\u001b[0m: Shape of passed values is (19, 2), indices imply (50, 2)"
     ]
    },
    {
     "data": {
      "image/png": "[encoded data removed]",
      "text/plain": [
       "<Figure size 1008x360 with 1 Axes>"
      ]
     },
     "metadata": {
      "needs_background": "light"
     },
     "output_type": "display_data"
    }
   ],
   "source": [
    "scale = 'notlog'\n",
    "\n",
    "for T in [50]:\n",
    "    \n",
    "    t = pd.date_range(start=start, periods=T, freq='D')\n",
    "    \n",
    "    fig, ax = plt.subplots(figsize=(14,5))\n",
    "    plot_samples(post_pred_samples, T=T, t=t, ax=ax, plot_fields=['I', 'y'])\n",
    "    plt.title('Posterior predictive')\n",
    "    \n",
    "    confirmed.plot(style='o')\n",
    "    \n",
    "    if scale == 'log':\n",
    "        plt.yscale('log')\n",
    "        \n",
    "    #filename = f'figs/{place}_predictive_scale_{scale}_T_{T}.pdf'\n",
    "    #plt.savefig(filename)\n",
    "    plt.show()\n",
    "    "
   ]
  },
  {
   "cell_type": "code",
   "execution_count": null,
   "metadata": {
    "collapsed": true
   },
   "outputs": [],
   "source": []
  }
 ],
 "metadata": {
  "kernelspec": {
   "display_name": "Python 3",
   "language": "python",
   "name": "python3"
  },
  "language_info": {
   "codemirror_mode": {
    "name": "ipython",
    "version": 3
   },
   "file_extension": ".py",
   "mimetype": "text/x-python",
   "name": "python",
   "nbconvert_exporter": "python",
   "pygments_lexer": "ipython3",
   "version": "3.7.4"
  }
 },
 "nbformat": 4,
 "nbformat_minor": 2
}
