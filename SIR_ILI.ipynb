{
 "cells": [
  {
   "cell_type": "code",
   "execution_count": 3,
   "metadata": {
    "collapsed": true
   },
   "outputs": [],
   "source": [
    "import argparse\n",
    "import os\n",
    "\n",
    "import matplotlib\n",
    "import matplotlib.pyplot as plt\n",
    "from matplotlib.pyplot import cm\n",
    "\n",
    "import jax\n",
    "from jax.experimental.ode import build_odeint\n",
    "import jax.numpy as np\n",
    "from jax.random import PRNGKey\n",
    "from jax import lax\n",
    "\n",
    "import numpyro\n",
    "import numpyro.distributions as dist\n",
    "from numpyro.examples.datasets import LYNXHARE, load_dataset\n",
    "from numpyro.infer import MCMC, NUTS, Predictive\n",
    "\n",
    "import pandas as pd"
   ]
  },
  {
   "cell_type": "markdown",
   "metadata": {},
   "source": [
    "## Deterministic model"
   ]
  },
  {
   "cell_type": "code",
   "execution_count": 4,
   "metadata": {},
   "outputs": [],
   "source": [
    "def dx_dt(x, t, beta, gamma):\n",
    "    \"\"\"\n",
    "    SIR equations. Real positive parameters `beta`, `gamma`,\n",
    "    describe the infection rate and recovery rate.\n",
    "    Also tracks new infections.\n",
    "    \"\"\"\n",
    "    S = x[0]\n",
    "    I = x[1]\n",
    "    R = x[2]\n",
    "    R =1- S - I \n",
    "    I_tot = x[3]\n",
    "    dS_dt = - beta * S * I \n",
    "    dI_dt = beta * S * I  - gamma * I\n",
    "    dR_dt = gamma * I\n",
    "    dItot_dt = beta * S * I \n",
    "    return np.stack([dS_dt, dI_dt, dR_dt, dItot_dt])\n",
    "\n",
    "SIR_int = build_odeint(dx_dt, rtol=1e-5, atol=1e-3, mxstep=500)\n",
    "\n"
   ]
  },
  {
   "cell_type": "markdown",
   "metadata": {},
   "source": [
    "## Current model: SIR model for new cases with random parameters/observations, deterministic dynamics"
   ]
  },
  {
   "cell_type": "code",
   "execution_count": 11,
   "metadata": {
    "collapsed": true,
    "scrolled": false
   },
   "outputs": [],
   "source": [
    "def SIR_hybrid(T = 50,\n",
    "               N = 1e5,\n",
    "               T_future = 0,\n",
    "               duration_mean = 10,\n",
    "               R0_mean = 2.2,\n",
    "               gamma_shape = 5,\n",
    "               beta_shape = 5,\n",
    "               det_rate_mean = 0.3,\n",
    "               det_rate_conc = 100,\n",
    "               scale_down_mean = .1,\n",
    "               scale_down_conc = 100,\n",
    "               det_conc = 100,\n",
    "               use_rw = True,\n",
    "               rw_scale = 1e-2,\n",
    "               confirmed = None,\n",
    "               ili=None):\n",
    "\n",
    "        \n",
    "    # Sample initial fraction of infected individuals\n",
    "    I_init = numpyro.sample(\"I_init\", dist.Uniform(0, 0.02))\n",
    "\n",
    "    # Sample parameters\n",
    "    gamma = numpyro.sample(\"gamma\", \n",
    "                           dist.Gamma(gamma_shape, gamma_shape * duration_mean))\n",
    "    \n",
    "    beta = numpyro.sample(\"beta\", \n",
    "                          dist.Gamma(beta_shape, beta_shape * duration_mean/R0_mean))\n",
    "\n",
    "    det_rate = numpyro.sample(\"det_rate\", \n",
    "                              dist.Beta(det_rate_mean * det_rate_conc,\n",
    "                                        (1-det_rate_mean) * det_rate_conc))\n",
    "\n",
    "    \n",
    "    # Run simultation using ODE solve\n",
    "    x_init = 1* np.array([1-I_init, I_init, 0.0, I_init])\n",
    "    t = np.arange(T, dtype='float32')\n",
    "    x = SIR_int(x_init, t, beta, gamma)\n",
    "    numpyro.deterministic(\"x\", x)\n",
    "    \n",
    "    # Compute number of new infections in each time step\n",
    "    latent = x[:,3]   # total number infected\n",
    "    \n",
    "    # Generate noisy observations as latent * Beta(a, b)\n",
    "    a = det_rate * det_conc * np.ones(T)\n",
    "    b = (1-det_rate) * det_conc * np.ones(T)\n",
    "    \n",
    "    if use_rw:\n",
    "        rw = numpyro.sample(\"rw\", dist.GaussianRandomWalk(scale=rw_scale, num_steps=T))\n",
    "        loc = rw\n",
    "    else:\n",
    "        loc = 0.0\n",
    "    \n",
    "    y_dist_sir = dist.TransformedDistribution(dist.Beta(a, b), \n",
    "                                          dist.transforms.AffineTransform(loc=N, scale=latent))\n",
    "\n",
    "\n",
    "    y_confirmed = numpyro.sample(\"y_confirmed\", y_dist_sir, obs = confirmed)\n",
    "        \n",
    "    y = numpyro.sample(\"y\", dist.Normal(latent+loc, .0001), obs = ili)\n",
    "\n",
    "    if T_future > 0:\n",
    "        \n",
    "        # Need to simulate for T_future + 1 time steps\n",
    "        t = np.arange(T_future + 1, dtype='float32')\n",
    "        x_future = SIR_int(x[-1,:], t, beta, gamma)\n",
    "        x_future = x_future[1:,:] # drop first time step, which is the same as the last time step from before\n",
    "        numpyro.deterministic(\"x_future\", x_future)\n",
    "        \n",
    "        latent = x_future[:,3]   # total number infected\n",
    "\n",
    "        a = det_rate * det_conc * np.ones(T_future)\n",
    "        b = (1-det_rate) * det_conc * np.ones(T_future)\n",
    "\n",
    "        if use_rw:\n",
    "            # note: need to transform the random walk to add final value from previous walk\n",
    "            loc = numpyro.sample(\"rw_future\",\n",
    "                                 dist.TransformedDistribution(\n",
    "                                     dist.GaussianRandomWalk(scale=rw_scale, num_steps=T_future),\n",
    "                                     dist.transforms.AffineTransform(loc=rw[-1], scale=1)))\n",
    "        else:\n",
    "            loc = 0.0\n",
    "        \n",
    "        y_dist = dist.TransformedDistribution(dist.Beta(a, b), \n",
    "                                              dist.transforms.AffineTransform(loc=N, scale=latent))\n",
    "\n",
    "#         \n",
    "    \n",
    "        y_dist_sir_rw_future = dist.TransformedDistribution(latent, \n",
    "                                          dist.transforms.AffineTransform(loc=loc, scale=scale_down))\n",
    "    \n",
    "        y_future = numpyro.sample(\"y_future\", y_dist_sir_rw_future, obs = ili)\n",
    "        \n",
    "        x = np.append(x, x_future)\n",
    "        y = np.append(y, y_future)\n",
    "    \n",
    "    return x, y, det_rate"
   ]
  },
  {
   "cell_type": "code",
   "execution_count": 12,
   "metadata": {},
   "outputs": [
    {
     "data": {
      "image/png": "[encoded data removed]",
      "text/plain": [
       "<matplotlib.figure.Figure at 0x10e18d358>"
      ]
     },
     "metadata": {},
     "output_type": "display_data"
    }
   ],
   "source": [
    "#with numpyro.handlers.seed(rng_seed=1):\n",
    " #   x, y, det_rate = SIR_hybrid(T=50, T_future=50, N=1e6)\n",
    "  #  plt.plot(y)\n",
    "    \n",
    "with numpyro.handlers.seed(rng_seed=1):\n",
    "    x, y, det_rate = SIR_hybrid(T=10, N=1e6,rw_scale=1e-2)\n",
    "    plt.plot(y)\n",
    "\n",
    "plt.show()"
   ]
  },
  {
   "cell_type": "code",
   "execution_count": 13,
   "metadata": {
    "collapsed": true
   },
   "outputs": [],
   "source": [
    "def plot_samples(samples, plot_fields=['I', 'y'], T=None, t=None, ax=None):\n",
    "    \n",
    "    X = samples['x']\n",
    "    \n",
    "    if 'x_future' in samples:\n",
    "        X = np.append(X, samples['x_future'], axis=1)\n",
    "\n",
    "    T_data = X.shape[1]\n",
    "    if T is None or T > T_data:\n",
    "        T = T_data\n",
    "        \n",
    "    labels = {\n",
    "        'S': 'susceptible',\n",
    "        'I': 'infected',\n",
    "        'R': 'removed',\n",
    "        'C': 'confirmed'\n",
    "    }\n",
    "    \n",
    "    fields = {'S': X[:,:T,0],\n",
    "              'I': X[:,:T,1],\n",
    "              'R': X[:,:T,2],\n",
    "              'C': X[:,:T,3]}    \n",
    "    \n",
    "    if 'y' in samples:\n",
    "        y = samples['y']\n",
    "        \n",
    "        if 'y_future' in samples:\n",
    "            y = np.append(y, samples['y_future'], axis=1)\n",
    "\n",
    "        fields['y'] = y[:, :T]\n",
    "\n",
    "    fields = {k: fields[k] for k in plot_fields}\n",
    "\n",
    "    means = {k: v.mean(axis=0) for k, v in fields.items()}\n",
    "    \n",
    "    pred_intervals = {k: np.percentile(v, (10, 90), axis=0) for k, v in fields.items()}\n",
    "    \n",
    "    # Use pandas to plot means (for better date handling)\n",
    "    if t is None:\n",
    "        t = np.arange(T)        \n",
    "\n",
    "    df = pd.DataFrame(index=t, data=means)\n",
    "    df.plot(ax=ax)\n",
    "    \n",
    "    # Add prediction intervals\n",
    "    for k, pred_interval in pred_intervals.items():\n",
    "        ax = ax if ax is not None else plt.gca()\n",
    "        ax.fill_between(t, pred_interval[0,:], pred_interval[1,:], alpha=0.1)"
   ]
  },
  {
   "cell_type": "code",
   "execution_count": 14,
   "metadata": {},
   "outputs": [
    {
     "name": "stdout",
     "output_type": "stream",
     "text": [
      "[  525.   732.   967.  1706.  2495.  5365.  8310. 11710. 15793. 15793.]\n",
      "[0.0636675 0.0699201 0.0775491 0.0801635 0.0723576 0.0600549 0.0475615\n",
      " 0.0391466 0.0504381 0.0761879]\n"
     ]
    }
   ],
   "source": [
    "import jhu\n",
    "import csv \n",
    "\n",
    "US = jhu.load_us()\n",
    "\n",
    "pop = {\n",
    "    'tot': 3.27e8,\n",
    "    'MA': 6.902e6,\n",
    "    'WA': 7.536e6,\n",
    "    'NY': 8.632e6\n",
    "}\n",
    "\n",
    "place = 'NY'\n",
    "\n",
    "start = pd.Timestamp('2020-03-02')\n",
    "\n",
    "confirmed = US[place].confirmed[start:]\n",
    "confirmed_data = confirmed.to_numpy()[-10:]\n",
    "#confirmed_data = np.append(confirmed_data,np.repeat(np.nan,1))\n",
    "print (confirmed_data)\n",
    "T = len(confirmed_data)\n",
    "N = pop[place]\n",
    "#ili_dat = pd.read_csv('ili.csv')\n",
    "ili_dat = pd.read_csv('stateili.csv')\n",
    "kernel = NUTS(SIR_hybrid)\n",
    "mcmc = MCMC(kernel, num_warmup=100, num_samples=500, num_chains=1)\n",
    "\n",
    "\n",
    "init = {\n",
    "    'I_init': 0.01,\n",
    "    'gamma': 1/10.0,\n",
    "    'beta': 2.5/10.0,\n",
    "    'det_rate' : 0.3,\n",
    "    'rw' : np.zeros(T),\n",
    "    'scale_down' : .0001\n",
    "}\n",
    "\n",
    "\n",
    "ili_dat_np = np.array(ili_dat['x'])[-10:]/100\n",
    "print (ili_dat_np)"
   ]
  },
  {
   "cell_type": "code",
   "execution_count": 16,
   "metadata": {},
   "outputs": [
    {
     "name": "stderr",
     "output_type": "stream",
     "text": [
      "sample: 100%|██████████| 600/600 [01:13<00:00,  8.12it/s, 1 steps of size 1.18e-38. acc. prob=0.00]  \n"
     ]
    },
    {
     "name": "stdout",
     "output_type": "stream",
     "text": [
      "\n",
      "                mean       std    median      5.0%     95.0%     n_eff     r_hat\n",
      "    I_init      0.01      0.00      0.01      0.01      0.01       nan       nan\n",
      "      beta      1.28      0.00      1.28      1.28      1.28       nan       nan\n",
      "  det_rate      0.57      0.00      0.57      0.57      0.57       nan       nan\n",
      "     gamma      1.11      0.00      1.11      1.11      1.11      0.50      1.00\n",
      "     rw[0]      0.00      0.00      0.00      0.00      0.00       nan       nan\n",
      "     rw[1]      0.00      0.00      0.00      0.00      0.00       nan       nan\n",
      "     rw[2]      0.00      0.00      0.00      0.00      0.00       nan       nan\n",
      "     rw[3]      0.00      0.00      0.00      0.00      0.00       nan       nan\n",
      "     rw[4]      0.00      0.00      0.00      0.00      0.00       nan       nan\n",
      "     rw[5]      0.00      0.00      0.00      0.00      0.00       nan       nan\n",
      "     rw[6]      0.00      0.00      0.00      0.00      0.00       nan       nan\n",
      "     rw[7]      0.00      0.00      0.00      0.00      0.00       nan       nan\n",
      "     rw[8]      0.00      0.00      0.00      0.00      0.00       nan       nan\n",
      "     rw[9]      0.00      0.00      0.00      0.00      0.00       nan       nan\n",
      "\n",
      "Number of divergences: 500\n"
     ]
    }
   ],
   "source": [
    "mcmc.run(jax.random.PRNGKey(2), N=N, T=T, confirmed=confirmed_data,ili=ili_dat_np, det_conc=100, rw_scale = 1e-51, use_rw=True, init_params=init)\n",
    "mcmc.print_summary()\n",
    "mcmc_samples = mcmc.get_samples()"
   ]
  },
  {
   "cell_type": "code",
   "execution_count": 182,
   "metadata": {},
   "outputs": [
    {
     "data": {
      "text/plain": [
       "DeviceArray([[ 563.0045 ,  453.59732,  145.75798, ...,  625.2514 ,\n",
       "               115.02283, 1052.496  ],\n",
       "             [ 601.7401 ,  517.57446,  388.87576, ...,  774.8204 ,\n",
       "              1165.3558 , 2121.6423 ],\n",
       "             [ 788.1797 ,  689.96533,  396.49716, ...,  263.74146,\n",
       "              1486.0706 , 2367.5835 ],\n",
       "             ...,\n",
       "             [ 638.26605,  699.64905,  759.9555 , ...,  478.88705,\n",
       "               404.26602,  860.71094],\n",
       "             [ 637.22925,  705.51495,  766.5416 , ...,  469.7245 ,\n",
       "               819.23114,  971.1735 ],\n",
       "             [ 636.3379 ,  701.80206,  760.015  , ...,  356.18213,\n",
       "               395.12958,  608.4104 ]], dtype=float32)"
      ]
     },
     "execution_count": 182,
     "metadata": {},
     "output_type": "execute_result"
    }
   ],
   "source": [
    "# Visualize posterior predictive samples\n",
    "T = 10\n",
    "T_future = 100\n",
    "post_pred = Predictive(SIR_hybrid, posterior_samples = mcmc_samples)\n",
    "post_pred_samples = post_pred(PRNGKey(2), T=T, T_future=T_future, N=N)\n",
    "np.mean(mcmc_samples['beta'] - mcmc_samples['gamma'])\n",
    "\n"
   ]
  },
  {
   "cell_type": "code",
   "execution_count": 185,
   "metadata": {},
   "outputs": [],
   "source": [
    "post_pred_samples['y'] = post_pred_samples['y']/100"
   ]
  },
  {
   "cell_type": "code",
   "execution_count": 187,
   "metadata": {
    "scrolled": false
   },
   "outputs": [
    {
     "name": "stdout",
     "output_type": "stream",
     "text": [
      "[636.675   699.201   775.491   801.635   723.57605 600.549   475.615\n",
      " 391.466   504.38098 761.879  ]\n"
     ]
    },
    {
     "data": {
      "image/png": "[encoded data removed]",
      "text/plain": [
       "<matplotlib.figure.Figure at 0x13cd41630>"
      ]
     },
     "metadata": {},
     "output_type": "display_data"
    }
   ],
   "source": [
    "scale = 'nlog'\n",
    "print(ili_dat_np)\n",
    "\n",
    "\n",
    "for T in [15]:\n",
    "    \n",
    "    t = pd.date_range(start=start, periods=T, freq='D')\n",
    "    \n",
    "    fig, ax = plt.subplots(figsize=(14,5))\n",
    "    plot_samples(post_pred_samples, T=T, t=t, ax=ax, plot_fields=[ 'y'])\n",
    "    plt.title('Posterior predictive')\n",
    "\n",
    "    ili = pd.Series(ili_dat_np/100, index=pd.date_range(start=start, periods=len(ili_dat_np), freq='D'))\n",
    "    ili.plot(style='o')\n",
    "    \n",
    "    if scale == 'log':\n",
    "        plt.yscale('log')\n",
    "        \n",
    "    #filename = f'figs/{place}_predictive_scale_{scale}_T_{T}.pdf'\n",
    "    #plt.savefig(filename)\n",
    "    plt.show()\n",
    "    "
   ]
  },
  {
   "cell_type": "code",
   "execution_count": 181,
   "metadata": {},
   "outputs": [
    {
     "data": {
      "text/html": [
       "<div>\n",
       "<style scoped>\n",
       "    .dataframe tbody tr th:only-of-type {\n",
       "        vertical-align: middle;\n",
       "    }\n",
       "\n",
       "    .dataframe tbody tr th {\n",
       "        vertical-align: top;\n",
       "    }\n",
       "\n",
       "    .dataframe thead th {\n",
       "        text-align: right;\n",
       "    }\n",
       "</style>\n",
       "<table border=\"1\" class=\"dataframe\">\n",
       "  <thead>\n",
       "    <tr style=\"text-align: right;\">\n",
       "      <th></th>\n",
       "      <th>ill</th>\n",
       "    </tr>\n",
       "  </thead>\n",
       "  <tbody>\n",
       "    <tr>\n",
       "      <td>2020-03-02</td>\n",
       "      <td>6.700000</td>\n",
       "    </tr>\n",
       "    <tr>\n",
       "      <td>2020-03-03</td>\n",
       "      <td>7.800000</td>\n",
       "    </tr>\n",
       "    <tr>\n",
       "      <td>2020-03-04</td>\n",
       "      <td>9.099999</td>\n",
       "    </tr>\n",
       "    <tr>\n",
       "      <td>2020-03-05</td>\n",
       "      <td>9.500000</td>\n",
       "    </tr>\n",
       "    <tr>\n",
       "      <td>2020-03-06</td>\n",
       "      <td>8.500000</td>\n",
       "    </tr>\n",
       "    <tr>\n",
       "      <td>2020-03-07</td>\n",
       "      <td>10.200000</td>\n",
       "    </tr>\n",
       "    <tr>\n",
       "      <td>2020-03-08</td>\n",
       "      <td>11.700000</td>\n",
       "    </tr>\n",
       "    <tr>\n",
       "      <td>2020-03-09</td>\n",
       "      <td>11.599999</td>\n",
       "    </tr>\n",
       "    <tr>\n",
       "      <td>2020-03-10</td>\n",
       "      <td>13.500001</td>\n",
       "    </tr>\n",
       "    <tr>\n",
       "      <td>2020-03-11</td>\n",
       "      <td>14.000000</td>\n",
       "    </tr>\n",
       "  </tbody>\n",
       "</table>\n",
       "</div>"
      ],
      "text/plain": [
       "                  ill\n",
       "2020-03-02   6.700000\n",
       "2020-03-03   7.800000\n",
       "2020-03-04   9.099999\n",
       "2020-03-05   9.500000\n",
       "2020-03-06   8.500000\n",
       "2020-03-07  10.200000\n",
       "2020-03-08  11.700000\n",
       "2020-03-09  11.599999\n",
       "2020-03-10  13.500001\n",
       "2020-03-11  14.000000"
      ]
     },
     "execution_count": 181,
     "metadata": {},
     "output_type": "execute_result"
    }
   ],
   "source": [
    "df"
   ]
  },
  {
   "cell_type": "code",
   "execution_count": null,
   "metadata": {
    "collapsed": true
   },
   "outputs": [],
   "source": []
  }
 ],
 "metadata": {
  "kernelspec": {
   "display_name": "Python 3",
   "language": "python",
   "name": "python3"
  },
  "language_info": {
   "codemirror_mode": {
    "name": "ipython",
    "version": 3
   },
   "file_extension": ".py",
   "mimetype": "text/x-python",
   "name": "python",
   "nbconvert_exporter": "python",
   "pygments_lexer": "ipython3",
   "version": "3.6.4"
  }
 },
 "nbformat": 4,
 "nbformat_minor": 2
}
