{
 "cells": [
  {
   "cell_type": "code",
   "execution_count": 1,
   "metadata": {},
   "outputs": [],
   "source": [
    "import argparse\n",
    "import os\n",
    "\n",
    "import matplotlib\n",
    "import matplotlib.pyplot as plt\n",
    "from matplotlib.pyplot import cm\n",
    "\n",
    "import jax\n",
    "from jax.experimental.ode import build_odeint\n",
    "import jax.numpy as np\n",
    "from jax.random import PRNGKey\n",
    "from jax import lax\n",
    "\n",
    "import numpyro\n",
    "import numpyro.distributions as dist\n",
    "from numpyro.examples.datasets import LYNXHARE, load_dataset\n",
    "from numpyro.infer import MCMC, NUTS, Predictive\n",
    "\n",
    "import pandas as pd"
   ]
  },
  {
   "cell_type": "markdown",
   "metadata": {},
   "source": [
    "## Deterministic model"
   ]
  },
  {
   "cell_type": "code",
   "execution_count": 2,
   "metadata": {},
   "outputs": [],
   "source": [
    "def dx_dt(x, t, beta, gamma):\n",
    "    \"\"\"\n",
    "    SIR equations. Real positive parameters `beta`, `gamma`,\n",
    "    describe the infection rate and recovery rate.\n",
    "    Also tracks new infections.\n",
    "    \"\"\"\n",
    "    S = x[0]\n",
    "    I = x[1]\n",
    "    R = x[2]\n",
    "    R =1- S - I \n",
    "    I_tot = x[3]\n",
    "    dS_dt = - beta * S * I \n",
    "    dI_dt = beta * S * I  - gamma * I\n",
    "    dR_dt = gamma * I\n",
    "    dItot_dt = beta * S * I \n",
    "    return np.stack([dS_dt, dI_dt, dR_dt, dItot_dt])\n",
    "\n",
    "SIR_int = build_odeint(dx_dt, rtol=1e-5, atol=1e-3, mxstep=500)\n",
    "\n"
   ]
  },
  {
   "cell_type": "markdown",
   "metadata": {},
   "source": [
    "## Current model: SIR model for new cases with random parameters/observations, deterministic dynamics"
   ]
  },
  {
   "cell_type": "code",
   "execution_count": 28,
   "metadata": {
    "scrolled": false
   },
   "outputs": [],
   "source": [
    "def SIR_hybrid(T = 50,\n",
    "               N = 1e5,\n",
    "               T_future = 0,\n",
    "               duration_mean = 10,\n",
    "               R0_mean = 2.2,\n",
    "               gamma_shape = 5,\n",
    "               beta_shape = 5,\n",
    "               det_rate_mean = 0.3,\n",
    "               det_rate_conc = 100,\n",
    "               scale_down_mean = .1,\n",
    "               scale_down_conc = 100,\n",
    "               det_conc = 100,\n",
    "               rw_scale = 1e-2,\n",
    "               confirmed = None,\n",
    "               ili=None):\n",
    "\n",
    "        \n",
    "    # Sample initial fraction of infected individuals\n",
    "    I_init = numpyro.sample(\"I_init\", dist.Uniform(0, 0.02))\n",
    "\n",
    "    # Sample parameters\n",
    "    gamma = numpyro.sample(\"gamma\", \n",
    "                           dist.Gamma(gamma_shape, gamma_shape * duration_mean))\n",
    "    \n",
    "    beta = numpyro.sample(\"beta\", \n",
    "                          dist.Gamma(beta_shape, beta_shape * duration_mean/R0_mean))\n",
    "\n",
    "    det_rate = numpyro.sample(\"det_rate\", \n",
    "                              dist.Beta(det_rate_mean * det_rate_conc,\n",
    "                                        (1-det_rate_mean) * det_rate_conc))\n",
    "\n",
    "    \n",
    "    # Run simultation using ODE solve\n",
    "    x_init = 1* np.array([1-I_init, I_init, 0.0, I_init])\n",
    "    t = np.arange(T, dtype='float32')\n",
    "    x = SIR_int(x_init, t, beta, gamma)\n",
    "    numpyro.deterministic(\"x\", x)\n",
    "    \n",
    "    # Compute number of new infections in each time step\n",
    "    latent = x[:,3]   # total number infected\n",
    "    \n",
    "    # Generate noisy observations as latent * Beta(a, b)\n",
    "    a = det_rate * det_conc * np.ones(T)\n",
    "    b = (1-det_rate) * det_conc * np.ones(T)\n",
    "    \n",
    "    rw = numpyro.sample(\"rw\", dist.GaussianRandomWalk(scale=rw_scale, num_steps=T))\n",
    "    \n",
    "    y_dist_sir = dist.TransformedDistribution(dist.Beta(a, b), \n",
    "                                          dist.transforms.AffineTransform(loc=0., scale=N*latent))\n",
    "\n",
    "    y_confirmed = numpyro.sample(\"y_confirmed\", y_dist_sir, obs = confirmed)\n",
    "        \n",
    "    y = numpyro.sample(\"y\", dist.Normal(latent + rw, .01), obs = ili)\n",
    "\n",
    "    if T_future > 0:\n",
    "        \n",
    "        # Need to simulate for T_future + 1 time steps\n",
    "        t = np.arange(T_future + 1, dtype='float32')\n",
    "        x_future = SIR_int(x[-1,:], t, beta, gamma)\n",
    "        x_future = x_future[1:,:] # drop first time step, which is the same as the last time step from before\n",
    "        numpyro.deterministic(\"x_future\", x_future)\n",
    "        \n",
    "        latent = x_future[:,3]   # total number infected\n",
    "\n",
    "        a = det_rate * det_conc * np.ones(T_future)\n",
    "        b = (1-det_rate) * det_conc * np.ones(T_future)\n",
    "\n",
    "        # note: need to transform the random walk to add final value from previous walk\n",
    "        rw_future = numpyro.sample(\"rw_future\",\n",
    "                             dist.TransformedDistribution(\n",
    "                                 dist.GaussianRandomWalk(scale=rw_scale, num_steps=T_future),\n",
    "                                 dist.transforms.AffineTransform(loc=rw[-1], scale=1)))\n",
    "        \n",
    "        y_dist_sir_future = dist.TransformedDistribution(dist.Beta(a, b), \n",
    "                                              dist.transforms.AffineTransform(loc=0, scale=N*latent))\n",
    "\n",
    "        # Not sure if you want to sample this --- could be useful for forecasting?\n",
    "        y_confirmed_future = numpyro.sample(\"y_confirmed_future\", y_dist_sir_future)\n",
    "\n",
    "        y_future = numpyro.sample(\"y_future\", dist.Normal(latent + rw_future, .01))\n",
    "\n",
    "        \n",
    "        x = np.append(x, x_future)\n",
    "        y = np.append(y, y_future)\n",
    "    \n",
    "    return x, y, det_rate"
   ]
  },
  {
   "cell_type": "code",
   "execution_count": 29,
   "metadata": {},
   "outputs": [
    {
     "data": {
      "image/png": "[encoded data removed]",
      "text/plain": [
       "<Figure size 432x288 with 1 Axes>"
      ]
     },
     "metadata": {
      "needs_background": "light"
     },
     "output_type": "display_data"
    }
   ],
   "source": [
    "with numpyro.handlers.seed(rng_seed=1):\n",
    "    x, y, det_rate = SIR_hybrid(T=50, T_future=50, N=1e6, rw_scale=2e-2)\n",
    "    plt.plot(y)\n",
    "    \n",
    "# with numpyro.handlers.seed(rng_seed=1):\n",
    "#     x, y, det_rate = SIR_hybrid(T=100, N=1e6,rw_scale=1e-2)\n",
    "#     plt.plot(y)\n",
    "\n",
    "plt.show()"
   ]
  },
  {
   "cell_type": "code",
   "execution_count": 30,
   "metadata": {},
   "outputs": [],
   "source": [
    "def plot_samples(samples, plot_fields=['I', 'y'], T=None, t=None, ax=None):\n",
    "    \n",
    "    X = samples['x']\n",
    "    \n",
    "    if 'x_future' in samples:\n",
    "        X = np.append(X, samples['x_future'], axis=1)\n",
    "\n",
    "    T_data = X.shape[1]\n",
    "    if T is None or T > T_data:\n",
    "        T = T_data\n",
    "        \n",
    "    labels = {\n",
    "        'S': 'susceptible',\n",
    "        'I': 'infected',\n",
    "        'R': 'removed',\n",
    "        'C': 'confirmed'\n",
    "    }\n",
    "    \n",
    "    fields = {'S': X[:,:T,0],\n",
    "              'I': X[:,:T,1],\n",
    "              'R': X[:,:T,2],\n",
    "              'C': X[:,:T,3]}    \n",
    "    \n",
    "    if 'y' in samples:\n",
    "        y = samples['y']\n",
    "        \n",
    "        if 'y_future' in samples:\n",
    "            y = np.append(y, samples['y_future'], axis=1)\n",
    "\n",
    "        fields['y'] = y[:, :T]\n",
    "\n",
    "    fields = {k: fields[k] for k in plot_fields}\n",
    "\n",
    "    means = {k: v.mean(axis=0) for k, v in fields.items()}\n",
    "    \n",
    "    pred_intervals = {k: np.percentile(v, (10, 90), axis=0) for k, v in fields.items()}\n",
    "    \n",
    "    # Use pandas to plot means (for better date handling)\n",
    "    if t is None:\n",
    "        t = np.arange(T)        \n",
    "\n",
    "    df = pd.DataFrame(index=t, data=means)\n",
    "    df.plot(ax=ax)\n",
    "    \n",
    "    # Add prediction intervals\n",
    "    for k, pred_interval in pred_intervals.items():\n",
    "        ax = ax if ax is not None else plt.gca()\n",
    "        ax.fill_between(t, pred_interval[0,:], pred_interval[1,:], alpha=0.1)"
   ]
  },
  {
   "cell_type": "code",
   "execution_count": null,
   "metadata": {},
   "outputs": [],
   "source": [
    "import jhu\n",
    "import csv \n",
    "\n",
    "US = jhu.load_us()\n",
    "\n",
    "pop = {\n",
    "    'tot': 3.27e8,\n",
    "    'MA': 6.902e6,\n",
    "    'WA': 7.536e6,\n",
    "    'NY': 8.632e6\n",
    "}\n",
    "\n",
    "place = 'NY'\n",
    "\n",
    "start = pd.Timestamp('2020-03-02')\n",
    "\n",
    "confirmed = US[place].confirmed[start:]\n",
    "confirmed_data = confirmed.to_numpy()[-10:]\n",
    "#confirmed_data = np.append(confirmed_data,np.repeat(np.nan,1))\n",
    "print (confirmed_data)\n",
    "T = len(confirmed_data)\n",
    "N = pop[place]\n",
    "#ili_dat = pd.read_csv('ili.csv')\n",
    "ili_dat = pd.read_csv('stateili.csv')\n",
    "kernel = NUTS(SIR_hybrid)\n",
    "mcmc = MCMC(kernel, num_warmup=100, num_samples=500, num_chains=1)\n",
    "\n",
    "\n",
    "init = {\n",
    "    'I_init': 0.01,\n",
    "    'gamma': 1/10.0,\n",
    "    'beta': 2.5/10.0,\n",
    "    'det_rate' : 0.3,\n",
    "    'rw' : np.zeros(T),\n",
    "    'scale_down' : .0001\n",
    "}\n",
    "\n",
    "\n",
    "ili_dat_np = np.array(ili_dat['x'])[-10:]/100\n",
    "print (ili_dat_np)"
   ]
  },
  {
   "cell_type": "code",
   "execution_count": 32,
   "metadata": {},
   "outputs": [
    {
     "name": "stderr",
     "output_type": "stream",
     "text": [
      "sample: 100%|██████████| 600/600 [00:46<00:00, 12.95it/s, 1023 steps of size 8.43e-04. acc. prob=0.97] \n"
     ]
    },
    {
     "name": "stdout",
     "output_type": "stream",
     "text": [
      "\n",
      "                mean       std    median      5.0%     95.0%     n_eff     r_hat\n",
      "    I_init      0.01      0.00      0.01      0.01      0.01      2.66      2.36\n",
      "      beta      0.15      0.01      0.15      0.14      0.16      5.16      1.07\n",
      "  det_rate      0.03      0.00      0.03      0.03      0.04      2.60      2.57\n",
      "     gamma      1.94      0.64      1.78      1.17      3.02      2.67      2.30\n",
      "     rw[0]      0.04      0.01      0.04      0.03      0.05     63.00      1.00\n",
      "     rw[1]      0.05      0.01      0.05      0.04      0.07     53.93      1.07\n",
      "     rw[2]      0.06      0.01      0.06      0.05      0.07     42.47      1.08\n",
      "     rw[3]      0.07      0.01      0.07      0.05      0.08     45.34      1.06\n",
      "     rw[4]      0.06      0.01      0.06      0.05      0.07     42.74      1.04\n",
      "     rw[5]      0.05      0.01      0.05      0.04      0.06     51.64      1.00\n",
      "     rw[6]      0.05      0.01      0.05      0.04      0.05     49.87      1.00\n",
      "     rw[7]      0.04      0.01      0.04      0.03      0.05     41.27      1.01\n",
      "     rw[8]      0.05      0.01      0.05      0.04      0.06     53.94      1.00\n",
      "     rw[9]      0.06      0.01      0.06      0.05      0.07     36.89      1.01\n",
      "\n",
      "Number of divergences: 0\n"
     ]
    }
   ],
   "source": [
    "mcmc.run(jax.random.PRNGKey(2), N=N, T=T, confirmed=confirmed_data,ili=ili_dat_np, det_conc=100, rw_scale = 1e-2, init_params=init)\n",
    "mcmc.print_summary()\n",
    "mcmc_samples = mcmc.get_samples()"
   ]
  },
  {
   "cell_type": "code",
   "execution_count": 33,
   "metadata": {},
   "outputs": [
    {
     "data": {
      "text/plain": [
       "DeviceArray(-1.7953918, dtype=float32)"
      ]
     },
     "execution_count": 33,
     "metadata": {},
     "output_type": "execute_result"
    }
   ],
   "source": [
    "# Visualize posterior predictive samples\n",
    "T = 10\n",
    "T_future = 100\n",
    "post_pred = Predictive(SIR_hybrid, posterior_samples = mcmc_samples)\n",
    "post_pred_samples = post_pred(PRNGKey(2), T=T, T_future=T_future, N=N)\n",
    "np.mean(mcmc_samples['beta'] - mcmc_samples['gamma'])\n",
    "\n"
   ]
  },
  {
   "cell_type": "code",
   "execution_count": 34,
   "metadata": {},
   "outputs": [],
   "source": [
    "post_pred_samples['y'] = post_pred_samples['y']/100"
   ]
  },
  {
   "cell_type": "code",
   "execution_count": 36,
   "metadata": {
    "scrolled": false
   },
   "outputs": [
    {
     "name": "stdout",
     "output_type": "stream",
     "text": [
      "[0.0636675 0.0699201 0.0775491 0.0801635 0.0723576 0.0600549 0.0475615\n",
      " 0.0391466 0.0504381 0.0761879]\n"
     ]
    },
    {
     "data": {
      "image/png": "[encoded data removed]",
      "text/plain": [
       "<Figure size 1008x360 with 1 Axes>"
      ]
     },
     "metadata": {
      "needs_background": "light"
     },
     "output_type": "display_data"
    }
   ],
   "source": [
    "scale = 'log'\n",
    "print(ili_dat_np)\n",
    "\n",
    "\n",
    "for T in [15]:\n",
    "    \n",
    "    t = pd.date_range(start=start, periods=T, freq='D')\n",
    "    \n",
    "    fig, ax = plt.subplots(figsize=(14,5))\n",
    "    plot_samples(post_pred_samples, T=T, t=t, ax=ax, plot_fields=[ 'y'])\n",
    "    plt.title('Posterior predictive')\n",
    "\n",
    "    ili = pd.Series(ili_dat_np/100, index=pd.date_range(start=start, periods=len(ili_dat_np), freq='D'))\n",
    "    ili.plot(style='o')\n",
    "    \n",
    "    if scale == 'log':\n",
    "        plt.yscale('log')\n",
    "        \n",
    "    #filename = f'figs/{place}_predictive_scale_{scale}_T_{T}.pdf'\n",
    "    #plt.savefig(filename)\n",
    "    plt.show()\n",
    "    "
   ]
  },
  {
   "cell_type": "code",
   "execution_count": null,
   "metadata": {},
   "outputs": [],
   "source": [
    "df"
   ]
  },
  {
   "cell_type": "code",
   "execution_count": null,
   "metadata": {},
   "outputs": [],
   "source": []
  }
 ],
 "metadata": {
  "kernelspec": {
   "display_name": "Python 3",
   "language": "python",
   "name": "python3"
  },
  "language_info": {
   "codemirror_mode": {
    "name": "ipython",
    "version": 3
   },
   "file_extension": ".py",
   "mimetype": "text/x-python",
   "name": "python",
   "nbconvert_exporter": "python",
   "pygments_lexer": "ipython3",
   "version": "3.7.4"
  }
 },
 "nbformat": 4,
 "nbformat_minor": 2
}
