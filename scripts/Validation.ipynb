{
 "cells": [
  {
   "cell_type": "code",
   "execution_count": 16,
   "metadata": {},
   "outputs": [],
   "source": [
    "import matplotlib\n",
    "import matplotlib.pyplot as plt\n",
    "\n",
    "import jax\n",
    "import jax.numpy as np\n",
    "from jax.random import PRNGKey\n",
    "\n",
    "import numpyro\n",
    "import numpyro.distributions as dist\n",
    "from numpyro.infer import MCMC, NUTS, Predictive\n",
    "\n",
    "import pandas as pd\n",
    "\n",
    "import covid\n",
    "import covid.util as util"
   ]
  },
  {
   "cell_type": "markdown",
   "metadata": {},
   "source": [
    "# Load Data and Set Parameters"
   ]
  },
  {
   "cell_type": "code",
   "execution_count": 17,
   "metadata": {},
   "outputs": [],
   "source": [
    "data = util.load_state_data()\n",
    "place = 'MA'\n",
    "start = '2020-03-04'\n",
    "end = '2020-04-15'\n",
    "save = True\n",
    "num_warmup = 100\n",
    "num_samples = 100\n",
    "num_chains = 1\n",
    "num_prior_samples = 100\n",
    "T_future = 30"
   ]
  },
  {
   "cell_type": "code",
   "execution_count": null,
   "metadata": {},
   "outputs": [
    {
     "name": "stdout",
     "output_type": "stream",
     "text": [
      " * running MCMC\n"
     ]
    }
   ],
   "source": [
    "import jax\n",
    "import jax.numpy as np\n",
    "from jax.random import PRNGKey\n",
    "\n",
    "import numpyro\n",
    "from numpyro.infer import MCMC, NUTS, Predictive\n",
    "\n",
    "import covid.models.SEIRD\n",
    "\n",
    "N = data[place]['pop']\n",
    "place_data = data[place]['data'][start:end]\n",
    "T = len(place_data)\n",
    "\n",
    "model = covid.models.SEIRD.SEIRD(\n",
    "    data=place_data,\n",
    "    N = data[place]['pop'],\n",
    "    T = T\n",
    ")\n",
    "\n",
    "mcmc_samples = model.infer(num_warmup=num_warmup, \n",
    "                           num_samples=num_samples)\n",
    "\n",
    "# Prior samples\n",
    "prior_samples = model.prior(num_samples=num_prior_samples)\n",
    "\n",
    "# In-sample posterior predictive samples (don't condition on observations)\n",
    "print(\" * collecting predictive samples\")\n",
    "post_pred_samples = model.predictive()\n",
    "\n",
    "# Forecasting posterior predictive (do condition on observations)\n",
    "print(\" * collecting forecast samples\")\n",
    "forecast_samples = model.forecast(T_future=T_future)"
   ]
  },
  {
   "cell_type": "code",
   "execution_count": 14,
   "metadata": {
    "scrolled": false
   },
   "outputs": [
    {
     "data": {
      "image/png": "[encoded data removed]",
      "text/plain": [
       "<Figure size 576x360 with 1 Axes>"
      ]
     },
     "metadata": {
      "needs_background": "light"
     },
     "output_type": "display_data"
    }
   ],
   "source": [
    "place = 'NY'\n",
    "start = '2020-03-04'\n",
    "end = '2020-04-15'\n",
    "T_future = 30\n",
    "legend=True\n",
    "ax = None\n",
    "plot_fields = ['z']\n",
    "\n",
    "confirmed = data[place]['data'].confirmed[start:]\n",
    "death = data[place]['data'].death[start:]\n",
    "\n",
    "fig, ax = plt.subplots(figsize=(8,5))\n",
    "\n",
    "# Plot posterior predictive\n",
    "t = pd.date_range(start=start, end=confirmed.index.max(), freq=\"D\")\n",
    "model.plot_samples(post_pred_samples, ax=ax, t=t, plot_fields=['z'])\n",
    "\n",
    "# Plot forecast predictive\n",
    "forecast_start = pd.to_datetime(end) + pd.Timedelta(\"1d\")\n",
    "t_forecast = pd.date_range(start=forecast_start, periods=T_future, freq=\"1d\")\n",
    "med, _ = model.plot_samples(forecast_samples, \n",
    "                            ax=ax, \n",
    "                            t=t_forecast, \n",
    "                            legend=False, \n",
    "                            plot_fields=['z'],\n",
    "                            forecast=True)\n",
    "\n",
    "# Plot observed\n",
    "#confirmed.plot(style='.')\n",
    "death.plot(style='.')\n",
    "ax.axvline(end, linestyle='--', alpha=0.5)\n",
    "#ax.set_yscale('log')\n",
    "ax.set_ylim([0, 2*med.max()])\n",
    "plt.show()\n",
    "\n",
    "# Compute error\n",
    "# cum/incident confirmed/death\n",
    "#"
   ]
  },
  {
   "cell_type": "code",
   "execution_count": null,
   "metadata": {},
   "outputs": [],
   "source": [
    "## Validation: can only do cumulative for now...\n",
    "\n",
    "# cumulative deaths \n",
    "start = forecast_start\n",
    "end = death.index.max()\n",
    "\n",
    "obs = death[start:end]\n",
    "\n",
    "field = 'z_future'\n",
    "\n",
    "\n",
    "T = len(obs)\n",
    "df = pd.DataFrame(index=obs.index, data=samples[field][:,:T].T)\n",
    "\n",
    "point_forecast = df.median(axis=1)\n",
    "err = (point_forecast - obs).rename('err')\n",
    "err.plot(style='o')\n",
    "\n",
    "mae = err.abs().mean()\n",
    "\n",
    "plt.title(f\"{place} MAE={mae:.2f}\")\n",
    "plt.show()\n",
    "\n",
    "#display(df[0]-actual)\n",
    "# T_obs = len(actual)\n",
    "# pred = np.median(forecast_samples['z_future'][:,:T_obs], axis=0)\n",
    "\n",
    "# err_c = np.abs(pred-actual)\n",
    "# plt.plot(pred, actual, 'o')\n",
    "# plt.show()"
   ]
  },
  {
   "cell_type": "code",
   "execution_count": null,
   "metadata": {
    "scrolled": false
   },
   "outputs": [],
   "source": [
    "\n",
    "prob_model.set_data()\n",
    "prob_model()  # __call__\n",
    "prob_model.deaths(samples, forecast=True, daily=True)\n",
    "prob_model.cases(samples, forecast=True, daily=True)\n",
    "\n",
    "prob_model.get(samples, 'S')\n",
    "\n",
    "\n",
    "\n",
    "\n",
    "deaths = prob_model.cumulative_deaths(samples)"
   ]
  },
  {
   "cell_type": "code",
   "execution_count": null,
   "metadata": {},
   "outputs": [],
   "source": [
    "\n",
    "class foo():\n",
    "    \n",
    "    def __init__(self, a):\n",
    "        self.a = a\n",
    "        \n",
    "        \n",
    "    def __call__(self):\n",
    "        print(self.a)\n",
    "        \n",
    "f = foo(1)\n",
    "f()\n"
   ]
  },
  {
   "cell_type": "code",
   "execution_count": 9,
   "metadata": {},
   "outputs": [
    {
     "name": "stdout",
     "output_type": "stream",
     "text": [
      "{'a': 1, 'c': 3, 'b': 2, 'd': 4}\n"
     ]
    }
   ],
   "source": [
    "d1 = {'a': 1, 'b': 2}\n",
    "d2 = {'a': 100, 'c': 3}\n",
    "d3 = {'d': 4}\n",
    "\n",
    "d = dict(d2, **d1, **d3)\n",
    "\n",
    "print(d)"
   ]
  },
  {
   "cell_type": "code",
   "execution_count": null,
   "metadata": {},
   "outputs": [],
   "source": []
  }
 ],
 "metadata": {
  "kernelspec": {
   "display_name": "Python 3",
   "language": "python",
   "name": "python3"
  },
  "language_info": {
   "codemirror_mode": {
    "name": "ipython",
    "version": 3
   },
   "file_extension": ".py",
   "mimetype": "text/x-python",
   "name": "python",
   "nbconvert_exporter": "python",
   "pygments_lexer": "ipython3",
   "version": "3.7.4"
  }
 },
 "nbformat": 4,
 "nbformat_minor": 2
}
