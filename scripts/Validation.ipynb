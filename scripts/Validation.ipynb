{
 "cells": [
  {
   "cell_type": "code",
   "execution_count": 1,
   "metadata": {},
   "outputs": [],
   "source": [
    "import matplotlib\n",
    "import matplotlib.pyplot as plt\n",
    "\n",
    "import jax\n",
    "import jax.numpy as np\n",
    "from jax.random import PRNGKey\n",
    "\n",
    "import numpyro\n",
    "import numpyro.distributions as dist\n",
    "from numpyro.infer import MCMC, NUTS, Predictive\n",
    "\n",
    "import pandas as pd\n",
    "\n",
    "import covid\n",
    "import covid.util as util"
   ]
  },
  {
   "cell_type": "markdown",
   "metadata": {},
   "source": [
    "# Load Data and Set Parameters"
   ]
  },
  {
   "cell_type": "code",
   "execution_count": 37,
   "metadata": {},
   "outputs": [
    {
     "name": "stdout",
     "output_type": "stream",
     "text": [
      " * running MCMC\n"
     ]
    },
    {
     "name": "stderr",
     "output_type": "stream",
     "text": [
      "sample: 100%|██████████| 200/200 [00:55<00:00,  3.63it/s, 1023 steps of size 8.82e-03. acc. prob=0.96]\n"
     ]
    },
    {
     "name": "stdout",
     "output_type": "stream",
     "text": [
      "\n",
      "                  mean       std    median      5.0%     95.0%     n_eff     r_hat\n",
      "          D0     96.49      3.06     97.49     91.74    100.00     84.04      0.99\n",
      "          E0   9667.02   7884.91   7777.25     36.83  22136.77    111.40      0.99\n",
      "          H0    187.53    101.70    176.59     34.33    321.57    105.20      0.99\n",
      "          I0   8761.84   2145.20   8471.37   5312.03  11770.40     49.10      1.00\n",
      "     beta[0]      1.61      0.64      1.49      0.61      2.56     25.56      1.00\n",
      "     beta[1]      1.58      0.66      1.40      0.77      2.66     37.70      0.99\n",
      "     beta[2]      1.58      0.62      1.39      0.73      2.66     62.53      0.99\n",
      "     beta[3]      1.62      0.71      1.45      0.85      2.87     80.64      0.99\n",
      "     beta[4]      1.67      0.73      1.48      0.80      2.55     93.24      0.99\n",
      "     beta[5]      1.67      0.66      1.55      0.80      2.51    111.19      0.99\n",
      "     beta[6]      1.60      0.57      1.48      0.82      2.46     93.53      0.99\n",
      "     beta[7]      1.56      0.57      1.49      0.70      2.35     62.18      1.00\n",
      "     beta[8]      1.42      0.56      1.33      0.63      1.99     52.20      1.02\n",
      "     beta[9]      1.33      0.58      1.23      0.61      2.19     90.46      1.00\n",
      "    beta[10]      1.20      0.48      1.15      0.59      1.97     89.82      1.01\n",
      "    beta[11]      1.09      0.39      1.03      0.56      1.62     87.90      0.99\n",
      "    beta[12]      0.98      0.34      0.90      0.50      1.56     89.62      0.99\n",
      "    beta[13]      0.85      0.29      0.80      0.42      1.24    106.10      0.99\n",
      "    beta[14]      0.76      0.26      0.77      0.39      1.05    111.32      0.99\n",
      "    beta[15]      0.69      0.23      0.67      0.31      0.98     97.44      0.99\n",
      "    beta[16]      0.61      0.22      0.56      0.33      1.01     98.11      0.99\n",
      "    beta[17]      0.58      0.22      0.53      0.21      0.94     91.49      0.99\n",
      "    beta[18]      0.53      0.21      0.50      0.25      0.85     67.65      0.99\n",
      "    beta[19]      0.50      0.18      0.47      0.22      0.76     57.86      0.99\n",
      "    beta[20]      0.47      0.18      0.45      0.24      0.74     60.84      0.99\n",
      "    beta[21]      0.44      0.16      0.41      0.20      0.69     66.21      0.99\n",
      "    beta[22]      0.42      0.16      0.39      0.23      0.71     55.35      0.99\n",
      "    beta[23]      0.41      0.15      0.38      0.24      0.72     28.16      1.01\n",
      "    beta[24]      0.41      0.14      0.38      0.20      0.65     32.86      1.00\n",
      "    beta[25]      0.41      0.15      0.40      0.22      0.67     68.57      0.99\n",
      "    beta[26]      0.41      0.14      0.39      0.17      0.62     64.02      0.99\n",
      "    beta[27]      0.42      0.16      0.39      0.19      0.61     57.44      0.99\n",
      "    beta[28]      0.40      0.16      0.37      0.20      0.70     54.28      1.01\n",
      "    beta[29]      0.40      0.16      0.36      0.11      0.65     64.44      1.00\n",
      "    beta[30]      0.41      0.18      0.39      0.16      0.68     43.94      1.01\n",
      "    beta[31]      0.41      0.17      0.37      0.13      0.64     43.57      1.00\n",
      "    beta[32]      0.42      0.19      0.38      0.16      0.75     42.30      1.00\n",
      "    beta[33]      0.43      0.21      0.39      0.13      0.75     39.31      1.03\n",
      "    beta[34]      0.43      0.21      0.38      0.14      0.81     30.39      1.01\n",
      "    beta[35]      0.43      0.23      0.38      0.10      0.69     27.52      0.99\n",
      "    beta[36]      0.43      0.21      0.40      0.14      0.74     22.67      1.00\n",
      "    beta[37]      0.43      0.22      0.38      0.12      0.85     19.71      1.02\n",
      "    beta[38]      0.45      0.26      0.39      0.10      0.89     22.89      1.01\n",
      "    beta[39]      0.45      0.28      0.40      0.06      0.90     28.34      1.00\n",
      "    beta[40]      0.46      0.30      0.39      0.05      0.93     26.41      1.00\n",
      "    beta[41]      0.47      0.33      0.38      0.05      1.00     24.81      1.00\n",
      "       beta0      1.68      0.68      1.66      0.63      2.58     21.13      1.00\n",
      "  death_prob      0.07      0.01      0.07      0.05      0.09     64.28      1.02\n",
      "  death_rate      0.14      0.03      0.14      0.09      0.18     96.18      0.99\n",
      "    det_prob      0.34      0.06      0.33      0.24      0.42     59.97      1.02\n",
      "  det_prob_d      0.92      0.02      0.92      0.88      0.97     80.37      0.99\n",
      "       gamma      0.57      0.15      0.55      0.33      0.76     79.06      0.99\n",
      "       sigma      0.15      0.06      0.14      0.07      0.25     26.98      1.00\n",
      "\n",
      "Number of divergences: 0\n",
      " * collecting predictive samples\n",
      " * collecting forecast samples\n"
     ]
    }
   ],
   "source": [
    "data = util.load_world_data()\n",
    "place = 'Italy'\n",
    "\n",
    "util.run_place(data, \n",
    "               place, \n",
    "               start='2020-03-04', \n",
    "               end='2020-04-15',\n",
    "               T_future=4*7,\n",
    "               num_warmup=100, \n",
    "               num_samples=100)"
   ]
  },
  {
   "cell_type": "code",
   "execution_count": 49,
   "metadata": {
    "scrolled": false
   },
   "outputs": [
    {
     "ename": "TypeError",
     "evalue": "getattr(): attribute name must be string",
     "output_type": "error",
     "traceback": [
      "\u001b[0;31m---------------------------------------------------------------------------\u001b[0m",
      "\u001b[0;31mTypeError\u001b[0m                                 Traceback (most recent call last)",
      "\u001b[0;32m<ipython-input-49-d0150fce1c5c>\u001b[0m in \u001b[0;36m<module>\u001b[0;34m\u001b[0m\n\u001b[1;32m     19\u001b[0m                    \u001b[0mscale\u001b[0m\u001b[0;34m=\u001b[0m\u001b[0;34m'log'\u001b[0m\u001b[0;34m,\u001b[0m\u001b[0;34m\u001b[0m\u001b[0;34m\u001b[0m\u001b[0m\n\u001b[1;32m     20\u001b[0m                    \u001b[0mdeath\u001b[0m \u001b[0;34m=\u001b[0m \u001b[0;32mNone\u001b[0m\u001b[0;34m,\u001b[0m\u001b[0;34m\u001b[0m\u001b[0;34m\u001b[0m\u001b[0m\n\u001b[0;32m---> 21\u001b[0;31m                    daily = False)\n\u001b[0m",
      "\u001b[0;32m~/projects/covid/covid/covid/util.py\u001b[0m in \u001b[0;36mplot_forecast\u001b[0;34m(self, post_pred_samples, forecast_samples, T_future, confirmed, start, scale, death, daily, **kwargs)\u001b[0m\n\u001b[1;32m    123\u001b[0m \u001b[0;34m\u001b[0m\u001b[0m\n\u001b[1;32m    124\u001b[0m         \u001b[0;31m# Plot posterior predictive for observed times\u001b[0m\u001b[0;34m\u001b[0m\u001b[0;34m\u001b[0m\u001b[0;34m\u001b[0m\u001b[0m\n\u001b[0;32m--> 125\u001b[0;31m         \u001b[0mT\u001b[0m \u001b[0;34m=\u001b[0m \u001b[0mself\u001b[0m\u001b[0;34m.\u001b[0m\u001b[0mget\u001b[0m\u001b[0;34m(\u001b[0m\u001b[0mvariable\u001b[0m\u001b[0;34m,\u001b[0m \u001b[0mpost_pred_samples\u001b[0m\u001b[0;34m)\u001b[0m\u001b[0;34m.\u001b[0m\u001b[0mshape\u001b[0m\u001b[0;34m[\u001b[0m\u001b[0;36m1\u001b[0m\u001b[0;34m]\u001b[0m\u001b[0;34m\u001b[0m\u001b[0;34m\u001b[0m\u001b[0m\n\u001b[0m\u001b[1;32m    126\u001b[0m         \u001b[0mt\u001b[0m \u001b[0;34m=\u001b[0m \u001b[0mpd\u001b[0m\u001b[0;34m.\u001b[0m\u001b[0mdate_range\u001b[0m\u001b[0;34m(\u001b[0m\u001b[0mstart\u001b[0m\u001b[0;34m=\u001b[0m\u001b[0mstart\u001b[0m\u001b[0;34m,\u001b[0m \u001b[0mperiods\u001b[0m\u001b[0;34m=\u001b[0m\u001b[0mT\u001b[0m\u001b[0;34m,\u001b[0m \u001b[0mfreq\u001b[0m\u001b[0;34m=\u001b[0m\u001b[0;34m\"D\"\u001b[0m\u001b[0;34m)\u001b[0m\u001b[0;34m\u001b[0m\u001b[0;34m\u001b[0m\u001b[0m\n\u001b[1;32m    127\u001b[0m         \u001b[0mself\u001b[0m\u001b[0;34m.\u001b[0m\u001b[0mplot_samples\u001b[0m\u001b[0;34m(\u001b[0m\u001b[0mpost_pred_samples\u001b[0m\u001b[0;34m,\u001b[0m \u001b[0max\u001b[0m\u001b[0;34m=\u001b[0m\u001b[0max\u001b[0m\u001b[0;34m,\u001b[0m \u001b[0mt\u001b[0m\u001b[0;34m=\u001b[0m\u001b[0mt\u001b[0m\u001b[0;34m,\u001b[0m \u001b[0mplot_fields\u001b[0m\u001b[0;34m=\u001b[0m\u001b[0;34m[\u001b[0m\u001b[0mvariable\u001b[0m\u001b[0;34m]\u001b[0m\u001b[0;34m)\u001b[0m\u001b[0;34m\u001b[0m\u001b[0;34m\u001b[0m\u001b[0m\n",
      "\u001b[0;32m~/projects/covid/covid/covid/models/base.py\u001b[0m in \u001b[0;36mget\u001b[0;34m(cls, samples, c, **kwargs)\u001b[0m\n\u001b[1;32m    128\u001b[0m \u001b[0;34m\u001b[0m\u001b[0m\n\u001b[1;32m    129\u001b[0m         \u001b[0;32melse\u001b[0m\u001b[0;34m:\u001b[0m\u001b[0;34m\u001b[0m\u001b[0;34m\u001b[0m\u001b[0m\n\u001b[0;32m--> 130\u001b[0;31m             \u001b[0;32mreturn\u001b[0m \u001b[0mgetattr\u001b[0m\u001b[0;34m(\u001b[0m\u001b[0mcls\u001b[0m\u001b[0;34m,\u001b[0m \u001b[0mc\u001b[0m\u001b[0;34m)\u001b[0m\u001b[0;34m(\u001b[0m\u001b[0msamples\u001b[0m\u001b[0;34m,\u001b[0m \u001b[0;34m**\u001b[0m\u001b[0mkwargs\u001b[0m\u001b[0;34m)\u001b[0m  \u001b[0;31m# call method named c\u001b[0m\u001b[0;34m\u001b[0m\u001b[0;34m\u001b[0m\u001b[0m\n\u001b[0m\u001b[1;32m    131\u001b[0m \u001b[0;34m\u001b[0m\u001b[0m\n\u001b[1;32m    132\u001b[0m \u001b[0;34m\u001b[0m\u001b[0m\n",
      "\u001b[0;31mTypeError\u001b[0m: getattr(): attribute name must be string"
     ]
    },
    {
     "data": {
      "image/png": "[encoded data removed]",
      "text/plain": [
       "<Figure size 576x864 with 2 Axes>"
      ]
     },
     "metadata": {
      "needs_background": "light"
     },
     "output_type": "display_data"
    }
   ],
   "source": [
    "place = 'Italy'\n",
    "start = '2020-03-04'\n",
    "end = '2020-04-15'\n",
    "T_future = 4*7\n",
    "legend=True\n",
    "ax = None\n",
    "plot_fields = ['y', 'z']\n",
    "\n",
    "prior_samples, mcmc_samples, post_pred_samples, forecast_samples = \\\n",
    "    util.load_samples(place)\n",
    "\n",
    "\n",
    "util.plot_forecast(model,\n",
    "                   post_pred_samples, \n",
    "                   forecast_samples,\n",
    "                   T_future,\n",
    "                   confirmed,\n",
    "                   start='2020-03-04',\n",
    "                   scale='log',\n",
    "                   death = None,\n",
    "                   daily = False)"
   ]
  },
  {
   "cell_type": "code",
   "execution_count": 45,
   "metadata": {
    "scrolled": false
   },
   "outputs": [
    {
     "data": {
      "image/png": "[encoded data removed]",
      "text/plain": [
       "<Figure size 576x360 with 1 Axes>"
      ]
     },
     "metadata": {
      "needs_background": "light"
     },
     "output_type": "display_data"
    }
   ],
   "source": [
    "place = 'Italy'\n",
    "start = '2020-03-04'\n",
    "end = '2020-04-15'\n",
    "T_future = 4*7\n",
    "legend=True\n",
    "ax = None\n",
    "plot_fields = ['y', 'z']\n",
    "\n",
    "prior_samples, mcmc_samples, post_pred_samples, forecast_samples = \\\n",
    "    util.load_samples(place)\n",
    "\n",
    "confirmed = data[place]['data'].confirmed[start:]\n",
    "death = data[place]['data'].deaths[start:]\n",
    "\n",
    "fig, ax = plt.subplots(figsize=(8,5))\n",
    "\n",
    "# Plot posterior predictive\n",
    "t = pd.date_range(start=start, end=end, freq=\"D\")\n",
    "model.plot_samples(post_pred_samples, ax=ax, t=t, plot_fields=plot_fields)\n",
    "\n",
    "# Plot forecast predictive\n",
    "forecast_start = pd.to_datetime(end) + pd.Timedelta(\"1d\")\n",
    "t = pd.date_range(start=forecast_start, periods=T_future, freq=\"1d\")\n",
    "med, _ = model.plot_samples(forecast_samples, \n",
    "                            ax=ax, \n",
    "                            t=t, \n",
    "                            legend=False, \n",
    "                            plot_fields=plot_fields,\n",
    "                            forecast=True)\n",
    "\n",
    "# Plot observed\n",
    "confirmed.plot(style='.')\n",
    "death.plot(style='.')\n",
    "ax.axvline(end, linestyle='--', alpha=0.5)\n",
    "#ax.set_yscale('log')\n",
    "ax.set_ylim(top=2*med.max())\n",
    "plt.title(place)\n",
    "plt.show()\n",
    "\n",
    "\n",
    "# Compute error\n",
    "# cum/incident confirmed/death\n",
    "#"
   ]
  },
  {
   "cell_type": "code",
   "execution_count": 44,
   "metadata": {},
   "outputs": [
    {
     "data": {
      "image/png": "[encoded data removed]",
      "text/plain": [
       "<Figure size 432x288 with 1 Axes>"
      ]
     },
     "metadata": {
      "needs_background": "light"
     },
     "output_type": "display_data"
    }
   ],
   "source": [
    "## Validation: can only do cumulative for now...\n",
    "\n",
    "# cumulative deaths \n",
    "start = forecast_start\n",
    "end = death.index.max()\n",
    "\n",
    "obs = death[start:end]\n",
    "\n",
    "T = len(obs)\n",
    "z = model.get(forecast_samples, 'z', forecast=True)[:,:T]\n",
    "df = pd.DataFrame(index=obs.index, data=z.T)\n",
    "\n",
    "point_forecast = df.median(axis=1)\n",
    "err = (obs-point_forecast).rename('err')\n",
    "err.plot(style='o')\n",
    "\n",
    "mae = err.abs().mean()\n",
    "\n",
    "plt.title(f\"{place} MAE={mae:.2f}\")\n",
    "plt.show()\n",
    "\n",
    "#display(df[0]-actual)\n",
    "# T_obs = len(actual)\n",
    "# pred = np.median(forecast_samples['z_future'][:,:T_obs], axis=0)\n",
    "\n",
    "# err_c = np.abs(pred-actual)\n",
    "# plt.plot(pred, actual, 'o')\n",
    "# plt.show()"
   ]
  },
  {
   "cell_type": "code",
   "execution_count": null,
   "metadata": {
    "scrolled": false
   },
   "outputs": [],
   "source": [
    "\n",
    "prob_model.set_data()\n",
    "prob_model()  # __call__\n",
    "prob_model.deaths(samples, forecast=True, daily=True)\n",
    "prob_model.cases(samples, forecast=True, daily=True)\n",
    "\n",
    "prob_model.get(samples, 'S')\n",
    "\n",
    "\n",
    "\n",
    "\n",
    "deaths = prob_model.cumulative_deaths(samples)"
   ]
  },
  {
   "cell_type": "code",
   "execution_count": null,
   "metadata": {},
   "outputs": [],
   "source": [
    "\n",
    "class foo():\n",
    "    \n",
    "    def __init__(self, a):\n",
    "        self.a = a\n",
    "        \n",
    "        \n",
    "    def __call__(self):\n",
    "        print(self.a)\n",
    "        \n",
    "f = foo(1)\n",
    "f()\n"
   ]
  },
  {
   "cell_type": "code",
   "execution_count": null,
   "metadata": {},
   "outputs": [],
   "source": [
    "d1 = {'a': 1, 'b': 2}\n",
    "d2 = {'a': 100, 'c': 3}\n",
    "d3 = {'d': 4}\n",
    "\n",
    "d = dict(d2, **d1, **d3)\n",
    "\n",
    "print(d)"
   ]
  },
  {
   "cell_type": "code",
   "execution_count": null,
   "metadata": {},
   "outputs": [],
   "source": []
  }
 ],
 "metadata": {
  "kernelspec": {
   "display_name": "Python 3",
   "language": "python",
   "name": "python3"
  },
  "language_info": {
   "codemirror_mode": {
    "name": "ipython",
    "version": 3
   },
   "file_extension": ".py",
   "mimetype": "text/x-python",
   "name": "python",
   "nbconvert_exporter": "python",
   "pygments_lexer": "ipython3",
   "version": "3.7.4"
  }
 },
 "nbformat": 4,
 "nbformat_minor": 2
}
