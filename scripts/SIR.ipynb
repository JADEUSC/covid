{
 "cells": [
  {
   "cell_type": "code",
   "execution_count": 1,
   "metadata": {},
   "outputs": [],
   "source": [
    "import matplotlib\n",
    "import matplotlib.pyplot as plt\n",
    "\n",
    "import jax\n",
    "import jax.numpy as np\n",
    "from jax.random import PRNGKey\n",
    "\n",
    "import numpyro\n",
    "import numpyro.distributions as dist\n",
    "from numpyro.infer import MCMC, NUTS, Predictive\n",
    "\n",
    "import pandas as pd\n",
    "\n",
    "import covid\n",
    "import covid.util as util\n",
    "from covid.models.SEIRD import SEIRD_stochastic"
   ]
  },
  {
   "cell_type": "markdown",
   "metadata": {},
   "source": [
    "# Run Inference"
   ]
  },
  {
   "cell_type": "code",
   "execution_count": 2,
   "metadata": {
    "scrolled": false
   },
   "outputs": [
    {
     "name": "stdout",
     "output_type": "stream",
     "text": [
      "******* NY *********\n",
      "Running MCMC\n"
     ]
    },
    {
     "name": "stderr",
     "output_type": "stream",
     "text": [
      "sample: 100%|██████████| 200/200 [01:02<00:00,  3.18it/s, 639 steps of size 7.18e-03. acc. prob=0.94] \n"
     ]
    },
    {
     "name": "stdout",
     "output_type": "stream",
     "text": [
      "\n",
      "                  mean       std    median      5.0%     95.0%     n_eff     r_hat\n",
      "          D0     14.50      3.41     13.97      9.48     19.71     65.14      1.00\n",
      "          E0   7613.14   4964.20   6708.91   1101.75  13493.69     50.32      1.01\n",
      "          H0     98.78     31.40     95.95     58.06    158.74     75.55      0.99\n",
      "          I0   1941.02    521.96   1898.74   1182.39   2544.13     41.68      1.02\n",
      "     beta[0]      2.47      0.86      2.34      1.26      3.95     41.91      1.02\n",
      "     beta[1]      2.54      0.95      2.44      1.04      3.85     54.75      1.00\n",
      "     beta[2]      2.52      0.98      2.29      1.09      3.84     47.25      0.99\n",
      "     beta[3]      2.40      0.95      2.25      1.32      3.73     49.05      0.99\n",
      "     beta[4]      2.23      0.85      2.09      0.97      3.28     49.31      0.99\n",
      "     beta[5]      2.04      0.80      1.88      1.06      3.20     61.86      1.00\n",
      "     beta[6]      1.85      0.73      1.71      1.00      2.98     68.60      1.00\n",
      "     beta[7]      1.69      0.61      1.57      0.90      2.42     75.67      0.99\n",
      "     beta[8]      1.51      0.47      1.43      0.82      2.26     71.86      0.99\n",
      "     beta[9]      1.38      0.41      1.26      0.69      1.95     60.76      0.99\n",
      "    beta[10]      1.22      0.37      1.17      0.73      1.87     62.04      1.00\n",
      "    beta[11]      1.02      0.32      0.96      0.60      1.51     65.00      1.02\n",
      "    beta[12]      0.91      0.32      0.83      0.41      1.33     66.08      1.02\n",
      "    beta[13]      0.80      0.30      0.70      0.38      1.26     52.76      1.03\n",
      "    beta[14]      0.73      0.28      0.66      0.39      1.18     57.86      1.01\n",
      "    beta[15]      0.65      0.22      0.60      0.36      1.01     40.34      1.04\n",
      "    beta[16]      0.58      0.20      0.54      0.30      0.87     34.36      1.08\n",
      "    beta[17]      0.54      0.20      0.48      0.25      0.87     37.67      1.08\n",
      "    beta[18]      0.50      0.19      0.48      0.21      0.78     71.53      1.02\n",
      "    beta[19]      0.47      0.18      0.46      0.22      0.76     71.63      1.02\n",
      "    beta[20]      0.45      0.18      0.42      0.22      0.76     63.65      1.03\n",
      "    beta[21]      0.44      0.18      0.39      0.23      0.78     59.35      1.03\n",
      "    beta[22]      0.42      0.16      0.40      0.18      0.67     44.09      1.07\n",
      "    beta[23]      0.42      0.15      0.40      0.22      0.69     38.01      1.13\n",
      "    beta[24]      0.41      0.15      0.39      0.16      0.65     34.88      1.10\n",
      "    beta[25]      0.42      0.17      0.39      0.15      0.64     38.38      1.07\n",
      "    beta[26]      0.42      0.18      0.39      0.15      0.66     43.01      1.03\n",
      "    beta[27]      0.42      0.19      0.40      0.16      0.68     53.15      1.01\n",
      "    beta[28]      0.44      0.22      0.39      0.14      0.67     56.13      1.01\n",
      "    beta[29]      0.45      0.22      0.43      0.13      0.81     48.15      1.00\n",
      "    beta[30]      0.45      0.22      0.41      0.14      0.76     48.51      0.99\n",
      "    beta[31]      0.44      0.22      0.41      0.14      0.81     47.46      0.99\n",
      "    beta[32]      0.46      0.26      0.39      0.13      0.80     47.11      1.00\n",
      "    beta[33]      0.48      0.30      0.41      0.10      0.97     41.74      1.01\n",
      "    beta[34]      0.51      0.35      0.41      0.09      1.04     44.09      1.00\n",
      "    beta[35]      0.53      0.35      0.43      0.14      1.14     43.41      0.99\n",
      "    beta[36]      0.55      0.38      0.40      0.09      1.16     47.64      0.99\n",
      "    beta[37]      0.54      0.36      0.43      0.11      1.08     37.70      0.99\n",
      "    beta[38]      0.54      0.39      0.40      0.08      1.08     35.75      0.99\n",
      "    beta[39]      0.55      0.40      0.43      0.07      1.08     32.25      0.99\n",
      "    beta[40]      0.55      0.41      0.40      0.08      1.09     34.78      0.99\n",
      "       beta0      2.41      0.88      2.23      1.29      3.86     20.53      1.10\n",
      "  death_prob      0.05      0.01      0.05      0.03      0.06     38.48      1.03\n",
      "  death_rate      0.11      0.02      0.10      0.08      0.15     73.09      1.00\n",
      "    det_prob      0.33      0.06      0.33      0.24      0.42     36.82      1.01\n",
      "  det_prob_d      0.89      0.03      0.89      0.84      0.94     78.52      1.00\n",
      "       gamma      0.59      0.18      0.54      0.33      0.89     40.54      1.05\n",
      "       sigma      0.23      0.08      0.22      0.08      0.32     43.02      1.04\n",
      "\n",
      "Number of divergences: 0\n"
     ]
    }
   ],
   "source": [
    "data = util.load_state_data()\n",
    "\n",
    "#places = state_data.keys()\n",
    "#places = ['Italy', 'US', 'WA', 'NY', 'MA']\n",
    "#places = ['NY', 'MA', 'WA', 'AK', 'WV']\n",
    "#places = ['US']\n",
    "#places = sorted(['NY', 'WA', 'MA', 'MI', 'AL', 'AR', 'KY'])\n",
    "places = ['NY']\n",
    "\n",
    "save = True\n",
    "for place in places:\n",
    "    util.run_place(data, place, save=save, start='2020-03-15', num_warmup=100, num_samples=100)\n"
   ]
  },
  {
   "cell_type": "code",
   "execution_count": 3,
   "metadata": {
    "scrolled": false
   },
   "outputs": [
    {
     "ename": "NameError",
     "evalue": "name 'onp' is not defined",
     "output_type": "error",
     "traceback": [
      "\u001b[0;31m---------------------------------------------------------------------------\u001b[0m",
      "\u001b[0;31mNameError\u001b[0m                                 Traceback (most recent call last)",
      "\u001b[0;32m<ipython-input-3-c62c5670644f>\u001b[0m in \u001b[0;36m<module>\u001b[0;34m\u001b[0m\n\u001b[1;32m     20\u001b[0m \u001b[0;31m# Inspect and Save Results\u001b[0m\u001b[0;34m\u001b[0m\u001b[0;34m\u001b[0m\u001b[0;34m\u001b[0m\u001b[0m\n\u001b[1;32m     21\u001b[0m \u001b[0;32mfor\u001b[0m \u001b[0mplace\u001b[0m \u001b[0;32min\u001b[0m \u001b[0mplaces\u001b[0m\u001b[0;34m:\u001b[0m\u001b[0;34m\u001b[0m\u001b[0;34m\u001b[0m\u001b[0m\n\u001b[0;32m---> 22\u001b[0;31m     \u001b[0mutil\u001b[0m\u001b[0;34m.\u001b[0m\u001b[0mgen_forecasts\u001b[0m\u001b[0;34m(\u001b[0m\u001b[0mdata\u001b[0m\u001b[0;34m,\u001b[0m \u001b[0mplace\u001b[0m\u001b[0;34m,\u001b[0m \u001b[0mstart\u001b[0m\u001b[0;34m=\u001b[0m\u001b[0mstart\u001b[0m\u001b[0;34m,\u001b[0m \u001b[0msave\u001b[0m\u001b[0;34m=\u001b[0m\u001b[0msave\u001b[0m\u001b[0;34m,\u001b[0m \u001b[0mdaily\u001b[0m\u001b[0;34m=\u001b[0m\u001b[0;32mFalse\u001b[0m\u001b[0;34m)\u001b[0m\u001b[0;34m\u001b[0m\u001b[0;34m\u001b[0m\u001b[0m\n\u001b[0m",
      "\u001b[0;32m~/projects/covid/refactor/covid/util.py\u001b[0m in \u001b[0;36mgen_forecasts\u001b[0;34m(data, place, start, load_path, save_path, save, show, **kwargs)\u001b[0m\n\u001b[1;32m    432\u001b[0m                                     \u001b[0mscale\u001b[0m \u001b[0;34m=\u001b[0m \u001b[0mscale\u001b[0m\u001b[0;34m,\u001b[0m\u001b[0;34m\u001b[0m\u001b[0;34m\u001b[0m\u001b[0m\n\u001b[1;32m    433\u001b[0m                                     \u001b[0mdeath\u001b[0m \u001b[0;34m=\u001b[0m \u001b[0mdeath\u001b[0m\u001b[0;34m,\u001b[0m\u001b[0;34m\u001b[0m\u001b[0;34m\u001b[0m\u001b[0m\n\u001b[0;32m--> 434\u001b[0;31m                                     **kwargs)\n\u001b[0m\u001b[1;32m    435\u001b[0m \u001b[0;34m\u001b[0m\u001b[0m\n\u001b[1;32m    436\u001b[0m             \u001b[0mname\u001b[0m \u001b[0;34m=\u001b[0m \u001b[0mdata\u001b[0m\u001b[0;34m[\u001b[0m\u001b[0mplace\u001b[0m\u001b[0;34m]\u001b[0m\u001b[0;34m[\u001b[0m\u001b[0;34m'name'\u001b[0m\u001b[0;34m]\u001b[0m\u001b[0;34m\u001b[0m\u001b[0;34m\u001b[0m\u001b[0m\n",
      "\u001b[0;32m~/projects/covid/refactor/covid/util.py\u001b[0m in \u001b[0;36mplot_forecast\u001b[0;34m(post_pred_samples, T, confirmed, t, scale, n_samples, death, daily, **kwargs)\u001b[0m\n\u001b[1;32m    249\u001b[0m     \u001b[0;32mfor\u001b[0m \u001b[0mvariable\u001b[0m\u001b[0;34m,\u001b[0m \u001b[0mobservation\u001b[0m\u001b[0;34m,\u001b[0m \u001b[0max\u001b[0m \u001b[0;32min\u001b[0m \u001b[0mzip\u001b[0m\u001b[0;34m(\u001b[0m\u001b[0mvariables\u001b[0m\u001b[0;34m,\u001b[0m \u001b[0mobservations\u001b[0m\u001b[0;34m,\u001b[0m \u001b[0maxes\u001b[0m\u001b[0;34m)\u001b[0m\u001b[0;34m:\u001b[0m\u001b[0;34m\u001b[0m\u001b[0;34m\u001b[0m\u001b[0m\n\u001b[1;32m    250\u001b[0m \u001b[0;34m\u001b[0m\u001b[0m\n\u001b[0;32m--> 251\u001b[0;31m         \u001b[0mmedian_max\u001b[0m\u001b[0;34m,\u001b[0m \u001b[0mpi_max\u001b[0m \u001b[0;34m=\u001b[0m \u001b[0mplot_samples\u001b[0m\u001b[0;34m(\u001b[0m\u001b[0mpost_pred_samples\u001b[0m\u001b[0;34m,\u001b[0m \u001b[0mT\u001b[0m\u001b[0;34m=\u001b[0m\u001b[0mT\u001b[0m\u001b[0;34m,\u001b[0m \u001b[0mt\u001b[0m\u001b[0;34m=\u001b[0m\u001b[0mt\u001b[0m\u001b[0;34m,\u001b[0m \u001b[0max\u001b[0m\u001b[0;34m=\u001b[0m\u001b[0max\u001b[0m\u001b[0;34m,\u001b[0m \u001b[0mplot_fields\u001b[0m\u001b[0;34m=\u001b[0m\u001b[0;34m[\u001b[0m\u001b[0mvariable\u001b[0m\u001b[0;34m]\u001b[0m\u001b[0;34m,\u001b[0m \u001b[0;34m**\u001b[0m\u001b[0mkwargs\u001b[0m\u001b[0;34m)\u001b[0m\u001b[0;34m\u001b[0m\u001b[0;34m\u001b[0m\u001b[0m\n\u001b[0m\u001b[1;32m    252\u001b[0m         \u001b[0mobservation\u001b[0m\u001b[0;34m.\u001b[0m\u001b[0mplot\u001b[0m\u001b[0;34m(\u001b[0m\u001b[0max\u001b[0m\u001b[0;34m=\u001b[0m\u001b[0max\u001b[0m\u001b[0;34m,\u001b[0m \u001b[0mstyle\u001b[0m\u001b[0;34m=\u001b[0m\u001b[0;34m'o'\u001b[0m\u001b[0;34m)\u001b[0m\u001b[0;34m\u001b[0m\u001b[0;34m\u001b[0m\u001b[0m\n\u001b[1;32m    253\u001b[0m \u001b[0;34m\u001b[0m\u001b[0m\n",
      "\u001b[0;32m~/projects/covid/refactor/covid/util.py\u001b[0m in \u001b[0;36mplot_samples\u001b[0;34m(samples, plot_fields, T, t, ax, n_samples, legend, model)\u001b[0m\n\u001b[1;32m    186\u001b[0m               \u001b[0;34m'total confirmed'\u001b[0m \u001b[0;34m:\u001b[0m \u001b[0msamples\u001b[0m\u001b[0;34m[\u001b[0m\u001b[0;34m'y'\u001b[0m\u001b[0;34m]\u001b[0m\u001b[0;34m[\u001b[0m\u001b[0;34m:\u001b[0m\u001b[0;34m,\u001b[0m\u001b[0;34m:\u001b[0m\u001b[0mT\u001b[0m\u001b[0;34m]\u001b[0m\u001b[0;34m,\u001b[0m\u001b[0;34m\u001b[0m\u001b[0;34m\u001b[0m\u001b[0m\n\u001b[1;32m    187\u001b[0m               \u001b[0;34m'total deaths'\u001b[0m    \u001b[0;34m:\u001b[0m \u001b[0msamples\u001b[0m\u001b[0;34m[\u001b[0m\u001b[0;34m'z'\u001b[0m\u001b[0;34m]\u001b[0m\u001b[0;34m[\u001b[0m\u001b[0;34m:\u001b[0m\u001b[0;34m,\u001b[0m\u001b[0;34m:\u001b[0m\u001b[0mT\u001b[0m\u001b[0;34m]\u001b[0m\u001b[0;34m,\u001b[0m\u001b[0;34m\u001b[0m\u001b[0;34m\u001b[0m\u001b[0m\n\u001b[0;32m--> 188\u001b[0;31m               \u001b[0;34m'daily confirmed'\u001b[0m \u001b[0;34m:\u001b[0m \u001b[0monp\u001b[0m\u001b[0;34m.\u001b[0m\u001b[0mdiff\u001b[0m\u001b[0;34m(\u001b[0m\u001b[0msamples\u001b[0m\u001b[0;34m[\u001b[0m\u001b[0;34m'mean_y'\u001b[0m\u001b[0;34m]\u001b[0m\u001b[0;34m[\u001b[0m\u001b[0;34m:\u001b[0m\u001b[0;34m,\u001b[0m\u001b[0;34m:\u001b[0m\u001b[0mT\u001b[0m\u001b[0;34m]\u001b[0m\u001b[0;34m,\u001b[0m \u001b[0maxis\u001b[0m\u001b[0;34m=\u001b[0m\u001b[0;36m1\u001b[0m\u001b[0;34m,\u001b[0m \u001b[0mprepend\u001b[0m\u001b[0;34m=\u001b[0m\u001b[0mnp\u001b[0m\u001b[0;34m.\u001b[0m\u001b[0mnan\u001b[0m\u001b[0;34m)\u001b[0m\u001b[0;34m,\u001b[0m\u001b[0;34m\u001b[0m\u001b[0;34m\u001b[0m\u001b[0m\n\u001b[0m\u001b[1;32m    189\u001b[0m               'daily deaths'    : onp.diff(samples['mean_z'][:,:T], axis=1, prepend=np.nan)}\n\u001b[1;32m    190\u001b[0m \u001b[0;34m\u001b[0m\u001b[0m\n",
      "\u001b[0;31mNameError\u001b[0m: name 'onp' is not defined"
     ]
    },
    {
     "data": {
      "image/png": "[encoded data removed]",
      "text/plain": [
       "<Figure size 576x864 with 2 Axes>"
      ]
     },
     "metadata": {
      "needs_background": "light"
     },
     "output_type": "display_data"
    }
   ],
   "source": [
    "data = util.load_state_data()\n",
    "\n",
    "start = '2020-03-15'\n",
    "#places = ['Italy', 'US', 'WA', 'NY', 'MA']\n",
    "#places = ['ID']\n",
    "#places = ['NY']\n",
    "#places = state_data.keys()\n",
    "#places = ['AK']\n",
    "#places = ['US']\n",
    "#places = ['LA', 'NY']\n",
    "#places = ['NY', 'MA', 'WA', 'AK', 'WV']\n",
    "#places = ['CO']\n",
    "#places = ['NY', 'WA', 'MA']\n",
    "#places = sorted(['NY', 'WA', 'MA', 'MI', 'AL', 'AR', 'KY'])\n",
    "places = ['AL']\n",
    "\n",
    "save = True\n",
    "\n",
    "\n",
    "# Inspect and Save Results \n",
    "for place in places:\n",
    "    util.gen_forecasts(data, place, start=start, save=save, daily=False)"
   ]
  },
  {
   "cell_type": "code",
   "execution_count": null,
   "metadata": {},
   "outputs": [],
   "source": []
  }
 ],
 "metadata": {
  "kernelspec": {
   "display_name": "Python 3",
   "language": "python",
   "name": "python3"
  },
  "language_info": {
   "codemirror_mode": {
    "name": "ipython",
    "version": 3
   },
   "file_extension": ".py",
   "mimetype": "text/x-python",
   "name": "python",
   "nbconvert_exporter": "python",
   "pygments_lexer": "ipython3",
   "version": "3.7.4"
  }
 },
 "nbformat": 4,
 "nbformat_minor": 2
}
