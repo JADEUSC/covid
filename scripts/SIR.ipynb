{
 "cells": [
  {
   "cell_type": "code",
   "execution_count": 1,
   "metadata": {},
   "outputs": [],
   "source": [
    "import matplotlib\n",
    "import matplotlib.pyplot as plt\n",
    "\n",
    "import jax\n",
    "import jax.numpy as np\n",
    "from jax.random import PRNGKey\n",
    "\n",
    "import numpyro\n",
    "import numpyro.distributions as dist\n",
    "from numpyro.infer import MCMC, NUTS, Predictive\n",
    "\n",
    "import pandas as pd\n",
    "\n",
    "import covid\n",
    "import covid.util as util\n",
    "from covid.models.SEIRD import SEIRD_stochastic"
   ]
  },
  {
   "cell_type": "markdown",
   "metadata": {},
   "source": [
    "# Run Inference"
   ]
  },
  {
   "cell_type": "code",
   "execution_count": null,
   "metadata": {
    "scrolled": true
   },
   "outputs": [],
   "source": [
    "data = util.load_state_data()\n",
    "\n",
    "#places = state_data.keys()\n",
    "#places = ['Italy', 'US', 'WA', 'NY', 'MA']\n",
    "#places = ['NY', 'MA', 'WA', 'AK', 'WV']\n",
    "#places = ['US']\n",
    "#places = sorted(['NY', 'WA', 'MA', 'MI', 'AL', 'AR', 'KY'])\n",
    "places = ['NY']\n",
    "\n",
    "save = True\n",
    "for place in places:\n",
    "    util.run_place(data, place, save=save, start='2020-03-15', num_warmup=100, num_samples=100)\n"
   ]
  },
  {
   "cell_type": "code",
   "execution_count": null,
   "metadata": {
    "scrolled": false
   },
   "outputs": [],
   "source": [
    "data = util.load_state_data()\n",
    "\n",
    "start = '2020-03-15'\n",
    "#places = ['Italy', 'US', 'WA', 'NY', 'MA']\n",
    "#places = ['ID']\n",
    "#places = ['NY']\n",
    "#places = state_data.keys()\n",
    "#places = ['AK']\n",
    "#places = ['US']\n",
    "#places = ['LA', 'NY']\n",
    "#places = ['NY', 'MA', 'WA', 'AK', 'WV']\n",
    "#places = ['CO']\n",
    "#places = ['NY', 'WA', 'MA']\n",
    "#places = sorted(['NY', 'WA', 'MA', 'MI', 'AL', 'AR', 'KY'])\n",
    "places = ['AL']\n",
    "\n",
    "save = True\n",
    "\n",
    "\n",
    "# Inspect and Save Results \n",
    "for place in places:\n",
    "    util.gen_forecasts(data, place, start=start, save=save, daily=False)"
   ]
  },
  {
   "cell_type": "code",
   "execution_count": null,
   "metadata": {},
   "outputs": [],
   "source": []
  },
  {
   "cell_type": "code",
   "execution_count": null,
   "metadata": {},
   "outputs": [],
   "source": [
    "import seaborn as sns\n",
    "\n",
    "cols = ['gamma', 'beta0', 'sigma', 'det_rate']\n",
    "\n",
    "def get_cols(d):\n",
    "    return {k: v for k, v in d.items() if k in cols}\n",
    "\n",
    "prior_df = pd.DataFrame(get_cols(prior_samples))\n",
    "posterior_df = pd.DataFrame(get_cols(mcmc_samples))\n",
    "\n",
    "prior_df['dist'] = 'prior'\n",
    "posterior_df['dist'] = 'posterior'\n",
    "\n",
    "# Visualize priors\n",
    "fig, ax = plt.subplots(ncols=len(cols), figsize=(16,3))\n",
    "for i in range(len(cols)):\n",
    "    sns.kdeplot(prior_df[cols[i]], ax=ax[i], shade=True)\n",
    "    ax[i].set_title(cols[i])\n",
    "    plt.suptitle('Priors')\n",
    "plt.show()\n",
    "    \n",
    "\n",
    "# Compare posterior to prior\n",
    "df = pd.concat([prior_df, posterior_df])\n",
    "g = sns.PairGrid(df, hue='dist', diag_sharey=False, vars=['beta0', 'gamma', 'sigma'])\n",
    "g = g.map_diag(sns.kdeplot, shade=True)\n",
    "g = g.map_upper(plt.scatter, s=0.1, alpha=0.5)\n",
    "g = g.map_lower(sns.kdeplot, n_levels=5, shade=True, shade_lowest=False, alpha=0.6)\n",
    "g = g.add_legend()\n",
    "plt.show()\n",
    "\n",
    "# Compare gamma and beta0 specifically\n",
    "fig, ax = plt.subplots(figsize=(9,4), ncols=2)\n",
    "\n",
    "xlim = [0, 6]\n",
    "ylim = [0, 3]\n",
    "\n",
    "for df, name, a in zip([prior_df, posterior_df], ['Prior', 'Posterior'], ax):\n",
    "    sns.kdeplot(df['beta0'], \n",
    "                df['gamma'], \n",
    "                ax=a,\n",
    "                shade=True, \n",
    "                shade_lowest=False)\n",
    "    a.set_title(name)\n",
    "    a.set_xlim(xlim)\n",
    "    a.set_ylim(ylim)\n",
    "\n",
    "plt.show()\n",
    "\n",
    "samples = post_pred_samples\n",
    "X = np.concatenate((samples['x'], samples['x_future']), axis=1)\n",
    "\n",
    "T = X.shape[1]\n",
    "t = pd.date_range(start, freq='D', periods=T)\n",
    "levels = 10\n",
    "\n",
    "beta0 = mcmc_samples['beta0']\n",
    "gamma = mcmc_samples['gamma']\n",
    "inds = np.argsort(beta0)\n",
    "level_inds = inds[np.linspace(0, len(I)-1, levels).astype('int32')]\n",
    "\n",
    "fig, ax = plt.subplots(figsize=(12,14), nrows=5)\n",
    "\n",
    "\n",
    "beta0_gamma = [f'({beta0[i]:.2f}, {gamma[i]:.2f})' for i in level_inds]\n",
    "\n",
    "for col, name, a in zip([0, 1, 2, 3, 4], \n",
    "                       ['susceptible', 'exposed', 'infectious', 'removed', 'cum. infected'],\n",
    "                       ax):\n",
    "\n",
    "    X_levels = np.squeeze(X[level_inds,:,col].T)\n",
    "\n",
    "    lines = []\n",
    "    cmap = plt.cm.cool\n",
    "    for i in range(levels):\n",
    "        lines += a.plot(t, X_levels[:,i], color=cmap(i*30))\n",
    "\n",
    "    a.set_title(name)\n",
    "    \n",
    "plt.legend(beta0_gamma)\n",
    "\n",
    "plt.show()"
   ]
  },
  {
   "cell_type": "code",
   "execution_count": null,
   "metadata": {},
   "outputs": [],
   "source": [
    "n = 50\n",
    "for i in range(n):\n",
    "    print(plt.cm.jet(i * n / 256))"
   ]
  },
  {
   "cell_type": "markdown",
   "metadata": {},
   "source": [
    "## Tests"
   ]
  },
  {
   "cell_type": "code",
   "execution_count": 4,
   "metadata": {
    "scrolled": false
   },
   "outputs": [
    {
     "ename": "TypeError",
     "evalue": "SEIRD_stochastic() got an unexpected keyword argument 'use_hosp'",
     "output_type": "error",
     "traceback": [
      "\u001b[0;31m---------------------------------------------------------------------------\u001b[0m",
      "\u001b[0;31mTypeError\u001b[0m                                 Traceback (most recent call last)",
      "\u001b[0;32m<ipython-input-4-5c31178ca926>\u001b[0m in \u001b[0;36m<module>\u001b[0;34m\u001b[0m\n\u001b[1;32m     48\u001b[0m \u001b[0;32mif\u001b[0m \u001b[0mrun_tests\u001b[0m\u001b[0;34m:\u001b[0m\u001b[0;34m\u001b[0m\u001b[0;34m\u001b[0m\u001b[0m\n\u001b[1;32m     49\u001b[0m     \u001b[0;32mfor\u001b[0m \u001b[0mi\u001b[0m \u001b[0;32min\u001b[0m \u001b[0mrange\u001b[0m\u001b[0;34m(\u001b[0m\u001b[0;36m5\u001b[0m\u001b[0;34m)\u001b[0m\u001b[0;34m:\u001b[0m\u001b[0;34m\u001b[0m\u001b[0;34m\u001b[0m\u001b[0m\n\u001b[0;32m---> 50\u001b[0;31m         \u001b[0mtest_prior\u001b[0m\u001b[0;34m(\u001b[0m\u001b[0mi\u001b[0m\u001b[0;34m,\u001b[0m \u001b[0mlog_scale\u001b[0m\u001b[0;34m=\u001b[0m\u001b[0;32mFalse\u001b[0m\u001b[0;34m,\u001b[0m \u001b[0mT\u001b[0m\u001b[0;34m=\u001b[0m\u001b[0;36m100\u001b[0m\u001b[0;34m,\u001b[0m \u001b[0mT_future\u001b[0m\u001b[0;34m=\u001b[0m\u001b[0;36m100\u001b[0m\u001b[0;34m,\u001b[0m \u001b[0mN\u001b[0m\u001b[0;34m=\u001b[0m\u001b[0;36m1e8\u001b[0m\u001b[0;34m,\u001b[0m \u001b[0muse_hosp\u001b[0m\u001b[0;34m=\u001b[0m\u001b[0;32mTrue\u001b[0m\u001b[0;34m)\u001b[0m\u001b[0;34m\u001b[0m\u001b[0;34m\u001b[0m\u001b[0m\n\u001b[0m\u001b[1;32m     51\u001b[0m \u001b[0;34m\u001b[0m\u001b[0m\n\u001b[1;32m     52\u001b[0m \u001b[0;31m#    samples = test_prior_predictive()\u001b[0m\u001b[0;34m\u001b[0m\u001b[0;34m\u001b[0m\u001b[0;34m\u001b[0m\u001b[0m\n",
      "\u001b[0;32m<ipython-input-4-5c31178ca926>\u001b[0m in \u001b[0;36mtest_prior\u001b[0;34m(i, log_scale, **kwargs)\u001b[0m\n\u001b[1;32m      1\u001b[0m \u001b[0;32mdef\u001b[0m \u001b[0mtest_prior\u001b[0m\u001b[0;34m(\u001b[0m\u001b[0mi\u001b[0m\u001b[0;34m,\u001b[0m \u001b[0mlog_scale\u001b[0m\u001b[0;34m=\u001b[0m\u001b[0;32mFalse\u001b[0m\u001b[0;34m,\u001b[0m \u001b[0;34m**\u001b[0m\u001b[0mkwargs\u001b[0m\u001b[0;34m)\u001b[0m\u001b[0;34m:\u001b[0m\u001b[0;34m\u001b[0m\u001b[0;34m\u001b[0m\u001b[0m\n\u001b[1;32m      2\u001b[0m     \u001b[0;32mwith\u001b[0m \u001b[0mnumpyro\u001b[0m\u001b[0;34m.\u001b[0m\u001b[0mhandlers\u001b[0m\u001b[0;34m.\u001b[0m\u001b[0mseed\u001b[0m\u001b[0;34m(\u001b[0m\u001b[0mrng_seed\u001b[0m\u001b[0;34m=\u001b[0m\u001b[0mi\u001b[0m\u001b[0;34m)\u001b[0m\u001b[0;34m:\u001b[0m\u001b[0;34m\u001b[0m\u001b[0;34m\u001b[0m\u001b[0m\n\u001b[0;32m----> 3\u001b[0;31m         \u001b[0mbeta\u001b[0m\u001b[0;34m,\u001b[0m \u001b[0mx\u001b[0m\u001b[0;34m,\u001b[0m \u001b[0my\u001b[0m\u001b[0;34m,\u001b[0m \u001b[0mz\u001b[0m\u001b[0;34m,\u001b[0m \u001b[0mobs_rate\u001b[0m\u001b[0;34m,\u001b[0m \u001b[0mhosp_rate\u001b[0m \u001b[0;34m=\u001b[0m \u001b[0mSEIRD_stochastic\u001b[0m\u001b[0;34m(\u001b[0m\u001b[0;34m**\u001b[0m\u001b[0mkwargs\u001b[0m\u001b[0;34m)\u001b[0m\u001b[0;34m\u001b[0m\u001b[0;34m\u001b[0m\u001b[0m\n\u001b[0m\u001b[1;32m      4\u001b[0m \u001b[0;34m\u001b[0m\u001b[0m\n\u001b[1;32m      5\u001b[0m     \u001b[0mT\u001b[0m \u001b[0;34m=\u001b[0m \u001b[0mlen\u001b[0m\u001b[0;34m(\u001b[0m\u001b[0mx\u001b[0m\u001b[0;34m)\u001b[0m\u001b[0;34m\u001b[0m\u001b[0;34m\u001b[0m\u001b[0m\n",
      "\u001b[0;31mTypeError\u001b[0m: SEIRD_stochastic() got an unexpected keyword argument 'use_hosp'"
     ]
    }
   ],
   "source": [
    "def test_prior(i, log_scale=False, **kwargs):\n",
    "    with numpyro.handlers.seed(rng_seed=i):\n",
    "        beta, x, y, z, obs_rate, hosp_rate = SEIR_stochastic(**kwargs)\n",
    "        \n",
    "    T = len(x)\n",
    "    ts = np.arange(T)\n",
    "    \n",
    "    fig, ax1 = plt.subplots()\n",
    "    ax2 = ax1.twinx()\n",
    "    \n",
    "    l1 = ax1.plot(ts, x[:,1:])    \n",
    "    l2 = ax2.plot(ts, y, 'x', color='r')\n",
    "    l3 = ax2.plot(ts, z, 'x', color='k')\n",
    "        \n",
    "    plt.legend(l1 + l2 + l3, ['I', 'R', 'C', 'y', 'hosp'])\n",
    "    \n",
    "    ax1.set_ylabel('compartment count')\n",
    "    ax2.set_ylabel('observed cases')\n",
    "\n",
    "    if log_scale:\n",
    "        ax1.set_yscale('log')\n",
    "        ax2.set_yscale('log')\n",
    "    \n",
    "    ylim = np.array(ax1.get_ylim())\n",
    "    ax2.set_ylim(obs_rate * ylim )\n",
    "    \n",
    "    plt.show()\n",
    "\n",
    "def test_prior_predictive():\n",
    "    T = 100\n",
    "    T_future = 100\n",
    "    N = 1e6\n",
    "    predictive = Predictive(SEIR_stochastic, \n",
    "                            posterior_samples = {}, \n",
    "                            num_samples=100)\n",
    "\n",
    "    samples = predictive(PRNGKey(2), T=T, T_future=100, N=N, det_conc=200)\n",
    "\n",
    "    plot_samples(samples, T=200, plot_fields=['I', 'y'])\n",
    "    plt.title('Prior predictive')\n",
    "    plt.yscale('log') \n",
    "    plt.show()\n",
    "    \n",
    "    return samples\n",
    "    \n",
    "run_tests = True\n",
    "    \n",
    "if run_tests:\n",
    "    for i in range(5):\n",
    "        test_prior(i, log_scale=False, T=100, T_future=100, N=1e8, use_hosp=True)\n",
    "        \n",
    "#    samples = test_prior_predictive()"
   ]
  },
  {
   "cell_type": "code",
   "execution_count": null,
   "metadata": {},
   "outputs": [],
   "source": [
    "place = 'AZ'\n",
    "prior_samples, mcmc_samples, post_pred_samples = util.load_samples(place)\n",
    "\n",
    "plt.hist(prior_samples['hosp_rate'])\n",
    "plt.show()\n",
    "\n",
    "plt.hist(mcmc_samples['hosp_rate'])\n",
    "plt.show()"
   ]
  }
 ],
 "metadata": {
  "kernelspec": {
   "display_name": "Python 3",
   "language": "python",
   "name": "python3"
  },
  "language_info": {
   "codemirror_mode": {
    "name": "ipython",
    "version": 3
   },
   "file_extension": ".py",
   "mimetype": "text/x-python",
   "name": "python",
   "nbconvert_exporter": "python",
   "pygments_lexer": "ipython3",
   "version": "3.7.4"
  }
 },
 "nbformat": 4,
 "nbformat_minor": 2
}
