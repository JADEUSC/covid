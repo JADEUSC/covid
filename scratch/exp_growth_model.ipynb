{
 "cells": [
  {
   "cell_type": "code",
   "execution_count": null,
   "metadata": {},
   "outputs": [],
   "source": [
    "#import jhu\n",
    "import pandas as pd\n",
    "import covid.util as util\n",
    "print (\"tmp\")"
   ]
  },
  {
   "cell_type": "code",
   "execution_count": 7,
   "metadata": {
    "scrolled": false
   },
   "outputs": [
    {
     "data": {
      "image/png": "[encoded data removed]",
      "text/plain": [
       "<Figure size 432x288 with 1 Axes>"
      ]
     },
     "metadata": {},
     "output_type": "display_data"
    }
   ],
   "source": [
    "import matplotlib.pyplot as plt\n",
    "US = util.jhu.load_us()\n",
    "start = pd.Timestamp('2020-03-15')\n",
    "\n",
    "\n",
    "\n",
    "US['MA'][start:].plot(style='o-')\n",
    "plt.title('MA')\n",
    "plt.show()\n",
    "vals = US['MA'][start:]['death'].values"
   ]
  },
  {
   "cell_type": "code",
   "execution_count": 84,
   "metadata": {},
   "outputs": [
    {
     "name": "stderr",
     "output_type": "stream",
     "text": [
      "sample: 100%|██████████| 3000/3000 [00:29<00:00, 100.93it/s, 1023 steps of size 2.28e-07. acc. prob=0.80]\n"
     ]
    },
    {
     "name": "stdout",
     "output_type": "stream",
     "text": [
      "\n",
      "                mean       std    median      5.0%     95.0%     n_eff     r_hat\n",
      "        d0      1.08      0.00      1.08      1.08      1.08      0.50      1.00\n",
      "     rw[0]      0.50      0.00      0.50      0.50      0.50      0.50      1.00\n",
      "     rw[1]     -0.28      0.00     -0.28     -0.28     -0.28      0.50      1.00\n",
      "     rw[2]      1.46      0.00      1.46      1.46      1.46      0.50      1.00\n",
      "     rw[3]     -0.73      0.00     -0.73     -0.73     -0.73      0.50      1.00\n",
      "     rw[4]      1.67      0.00      1.67      1.67      1.67      0.50      1.00\n",
      "     rw[5]      0.56      0.00      0.56      0.56      0.56      0.50      1.00\n",
      "     rw[6]     -0.20      0.00     -0.20     -0.20     -0.20      0.50      1.00\n",
      "     rw[7]     -1.11      0.00     -1.11     -1.11     -1.11      0.50      1.00\n",
      "     rw[8]     -0.90      0.00     -0.90     -0.90     -0.90      0.50      1.00\n",
      "     rw[9]      0.28      0.00      0.28      0.28      0.28      0.50      1.00\n",
      "    rw[10]     -0.54      0.00     -0.54     -0.54     -0.54      0.50      1.00\n",
      "    rw[11]     -1.99      0.00     -1.99     -1.99     -1.99      0.50      1.00\n",
      "    rw[12]     -1.05      0.00     -1.05     -1.05     -1.05      0.50      1.00\n",
      "    rw[13]     -1.79      0.00     -1.79     -1.79     -1.79      0.50      1.00\n",
      "    rw[14]      1.41      0.00      1.41      1.41      1.41      0.50      1.00\n",
      "    rw[15]      1.73      0.00      1.73      1.73      1.73      0.50      1.00\n",
      "    rw[16]     -1.07      0.00     -1.07     -1.07     -1.07      0.50      1.00\n",
      "    rw[17]      1.03      0.00      1.03      1.03      1.03      0.50      1.00\n",
      "    rw[18]      1.69      0.00      1.69      1.69      1.69      0.50      1.00\n",
      "    rw[19]     -1.73      0.00     -1.73     -1.73     -1.73      0.50      1.00\n",
      "    rw[20]     -0.80      0.00     -0.80     -0.80     -0.80      0.50      1.00\n",
      "    rw[21]     -1.72      0.00     -1.72     -1.72     -1.72      0.50      1.00\n",
      "    rw[22]     -0.94      0.00     -0.94     -0.94     -0.94      0.50      1.00\n",
      "    rw[23]     -1.64      0.00     -1.64     -1.64     -1.64      0.50      1.00\n",
      "    rw[24]     -0.31      0.00     -0.31     -0.31     -0.31      0.50      1.00\n",
      "    rw[25]     -1.61      0.00     -1.61     -1.61     -1.61      0.50      1.00\n",
      "    rw[26]      0.34      0.00      0.34      0.34      0.34      0.50      1.00\n",
      "    rw[27]      0.33      0.00      0.33      0.33      0.33      0.50      1.00\n",
      "    rw[28]     -0.01      0.00     -0.01     -0.01     -0.01      4.01      1.50\n",
      "    rw[29]      1.94      0.00      1.94      1.94      1.94      0.50      1.00\n",
      "    rw[30]      0.02      0.00      0.02      0.02      0.02      4.27      1.16\n",
      "    rw[31]      0.99      0.00      0.99      0.99      0.99      0.50      1.00\n",
      "    rw[32]      1.50      0.00      1.50      1.50      1.50      0.50      1.00\n",
      "    rw[33]      0.84      0.00      0.84      0.84      0.84      0.50      1.00\n",
      "    rw[34]     -0.01      0.00     -0.01     -0.01     -0.01     11.02      1.00\n",
      "    rw[35]      1.37      0.00      1.37      1.37      1.37      0.50      1.00\n",
      "    rw[36]      0.71      0.00      0.71      0.71      0.71      0.50      1.00\n",
      "    rw[37]     -0.95      0.00     -0.95     -0.95     -0.95      0.50      1.00\n",
      "    rw[38]      0.95      0.00      0.95      0.95      0.95      0.50      1.00\n",
      "    rw[39]     -0.13      0.00     -0.13     -0.13     -0.13      0.50      1.00\n",
      "    rw[40]     -1.30      0.00     -1.30     -1.30     -1.30      0.50      1.00\n",
      "    rw[41]      1.59      0.00      1.59      1.59      1.59      0.50      1.00\n",
      "    rw[42]     -1.71      0.00     -1.71     -1.71     -1.71      0.50      1.00\n",
      "    rw[43]     -0.26      0.00     -0.26     -0.26     -0.26      0.50      1.00\n",
      "    rw[44]     -1.48      0.00     -1.48     -1.48     -1.48      0.50      1.00\n",
      "    rw[45]     -0.99      0.00     -0.99     -0.99     -0.99      0.50      1.00\n",
      "    rw[46]      0.59      0.00      0.59      0.59      0.59      0.50      1.00\n",
      "    rw[47]     -1.03      0.00     -1.03     -1.03     -1.03      0.50      1.00\n",
      "    rw[48]      1.33      0.00      1.33      1.33      1.33      0.50      1.00\n",
      "    rw[49]      0.96      0.00      0.96      0.96      0.96      0.50      1.00\n",
      "    rw[50]     -0.68      0.00     -0.68     -0.68     -0.68      0.50      1.00\n",
      "    rw[51]      0.49      0.00      0.49      0.49      0.49      0.50      1.00\n",
      "    rw[52]     -1.87      0.00     -1.87     -1.87     -1.87      0.50      1.00\n",
      "    rw[53]     -0.08      0.00     -0.08     -0.08     -0.08      0.50      1.00\n",
      "    rw[54]      1.31      0.00      1.31      1.31      1.31      0.50      1.00\n",
      "    rw[55]      1.35      0.00      1.35      1.35      1.35      0.50      1.00\n",
      "    rw[56]      0.49      0.00      0.49      0.49      0.49      0.50      1.00\n",
      "    rw[57]      0.34      0.00      0.34      0.34      0.34      0.50      1.00\n",
      "    rw[58]     -1.94      0.00     -1.94     -1.94     -1.94      0.50      1.00\n",
      "    rw[59]     -1.55      0.00     -1.55     -1.55     -1.55      0.50      1.00\n",
      "    rw[60]     -1.43      0.00     -1.43     -1.43     -1.43      0.50      1.00\n",
      "    rw[61]      1.77      0.00      1.77      1.77      1.77      0.50      1.00\n",
      "    rw[62]      0.24      0.00      0.24      0.24      0.24      0.50      1.00\n",
      "    rw[63]     -0.22      0.00     -0.22     -0.22     -0.22      0.50      1.00\n",
      "    rw[64]      0.81      0.00      0.81      0.81      0.81      0.50      1.00\n",
      "    rw[65]      0.72      0.00      0.72      0.72      0.72      0.50      1.00\n",
      "    rw[66]      0.51      0.00      0.51      0.51      0.51      0.50      1.00\n",
      "    rw[67]      0.03      0.00      0.03      0.03      0.03      3.97      1.30\n",
      "    rw[68]     -1.61      0.00     -1.61     -1.61     -1.61      0.50      1.00\n",
      "    rw[69]     -1.61      0.00     -1.61     -1.61     -1.61      0.50      1.00\n",
      "    rw[70]      1.84      0.00      1.84      1.84      1.84      0.50      1.00\n",
      "    rw[71]     -1.53      0.00     -1.53     -1.53     -1.53      0.50      1.00\n",
      "    rw[72]     -0.02      0.00     -0.02     -0.02     -0.02      7.66      1.44\n",
      "    rw[73]      1.73      0.00      1.73      1.73      1.73      0.50      1.00\n",
      "    rw[74]      1.49      0.00      1.49      1.49      1.49      0.50      1.00\n",
      "    rw[75]     -0.75      0.00     -0.75     -0.75     -0.75      0.50      1.00\n",
      "    rw[76]      0.74      0.00      0.74      0.74      0.74       nan       nan\n",
      "    rw[77]      0.47      0.00      0.47      0.47      0.47      0.50      1.00\n",
      "    rw[78]      0.68      0.00      0.68      0.68      0.68      0.50      1.00\n",
      "    rw[79]     -1.75      0.00     -1.75     -1.75     -1.75      0.50      1.00\n",
      "    rw[80]     -1.77      0.00     -1.77     -1.77     -1.77      0.50      1.00\n",
      "    rw[81]      1.50      0.00      1.50      1.50      1.50      0.50      1.00\n",
      "    rw[82]      1.17      0.00      1.17      1.17      1.17      0.50      1.00\n",
      "    rw[83]     -0.18      0.00     -0.18     -0.18     -0.18      0.50      1.00\n",
      "    rw[84]      0.31      0.00      0.31      0.31      0.31      0.50      1.00\n",
      "    rw[85]     -0.78      0.00     -0.78     -0.78     -0.78      0.50      1.00\n",
      "    rw[86]     -1.26      0.00     -1.26     -1.26     -1.26      0.50      1.00\n",
      "    rw[87]      1.63      0.00      1.63      1.63      1.63      0.50      1.00\n",
      "    rw[88]      1.51      0.00      1.51      1.51      1.51      0.50      1.00\n",
      "    rw[89]      0.32      0.00      0.32      0.32      0.32      0.50      1.00\n",
      "    rw[90]      1.15      0.00      1.15      1.15      1.15      0.50      1.00\n",
      "    rw[91]      1.51      0.00      1.51      1.51      1.51      0.50      1.00\n",
      "    rw[92]     -1.19      0.00     -1.19     -1.19     -1.19      0.50      1.00\n",
      "    rw[93]      0.76      0.00      0.76      0.76      0.76      0.50      1.00\n",
      "    rw[94]      1.70      0.00      1.70      1.70      1.70      0.50      1.00\n",
      "    rw[95]      0.55      0.00      0.55      0.55      0.55      0.50      1.00\n",
      "    rw[96]      1.29      0.00      1.29      1.29      1.29      0.50      1.00\n",
      "    rw[97]      1.49      0.00      1.49      1.49      1.49      0.50      1.00\n",
      "    rw[98]      0.99      0.00      0.99      0.99      0.99      0.50      1.00\n",
      "\n",
      "Number of divergences: 0\n"
     ]
    }
   ],
   "source": [
    "import jax\n",
    "import jax.numpy as np\n",
    "from jax.random import PRNGKey\n",
    "\n",
    "import numpyro\n",
    "import numpyro.distributions as dist\n",
    "\n",
    "import numpyro\n",
    "from numpyro.diagnostics import hpdi\n",
    "import numpyro.distributions as dist\n",
    "from numpyro import handlers\n",
    "from numpyro.infer import MCMC, NUTS\n",
    "from jax import random, vmap\n",
    "\n",
    "rng_key = random.PRNGKey(0)\n",
    "rng_key, rng_key_ = random.split(rng_key)\n",
    "\n",
    "num_warmup, num_samples = 1000, 2000\n",
    "\n",
    "#\n",
    "\n",
    "import numpy as onp\n",
    "\n",
    "def model(vals=None,t_future=0):\n",
    "    rw = numpyro.sample(\"rw\",dist.GaussianRandomWalk(scale=1, num_steps=len(vals)))\n",
    "    d0 = numpyro.sample(\"d0\",dist.Normal(vals[0],100))\n",
    "    i_mean = np.exp(np.cumsum(rw)+d0)\n",
    "    \n",
    "    numpyro.sample('obs', dist.Normal(i_mean, 10), obs=vals)\n",
    "\n",
    "kernel = NUTS(model)\n",
    "mcmc = MCMC(kernel, num_warmup, num_samples)\n",
    "mcmc.run(rng_key_, vals=vals[1:100])\n",
    "mcmc.print_summary()\n",
    "samples_1 = mcmc.get_samples()\n",
    "    \n",
    "    "
   ]
  },
  {
   "cell_type": "code",
   "execution_count": 85,
   "metadata": {},
   "outputs": [],
   "source": [
    "from numpyro.infer import Predictive\n",
    "\n",
    "rng_key, rng_key_ = random.split(rng_key)\n",
    "predictive = Predictive(model, samples_1)\n",
    "predictions = predictive(rng_key_, vals=vals[1:100],t_future=20)['obs']\n"
   ]
  },
  {
   "cell_type": "code",
   "execution_count": 87,
   "metadata": {},
   "outputs": [
    {
     "data": {
      "image/png": "[encoded data removed]",
      "text/plain": [
       "<Figure size 432x288 with 1 Axes>"
      ]
     },
     "metadata": {},
     "output_type": "display_data"
    }
   ],
   "source": [
    "mean_rw = np.mean(samples_1[\"rw\"],axis=0)\n",
    "mean_d0 = np.mean(samples_1[\"d0\"])\n",
    "i_mean = onp.exp(onp.cumsum(mean_rw)+onp.log(mean_d0))\n",
    "\n",
    "plt.plot(np.mean(predictions,axis=0))\n",
    "plt.plot(vals)\n",
    "plt.plot(i_mean)\n",
    "plt.show()"
   ]
  },
  {
   "cell_type": "code",
   "execution_count": null,
   "metadata": {},
   "outputs": [],
   "source": []
  },
  {
   "cell_type": "code",
   "execution_count": null,
   "metadata": {},
   "outputs": [],
   "source": []
  }
 ],
 "metadata": {
  "kernelspec": {
   "display_name": "Python 3",
   "language": "python",
   "name": "python3"
  },
  "language_info": {
   "codemirror_mode": {
    "name": "ipython",
    "version": 3
   },
   "file_extension": ".py",
   "mimetype": "text/x-python",
   "name": "python",
   "nbconvert_exporter": "python",
   "pygments_lexer": "ipython3",
   "version": "3.6.4"
  }
 },
 "nbformat": 4,
 "nbformat_minor": 2
}
