{
 "cells": [
  {
   "cell_type": "code",
   "execution_count": 14,
   "metadata": {},
   "outputs": [
    {
     "name": "stdout",
     "output_type": "stream",
     "text": [
      "tmp\n"
     ]
    }
   ],
   "source": [
    "#import jhu\n",
    "import pandas as pd\n",
    "import covid.util as util\n",
    "print (\"tmp\")"
   ]
  },
  {
   "cell_type": "code",
   "execution_count": 21,
   "metadata": {
    "scrolled": false
   },
   "outputs": [
    {
     "data": {
      "image/png": "[encoded data removed]",
      "text/plain": [
       "<Figure size 432x288 with 1 Axes>"
      ]
     },
     "metadata": {},
     "output_type": "display_data"
    }
   ],
   "source": [
    "import matplotlib.pyplot as plt\n",
    "US = util.jhu.load_us()\n",
    "start = pd.Timestamp('2020-03-15')\n",
    "\n",
    "US[0]['MA'][start:].plot(style='o-')\n",
    "plt.title('MA')\n",
    "plt.show()\n",
    "vals = US[0]['MA'][start:]['death'].values"
   ]
  },
  {
   "cell_type": "code",
   "execution_count": 37,
   "metadata": {},
   "outputs": [
    {
     "name": "stderr",
     "output_type": "stream",
     "text": [
      "sample: 100%|██████████| 3000/3000 [00:19<00:00, 151.50it/s, 15 steps of size 1.53e-01. acc. prob=0.92] \n"
     ]
    },
    {
     "name": "stdout",
     "output_type": "stream",
     "text": [
      "\n",
      "                mean       std    median      5.0%     95.0%     n_eff     r_hat\n",
      "        d0     -0.37      0.98     -0.36     -1.96      1.18   2318.04      1.00\n",
      "     rw[0]     -0.47      0.79     -0.46     -1.77      0.87   1852.64      1.00\n",
      "     rw[1]     -0.56      0.90     -0.57     -1.97      0.99   1619.08      1.00\n",
      "     rw[2]     -0.39      0.93     -0.38     -1.98      1.06   1652.06      1.00\n",
      "     rw[3]     -0.06      0.93     -0.08     -1.65      1.39   1708.37      1.00\n",
      "     rw[4]      0.25      0.93      0.25     -1.21      1.87   1835.97      1.00\n",
      "     rw[5]      0.49      0.98      0.52     -1.18      2.04   1750.51      1.00\n",
      "     rw[6]      0.66      0.98      0.66     -0.87      2.32   1516.52      1.00\n",
      "     rw[7]      0.73      0.99      0.74     -0.88      2.38   1649.52      1.00\n",
      "     rw[8]      0.72      1.02      0.71     -0.89      2.45   1348.26      1.00\n",
      "     rw[9]      0.69      1.02      0.67     -0.91      2.41   1449.11      1.00\n",
      "    rw[10]      0.64      1.01      0.63     -1.08      2.29   1516.11      1.00\n",
      "    rw[11]      0.55      1.07      0.51     -1.07      2.36   1458.55      1.00\n",
      "    rw[12]      0.49      1.06      0.50     -1.24      2.26   1320.13      1.00\n",
      "    rw[13]      0.41      1.06      0.38     -1.08      2.43   1383.25      1.00\n",
      "    rw[14]      0.33      1.06      0.34     -1.29      2.18   1368.25      1.00\n",
      "    rw[15]      0.31      1.03      0.29     -1.44      1.92   1301.73      1.00\n",
      "    rw[16]      0.30      1.04      0.31     -1.36      1.99   1348.68      1.00\n",
      "    rw[17]      0.27      1.09      0.25     -1.55      1.99   1307.81      1.00\n",
      "    rw[18]      0.24      1.09      0.25     -1.62      1.96   1475.96      1.00\n",
      "    rw[19]      0.21      1.06      0.20     -1.54      1.97   1546.09      1.00\n",
      "    rw[20]      0.21      1.05      0.23     -1.44      1.97   1519.86      1.00\n",
      "    rw[21]      0.17      1.04      0.17     -1.56      1.82   1303.30      1.00\n",
      "    rw[22]      0.17      1.04      0.16     -1.46      1.92   1294.49      1.00\n",
      "    rw[23]      0.16      1.03      0.13     -1.75      1.71   1437.69      1.00\n",
      "    rw[24]      0.13      1.02      0.14     -1.53      1.75   1543.87      1.00\n",
      "    rw[25]      0.13      1.01      0.11     -1.60      1.71   1482.25      1.00\n",
      "    rw[26]      0.13      1.05      0.12     -1.42      2.07   1525.41      1.00\n",
      "    rw[27]      0.14      1.06      0.14     -1.66      1.75   1900.94      1.00\n",
      "    rw[28]      0.11      1.07      0.12     -1.77      1.81   1776.25      1.00\n",
      "    rw[29]      0.10      1.04      0.12     -1.59      1.81   1680.46      1.00\n",
      "    rw[30]      0.11      1.03      0.09     -1.55      1.80   1696.76      1.00\n",
      "    rw[31]      0.14      1.07      0.11     -1.49      2.04   1524.83      1.00\n",
      "    rw[32]      0.12      1.07      0.07     -1.52      2.00   1465.69      1.00\n",
      "    rw[33]      0.10      1.04      0.09     -1.63      1.74   1313.15      1.00\n",
      "    rw[34]      0.10      1.04      0.10     -1.45      1.97   1425.63      1.00\n",
      "    rw[35]      0.09      1.02      0.10     -1.76      1.63   1548.34      1.00\n",
      "    rw[36]      0.11      1.05      0.11     -1.64      1.76   1563.43      1.00\n",
      "    rw[37]      0.11      1.07      0.12     -1.52      1.91   1273.69      1.00\n",
      "    rw[38]      0.10      1.05      0.07     -1.68      1.75   1468.41      1.00\n",
      "    rw[39]      0.10      1.02      0.11     -1.58      1.65   1473.82      1.00\n",
      "    rw[40]      0.09      1.05      0.07     -1.59      1.81   1395.20      1.00\n",
      "    rw[41]      0.06      1.08      0.04     -1.52      1.96   1600.55      1.00\n",
      "    rw[42]      0.06      1.06      0.06     -1.75      1.75   1493.15      1.00\n",
      "    rw[43]      0.06      1.06      0.06     -1.58      1.86   1332.56      1.00\n",
      "    rw[44]      0.04      1.04      0.05     -1.77      1.62   1271.35      1.00\n",
      "    rw[45]      0.01      1.06      0.04     -1.77      1.66   1335.59      1.00\n",
      "    rw[46]      0.03      1.04      0.04     -1.76      1.66   1393.14      1.00\n",
      "    rw[47]      0.02      1.04      0.02     -1.77      1.64   1416.38      1.00\n",
      "    rw[48]      0.00      1.04      0.00     -1.70      1.71   1485.00      1.00\n",
      "    rw[49]      0.01      1.07      0.00     -1.69      1.86   1388.08      1.00\n",
      "    rw[50]     -0.02      1.04     -0.04     -1.85      1.59   1395.72      1.00\n",
      "    rw[51]     -0.02      1.07     -0.01     -1.69      1.78   1166.42      1.00\n",
      "    rw[52]      0.02      1.06      0.01     -1.90      1.62   1092.87      1.00\n",
      "    rw[53]      0.02      1.04     -0.01     -1.75      1.65   1234.55      1.00\n",
      "    rw[54]      0.05      1.07      0.04     -1.71      1.75   1612.19      1.00\n",
      "    rw[55]      0.05      1.05      0.06     -1.55      1.86   1647.70      1.00\n",
      "    rw[56]      0.03      1.03      0.04     -1.77      1.70   1448.22      1.00\n",
      "    rw[57]      0.03      1.04      0.03     -1.77      1.59   1373.98      1.00\n",
      "    rw[58]      0.02      1.08      0.03     -1.83      1.65   1246.59      1.00\n",
      "    rw[59]      0.02      1.06      0.01     -1.80      1.66   1442.31      1.00\n",
      "    rw[60]      0.01      1.07     -0.01     -1.75      1.66   1526.81      1.00\n",
      "    rw[61]      0.01      1.08      0.02     -1.82      1.71   1544.08      1.00\n",
      "    rw[62]      0.02      1.05      0.02     -1.79      1.62   1500.99      1.00\n",
      "    rw[63]      0.06      1.07      0.07     -1.64      1.81   1375.99      1.00\n",
      "    rw[64]      0.06      1.07      0.05     -1.75      1.82   1810.02      1.00\n",
      "    rw[65]      0.04      1.08      0.01     -1.63      1.90   1484.04      1.00\n",
      "    rw[66]      0.04      1.07      0.03     -1.83      1.70   1440.48      1.00\n",
      "    rw[67]      0.03      1.08      0.02     -1.72      1.75   1549.06      1.00\n",
      "    rw[68]      0.04      1.06      0.02     -1.65      1.73   1628.36      1.00\n",
      "    rw[69]      0.02      1.05     -0.00     -1.64      1.82   1451.35      1.00\n",
      "    rw[70]      0.02      1.03      0.04     -1.65      1.70   1448.27      1.00\n",
      "    rw[71]      0.03      1.03      0.08     -1.69      1.72   1342.89      1.00\n",
      "    rw[72]     -0.00      1.06     -0.03     -1.71      1.76   1607.15      1.00\n",
      "    rw[73]     -0.01      1.06      0.03     -1.81      1.65   1349.69      1.00\n",
      "    rw[74]     -0.01      1.05     -0.00     -1.61      1.77   1462.23      1.00\n",
      "    rw[75]     -0.02      1.04     -0.01     -1.77      1.60   1510.78      1.00\n",
      "    rw[76]     -0.05      1.03     -0.06     -1.76      1.59   1505.46      1.00\n",
      "    rw[77]     -0.06      1.02     -0.04     -1.75      1.59   1491.69      1.00\n",
      "    rw[78]     -0.03      1.05      0.00     -1.99      1.56   1582.62      1.00\n",
      "    rw[79]     -0.04      1.07     -0.05     -1.74      1.68   1509.66      1.00\n",
      "    rw[80]     -0.00      1.05     -0.02     -1.73      1.69   1457.22      1.00\n",
      "    rw[81]      0.02      1.03      0.02     -1.57      1.87   1455.81      1.00\n",
      "    rw[82]      0.03      1.04      0.02     -1.64      1.78   1391.45      1.00\n",
      "    rw[83]      0.04      1.03      0.04     -1.62      1.76   1448.27      1.00\n",
      "    rw[84]      0.07      1.05      0.05     -1.46      1.99   1281.69      1.00\n",
      "    rw[85]      0.05      1.05      0.05     -1.60      1.81   1386.21      1.00\n",
      "    rw[86]      0.03      1.03      0.02     -1.67      1.65   1770.35      1.00\n",
      "    rw[87]      0.02      1.03      0.02     -1.58      1.73   1764.17      1.00\n",
      "    rw[88]      0.01      1.05      0.02     -1.73      1.70   1743.99      1.00\n",
      "    rw[89]      0.03      1.02      0.05     -1.61      1.70   1409.48      1.00\n",
      "    rw[90]     -0.00      1.05      0.02     -1.67      1.76   1631.86      1.00\n",
      "    rw[91]     -0.01      1.08     -0.03     -1.75      1.76   1692.56      1.00\n",
      "    rw[92]      0.01      1.08      0.02     -1.74      1.75   1573.80      1.00\n",
      "    rw[93]     -0.01      1.12      0.01     -1.69      1.94   1619.63      1.00\n",
      "    rw[94]     -0.01      1.22     -0.04     -2.11      1.90   1349.37      1.00\n",
      "    rw[95]     -0.03      1.28      0.02     -2.19      2.07   1211.09      1.00\n",
      "    rw[96]     -0.02      1.44     -0.01     -2.47      2.26    918.76      1.00\n",
      "    rw[97]     -0.02      1.66     -0.02     -2.80      2.56    971.28      1.00\n",
      "    rw[98]      0.00      1.89     -0.01     -2.98      3.19   1002.70      1.00\n",
      "\n",
      "Number of divergences: 0\n"
     ]
    }
   ],
   "source": [
    "import jax\n",
    "import jax.numpy as np\n",
    "from jax.random import PRNGKey\n",
    "\n",
    "import numpyro\n",
    "import numpyro.distributions as dist\n",
    "\n",
    "import numpyro\n",
    "from numpyro.diagnostics import hpdi\n",
    "import numpyro.distributions as dist\n",
    "from numpyro import handlers\n",
    "from numpyro.infer import MCMC, NUTS\n",
    "from jax import random, vmap\n",
    "\n",
    "rng_key = random.PRNGKey(0)\n",
    "rng_key, rng_key_ = random.split(rng_key)\n",
    "\n",
    "num_warmup, num_samples = 1000, 2000\n",
    "\n",
    "#\n",
    "\n",
    "import numpy as onp\n",
    "\n",
    "def model(vals=None,t_future=0):\n",
    "    rw = numpyro.sample(\"rw\",dist.GaussianRandomWalk(scale=1, num_steps=len(vals)))\n",
    "    d0 = numpyro.sample(\"d0\",dist.Normal(vals[0],1))\n",
    "    i_mean = np.cumsum(rw)+d0\n",
    "    \n",
    "    numpyro.sample('obs', dist.Normal(i_mean, 10), obs=onp.log(vals+.000001))\n",
    "\n",
    "kernel = NUTS(model)\n",
    "mcmc = MCMC(kernel, num_warmup, num_samples)\n",
    "mcmc.run(rng_key_, vals=vals[1:100])\n",
    "mcmc.print_summary()\n",
    "samples_1 = mcmc.get_samples()\n",
    "    \n",
    "    "
   ]
  },
  {
   "cell_type": "code",
   "execution_count": 39,
   "metadata": {},
   "outputs": [],
   "source": [
    "from numpyro.infer import Predictive\n",
    "\n",
    "rng_key, rng_key_ = random.split(rng_key)\n",
    "predictive = Predictive(model, samples_1)\n",
    "predictions = predictive(rng_key_, vals=vals[1:100],t_future=20)['obs']\n"
   ]
  },
  {
   "cell_type": "code",
   "execution_count": 74,
   "metadata": {},
   "outputs": [
    {
     "name": "stdout",
     "output_type": "stream",
     "text": [
      "(99,)\n"
     ]
    },
    {
     "data": {
      "image/png": "[encoded data removed]",
      "text/plain": [
       "<Figure size 432x288 with 1 Axes>"
      ]
     },
     "metadata": {},
     "output_type": "display_data"
    }
   ],
   "source": [
    " \n",
    "#plt.plot(samples_1['rw'])\n",
    "#plt.plot(np.mean(np.exp(predictions),axis=0))\n",
    "print (samples_1['rw'][samp,:].shape)\n",
    "for samp in range(200):\n",
    "    plt.plot(onp.exp(np.cumsum(samples_1['rw'][samp,:]) + samples_1['d0'][samp]))\n",
    "\n",
    "plt.plot(vals)\n",
    "#plt.plot(i_mean)\n",
    "plt.show()"
   ]
  },
  {
   "cell_type": "code",
   "execution_count": null,
   "metadata": {},
   "outputs": [],
   "source": []
  },
  {
   "cell_type": "code",
   "execution_count": null,
   "metadata": {},
   "outputs": [],
   "source": []
  },
  {
   "cell_type": "code",
   "execution_count": null,
   "metadata": {},
   "outputs": [],
   "source": []
  }
 ],
 "metadata": {
  "kernelspec": {
   "display_name": "Python 3",
   "language": "python",
   "name": "python3"
  },
  "language_info": {
   "codemirror_mode": {
    "name": "ipython",
    "version": 3
   },
   "file_extension": ".py",
   "mimetype": "text/x-python",
   "name": "python",
   "nbconvert_exporter": "python",
   "pygments_lexer": "ipython3",
   "version": "3.6.4"
  }
 },
 "nbformat": 4,
 "nbformat_minor": 2
}
