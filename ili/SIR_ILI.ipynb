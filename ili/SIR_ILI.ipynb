{
 "cells": [
  {
   "cell_type": "code",
   "execution_count": 1,
   "metadata": {},
   "outputs": [],
   "source": [
    "import argparse\n",
    "import os\n",
    "\n",
    "import matplotlib\n",
    "import matplotlib.pyplot as plt\n",
    "from matplotlib.pyplot import cm\n",
    "\n",
    "import jax\n",
    "from jax.experimental.ode import build_odeint\n",
    "import jax.numpy as np\n",
    "from jax.random import PRNGKey\n",
    "from jax import lax\n",
    "\n",
    "import numpyro\n",
    "import numpyro.distributions as dist\n",
    "from numpyro.examples.datasets import LYNXHARE, load_dataset\n",
    "from numpyro.infer import MCMC, NUTS, Predictive\n",
    "\n",
    "import pandas as pd"
   ]
  },
  {
   "cell_type": "markdown",
   "metadata": {},
   "source": [
    "## Deterministic model"
   ]
  },
  {
   "cell_type": "code",
   "execution_count": 85,
   "metadata": {},
   "outputs": [],
   "source": [
    "def dx_dt( x, t, beta, sigma, gamma):\n",
    "        \"\"\"\n",
    "        SEIR equations\n",
    "        \"\"\"        \n",
    "        S, E, I, R, C = x\n",
    "        N = S + E + I + R\n",
    "        \n",
    "        dS_dt = - beta * S * I / N\n",
    "        dE_dt = beta * S * I / N - sigma * E\n",
    "        dI_dt = sigma * E - gamma * I\n",
    "        dR_dt = gamma * I\n",
    "        dC_dt = sigma * E  # cumulative infections\n",
    "        \n",
    "        return np.stack([dS_dt, dE_dt, dI_dt, dR_dt, dC_dt])\n",
    "\n",
    "SIR_int = build_odeint(dx_dt, rtol=1e-5, atol=1e-3, mxstep=500)\n",
    "\n"
   ]
  },
  {
   "cell_type": "markdown",
   "metadata": {},
   "source": [
    "## Current model: SIR model for new cases with random parameters/observations, deterministic dynamics"
   ]
  },
  {
   "cell_type": "code",
   "execution_count": 92,
   "metadata": {
    "scrolled": false
   },
   "outputs": [],
   "source": [
    "def SIR_hybrid(T = 50,\n",
    "               N = 1e5,\n",
    "               T_future = 0,\n",
    "               duration_mean = 10,\n",
    "               R0_mean = 2.2,\n",
    "               gamma_shape = 5,\n",
    "               beta_shape = 5,\n",
    "               det_rate_mean = 0.3,\n",
    "               det_rate_conc = 100,\n",
    "               scale_down_mean = .1,\n",
    "               scale_down_conc = 100,\n",
    "               det_conc = 100,\n",
    "               rw_scale = 1e-2,\n",
    "               confirmed = None,\n",
    "               ili=None):\n",
    "\n",
    "        \n",
    "    # Sample initial fraction of infected individuals\n",
    "    I_init = numpyro.sample(\"I_init\", dist.Uniform(0, .02*N))\n",
    "    E_init = numpyro.sample(\"E_init\", dist.Uniform(0, .02*N))\n",
    "\n",
    "\n",
    "    # Sample parameters\n",
    "    gamma = numpyro.sample(\"gamma\", \n",
    "                           dist.Gamma(1/3.56, 1))\n",
    "    \n",
    "    beta = numpyro.sample(\"beta\", \n",
    "                          dist.Gamma(.95, 1))\n",
    "    \n",
    "    sigma = numpyro.sample(\"sigma\", \n",
    "                          dist.Gamma(1/3.59,1))\n",
    "    \n",
    "    \n",
    "    # Run simultation using ODE solve\n",
    "    x_init = N* np.array([1-I_init, E_init,I_init, 0.0, I_init])\n",
    "    t = np.arange(T, dtype='float32')\n",
    "    x = SIR_int(x_init, t, beta, gamma,sigma  )\n",
    "    numpyro.deterministic(\"x\", x)\n",
    "    \n",
    "    # Compute number of new infections in each time step\n",
    "    latent = x[:,3]   # total number infected\n",
    "    \n",
    "        \n",
    "    y = numpyro.sample(\"y\", dist.Normal(latent, .00001), obs = confirmed)\n",
    "    if T_future > 0:\n",
    "        \n",
    "        # Need to simulate for T_future + 1 time steps\n",
    "        t = np.arange(T_future + 1, dtype='float32')\n",
    "        x_future = SIR_int(x[-1,:], t, beta, gamma,sigma)\n",
    "        x_future = x_future[1:,:] # drop first time step, which is the same as the last time step from before\n",
    "        numpyro.deterministic(\"x_future\", x_future)\n",
    "        \n",
    "        latent = x_future[:,3]   # total number infected\n",
    "\n",
    "        \n",
    "\n",
    "        # Not sure if you want to sample this --- could be useful for forecasting?\n",
    "        y_future = numpyro.sample(\"y_future\", dist.Normal(latent, .00001))\n",
    "\n",
    "\n",
    "        \n",
    "        x = np.append(x, x_future)\n",
    "        y = np.append(y, y_future)\n",
    "    \n",
    "    \n",
    "    return x, y, det_rate"
   ]
  },
  {
   "cell_type": "code",
   "execution_count": 93,
   "metadata": {},
   "outputs": [
    {
     "data": {
      "image/png": "[encoded data removed]",
      "text/plain": [
       "<matplotlib.figure.Figure at 0x17cda7e10>"
      ]
     },
     "metadata": {},
     "output_type": "display_data"
    }
   ],
   "source": [
    "with numpyro.handlers.seed(rng_seed=1):\n",
    "    x, y, det_rate = SIR_hybrid(T=50, T_future=100, N=1e6, rw_scale=2e-2)\n",
    "    plt.plot(y)\n",
    "    \n",
    "# with numpyro.handlers.seed(rng_seed=1):\n",
    "#     x, y, det_rate = SIR_hybrid(T=100, N=1e6,rw_scale=1e-2)\n",
    "#     plt.plot(y)\n",
    "\n",
    "plt.show()"
   ]
  },
  {
   "cell_type": "code",
   "execution_count": 94,
   "metadata": {},
   "outputs": [],
   "source": [
    "def plot_samples(samples, plot_fields=['I', 'y'], T=None, t=None, ax=None):\n",
    "    \n",
    "    X = samples['x']\n",
    "    \n",
    "    if 'x_future' in samples:\n",
    "        X = np.append(X, samples['x_future'], axis=1)\n",
    "\n",
    "    T_data = X.shape[1]\n",
    "    if T is None or T > T_data:\n",
    "        T = T_data\n",
    "        \n",
    "    labels = {\n",
    "        'S': 'susceptible',\n",
    "        'I': 'infected',\n",
    "        'R': 'removed',\n",
    "        'C': 'confirmed'\n",
    "    }\n",
    "    \n",
    "    fields = {'S': X[:,:T,0],\n",
    "              'I': X[:,:T,1],\n",
    "              'R': X[:,:T,2],\n",
    "              'C': X[:,:T,3]}    \n",
    "    \n",
    "    if 'y' in samples:\n",
    "        y = samples['y']\n",
    "        \n",
    "        if 'y_future' in samples:\n",
    "            y = np.append(y, samples['y_future'], axis=1)\n",
    "\n",
    "        fields['y'] = y[:, :T]\n",
    "\n",
    "    fields = {k: fields[k] for k in plot_fields}\n",
    "\n",
    "    means = {k: v.mean(axis=0) for k, v in fields.items()}\n",
    "    \n",
    "    pred_intervals = {k: np.percentile(v, (10, 90), axis=0) for k, v in fields.items()}\n",
    "    \n",
    "    # Use pandas to plot means (for better date handling)\n",
    "    if t is None:\n",
    "        t = np.arange(T)        \n",
    "\n",
    "    df = pd.DataFrame(index=t, data=means)\n",
    "    df.plot(ax=ax)\n",
    "    \n",
    "    # Add prediction intervals\n",
    "    for k, pred_interval in pred_intervals.items():\n",
    "        ax = ax if ax is not None else plt.gca()\n",
    "        ax.fill_between(t, pred_interval[0,:], pred_interval[1,:], alpha=0.1)"
   ]
  },
  {
   "cell_type": "code",
   "execution_count": 103,
   "metadata": {},
   "outputs": [
    {
     "name": "stdout",
     "output_type": "stream",
     "text": [
      "[6.0000e+00 2.2000e+01 3.3000e+01 7.6000e+01 1.0500e+02 1.4200e+02\n",
      " 1.7300e+02 2.1600e+02 2.1600e+02 4.2100e+02 5.2400e+02 7.2900e+02\n",
      " 9.5000e+02 1.7000e+03 2.3820e+03 4.1520e+03 7.1020e+03 1.0356e+04\n",
      " 1.5168e+04 2.0875e+04 2.5665e+04 3.0811e+04 3.7258e+04 4.4635e+04\n",
      " 5.2318e+04 5.9513e+04 6.6497e+04 7.5795e+04]\n",
      "28\n",
      "[6.0000e-06 2.2000e-05 3.3000e-05 7.6000e-05 1.0500e-04 1.4200e-04\n",
      " 1.7300e-04 2.1600e-04 2.1600e-04 4.2100e-04 5.2400e-04 7.2900e-04\n",
      " 9.5000e-04 1.7000e-03 2.3820e-03 4.1520e-03 7.1020e-03 1.0356e-02\n",
      " 1.5168e-02 2.0875e-02 2.5665e-02 3.0811e-02 3.7258e-02 4.4635e-02\n",
      " 5.2318e-02 5.9513e-02 6.6497e-02 7.5795e-02]\n"
     ]
    }
   ],
   "source": [
    "import os\n",
    "import sys\n",
    "\n",
    "parent = os.path.dirname(os.path.abspath(os.curdir))\n",
    "sys.path.append(parent)\n",
    "\n",
    "import jhu\n",
    "import covidtracking\n",
    "\n",
    "US = covidtracking.load_us()\n",
    "\n",
    "pop = {\n",
    "    'tot': 3.27e8,\n",
    "    'MA': 6.902e6,\n",
    "    'WA': 7.536e6,\n",
    "    'NY': 8.632e6\n",
    "}\n",
    "\n",
    "place = 'NY'\n",
    "\n",
    "start = pd.Timestamp('2020-03-02')\n",
    "\n",
    "confirmed = US[place].confirmed[start:]\n",
    "confirmed_data = confirmed.to_numpy()\n",
    "#confirmed_data = np.append(confirmed_dat,np.repeat(np.nan,1))\n",
    "print (confirmed_data)\n",
    "T = len(confirmed_data)\n",
    "N = pop[place]\n",
    "#ili_dat = pd.read_csv('ili.csv')\n",
    "#ili_dat = pd.read_csv('stateili.csv')\n",
    "kernel = NUTS(SIR_hybrid)\n",
    "mcmc = MCMC(kernel, num_warmup=100, num_samples=500, num_chains=1)\n",
    "\n",
    "\n",
    "init = {\n",
    "    'I_init': 0.01*N,\n",
    "    'E_init':0.01*N,\n",
    "    'gamma': 1/3.5,\n",
    "    'beta': .95,\n",
    "    'det_rate' : 0.3,\n",
    "    'rw' : np.zeros(T),\n",
    "    'scale_down' : .0001,\n",
    "    'sigma': 1/3.5\n",
    "}\n",
    "\n",
    "\n",
    "print (T)\n",
    "print (confirmed_data/10**6)"
   ]
  },
  {
   "cell_type": "code",
   "execution_count": 104,
   "metadata": {},
   "outputs": [
    {
     "name": "stderr",
     "output_type": "stream",
     "text": [
      "sample: 100%|██████████| 600/600 [00:52<00:00, 11.37it/s, 1 steps of size 1.18e-38. acc. prob=0.00] \n"
     ]
    },
    {
     "name": "stdout",
     "output_type": "stream",
     "text": [
      "\n",
      "                mean       std    median      5.0%     95.0%     n_eff     r_hat\n",
      "    E_init 172639.98      0.00 172639.98 172639.98 172639.98       nan       nan\n",
      "    I_init 172639.98      0.00 172639.98 172639.98 172639.98       nan       nan\n",
      "      beta      2.59      0.00      2.59      2.59      2.59      0.50       nan\n",
      "     gamma      1.33      0.00      1.33      1.33      1.33       nan       nan\n",
      "     sigma      1.33      0.00      1.33      1.33      1.33       nan       nan\n",
      "\n",
      "Number of divergences: 500\n"
     ]
    }
   ],
   "source": [
    "mcmc.run(jax.random.PRNGKey(2), N=N, T=T, confirmed=confirmed_data, det_conc=100, rw_scale = 1e-2, init_params=init)\n",
    "mcmc.print_summary()\n",
    "mcmc_samples = mcmc.get_samples()"
   ]
  },
  {
   "cell_type": "raw",
   "metadata": {},
   "source": [
    "\n",
    "\n",
    "print T\n"
   ]
  },
  {
   "cell_type": "code",
   "execution_count": 98,
   "metadata": {},
   "outputs": [
    {
     "name": "stdout",
     "output_type": "stream",
     "text": [
      "28\n"
     ]
    }
   ],
   "source": [
    "print (T)\n",
    "T_future=7*4\n",
    "post_pred = Predictive(SIR_hybrid, posterior_samples = mcmc_samples)\n",
    "post_pred_samples = post_pred(PRNGKey(2), T=T, T_future=T_future, N=N)\n",
    "post_pred_samples['y'] = post_pred_samples['y']"
   ]
  },
  {
   "cell_type": "code",
   "execution_count": 100,
   "metadata": {
    "scrolled": false
   },
   "outputs": [
    {
     "data": {
      "image/png": "[encoded data removed]",
      "text/plain": [
       "<matplotlib.figure.Figure at 0x1b11accf8>"
      ]
     },
     "metadata": {},
     "output_type": "display_data"
    }
   ],
   "source": [
    "scale = 'notlog'\n",
    "\n",
    "\n",
    "\n",
    "for T in [7*8]:\n",
    "    \n",
    "    t = pd.date_range(start=start, periods=T, freq='D')\n",
    "    \n",
    "    fig, ax = plt.subplots(figsize=(14,5))\n",
    "    plot_samples(post_pred_samples, T=T, t=t, ax=ax, plot_fields=[ 'y'])\n",
    "    plt.title('Posterior predictive')\n",
    "\n",
    "    ili = pd.Series(confirmed_data, index=pd.date_range(start=start, periods=len(confirmed_data), freq='D'))\n",
    "    ili.plot(style='o')\n",
    "    \n",
    "    if scale == 'log':\n",
    "        plt.yscale('log')\n",
    "        \n",
    "    #filename = f'figs/{place}_predictive_scale_{scale}_T_{T}.pdf'\n",
    "    #plt.savefig(filename)\n",
    "    plt.show()\n",
    "    "
   ]
  },
  {
   "cell_type": "code",
   "execution_count": null,
   "metadata": {},
   "outputs": [],
   "source": [
    "df"
   ]
  },
  {
   "cell_type": "code",
   "execution_count": null,
   "metadata": {},
   "outputs": [],
   "source": []
  }
 ],
 "metadata": {
  "kernelspec": {
   "display_name": "Python 3",
   "language": "python",
   "name": "python3"
  },
  "language_info": {
   "codemirror_mode": {
    "name": "ipython",
    "version": 3
   },
   "file_extension": ".py",
   "mimetype": "text/x-python",
   "name": "python",
   "nbconvert_exporter": "python",
   "pygments_lexer": "ipython3",
   "version": "3.6.4"
  }
 },
 "nbformat": 4,
 "nbformat_minor": 2
}
